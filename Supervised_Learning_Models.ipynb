{
  "nbformat": 4,
  "nbformat_minor": 0,
  "metadata": {
    "colab": {
      "provenance": []
    },
    "kernelspec": {
      "name": "python3",
      "display_name": "Python 3"
    },
    "language_info": {
      "name": "python"
    }
  },
  "cells": [
    {
      "cell_type": "code",
      "execution_count": null,
      "metadata": {
        "id": "F-yt9WfyfnM9"
      },
      "outputs": [],
      "source": [
        "import pandas as pd # can read the csv file , pre processing , remove null value\n",
        "import numpy as np # any numerical data and get mean etc\n",
        "import seaborn as sns # used to visualize data\n",
        "import matplotlib.pyplot as plt\n",
        "import plotly.express as px\n",
        "from sklearn.preprocessing import StandardScaler #for all ML terms and lib\n",
        "from sklearn.model_selection import train_test_split\n",
        "from sklearn.linear_model import LogisticRegression\n",
        "from sklearn.metrics import accuracy_score , classification_report , confusion_matrix\n",
        "from sklearn.tree import DecisionTreeClassifier\n",
        "from sklearn.ensemble import RandomForestClassifier\n",
        "from sklearn.neighbors import KNeighborsClassifier\n",
        "from sklearn import svm,datasets\n",
        "from sklearn.svm import SVC\n",
        "from sklearn.model_selection import KFold, cross_val_score,StratifiedKFold,LeaveOneOut,ShuffleSplit\n",
        "from sklearn import datasets"
      ]
    },
    {
      "cell_type": "code",
      "source": [
        "df = pd.read_csv(\"/content/water_potability.csv\")\n",
        "df"
      ],
      "metadata": {
        "colab": {
          "base_uri": "https://localhost:8080/",
          "height": 424
        },
        "id": "GXdefPFn5jUr",
        "outputId": "23e4afb9-652e-4594-f0a1-a8a623d70ca8"
      },
      "execution_count": null,
      "outputs": [
        {
          "output_type": "execute_result",
          "data": {
            "text/plain": [
              "            ph    Hardness        Solids  Chloramines     Sulfate  \\\n",
              "0          NaN  204.890456  20791.318980     7.300212  368.516441   \n",
              "1     3.716080  129.422921  18630.057860     6.635246         NaN   \n",
              "2     8.099124  224.236259  19909.541730     9.275884         NaN   \n",
              "3     8.316766  214.373394  22018.417440     8.059332  356.886136   \n",
              "4     9.092223  181.101509  17978.986340     6.546600  310.135738   \n",
              "...        ...         ...           ...          ...         ...   \n",
              "1499  6.149185  150.563593  20596.391230     6.906911         NaN   \n",
              "1500  7.080446  196.658947  36966.853320     8.986784  294.315733   \n",
              "1501  6.628427  215.245532  18059.330850     6.931787         NaN   \n",
              "1502  4.704698  160.211822   5128.457646     8.283069  357.731077   \n",
              "1503  7.976901  234.779380  15360.835070     5.736027  377.178119   \n",
              "\n",
              "      Conductivity  Organic_carbon  Trihalomethanes  Turbidity  Potability  \n",
              "0       564.308654       10.379783        86.990970   2.963135           0  \n",
              "1       592.885359       15.180013        56.329076   4.500656           0  \n",
              "2       418.606213       16.868637        66.420093   3.055934           0  \n",
              "3       363.266516       18.436525       100.341674   4.628771           0  \n",
              "4       398.410813       11.558279        31.997993   4.075075           0  \n",
              "...            ...             ...              ...        ...         ...  \n",
              "1499    431.651283       12.829380        64.394907   4.275615           1  \n",
              "1500    530.052919       13.822057        85.777222   2.664946           1  \n",
              "1501    374.455062       11.621074        77.940822   3.405279           1  \n",
              "1502    344.693740       14.219532        34.288413   4.109925           1  \n",
              "1503    613.633548       14.191274        48.915881   4.753608           1  \n",
              "\n",
              "[1504 rows x 10 columns]"
            ],
            "text/html": [
              "\n",
              "  <div id=\"df-71551c70-6e99-443b-a2b6-411b3056a870\">\n",
              "    <div class=\"colab-df-container\">\n",
              "      <div>\n",
              "<style scoped>\n",
              "    .dataframe tbody tr th:only-of-type {\n",
              "        vertical-align: middle;\n",
              "    }\n",
              "\n",
              "    .dataframe tbody tr th {\n",
              "        vertical-align: top;\n",
              "    }\n",
              "\n",
              "    .dataframe thead th {\n",
              "        text-align: right;\n",
              "    }\n",
              "</style>\n",
              "<table border=\"1\" class=\"dataframe\">\n",
              "  <thead>\n",
              "    <tr style=\"text-align: right;\">\n",
              "      <th></th>\n",
              "      <th>ph</th>\n",
              "      <th>Hardness</th>\n",
              "      <th>Solids</th>\n",
              "      <th>Chloramines</th>\n",
              "      <th>Sulfate</th>\n",
              "      <th>Conductivity</th>\n",
              "      <th>Organic_carbon</th>\n",
              "      <th>Trihalomethanes</th>\n",
              "      <th>Turbidity</th>\n",
              "      <th>Potability</th>\n",
              "    </tr>\n",
              "  </thead>\n",
              "  <tbody>\n",
              "    <tr>\n",
              "      <th>0</th>\n",
              "      <td>NaN</td>\n",
              "      <td>204.890456</td>\n",
              "      <td>20791.318980</td>\n",
              "      <td>7.300212</td>\n",
              "      <td>368.516441</td>\n",
              "      <td>564.308654</td>\n",
              "      <td>10.379783</td>\n",
              "      <td>86.990970</td>\n",
              "      <td>2.963135</td>\n",
              "      <td>0</td>\n",
              "    </tr>\n",
              "    <tr>\n",
              "      <th>1</th>\n",
              "      <td>3.716080</td>\n",
              "      <td>129.422921</td>\n",
              "      <td>18630.057860</td>\n",
              "      <td>6.635246</td>\n",
              "      <td>NaN</td>\n",
              "      <td>592.885359</td>\n",
              "      <td>15.180013</td>\n",
              "      <td>56.329076</td>\n",
              "      <td>4.500656</td>\n",
              "      <td>0</td>\n",
              "    </tr>\n",
              "    <tr>\n",
              "      <th>2</th>\n",
              "      <td>8.099124</td>\n",
              "      <td>224.236259</td>\n",
              "      <td>19909.541730</td>\n",
              "      <td>9.275884</td>\n",
              "      <td>NaN</td>\n",
              "      <td>418.606213</td>\n",
              "      <td>16.868637</td>\n",
              "      <td>66.420093</td>\n",
              "      <td>3.055934</td>\n",
              "      <td>0</td>\n",
              "    </tr>\n",
              "    <tr>\n",
              "      <th>3</th>\n",
              "      <td>8.316766</td>\n",
              "      <td>214.373394</td>\n",
              "      <td>22018.417440</td>\n",
              "      <td>8.059332</td>\n",
              "      <td>356.886136</td>\n",
              "      <td>363.266516</td>\n",
              "      <td>18.436525</td>\n",
              "      <td>100.341674</td>\n",
              "      <td>4.628771</td>\n",
              "      <td>0</td>\n",
              "    </tr>\n",
              "    <tr>\n",
              "      <th>4</th>\n",
              "      <td>9.092223</td>\n",
              "      <td>181.101509</td>\n",
              "      <td>17978.986340</td>\n",
              "      <td>6.546600</td>\n",
              "      <td>310.135738</td>\n",
              "      <td>398.410813</td>\n",
              "      <td>11.558279</td>\n",
              "      <td>31.997993</td>\n",
              "      <td>4.075075</td>\n",
              "      <td>0</td>\n",
              "    </tr>\n",
              "    <tr>\n",
              "      <th>...</th>\n",
              "      <td>...</td>\n",
              "      <td>...</td>\n",
              "      <td>...</td>\n",
              "      <td>...</td>\n",
              "      <td>...</td>\n",
              "      <td>...</td>\n",
              "      <td>...</td>\n",
              "      <td>...</td>\n",
              "      <td>...</td>\n",
              "      <td>...</td>\n",
              "    </tr>\n",
              "    <tr>\n",
              "      <th>1499</th>\n",
              "      <td>6.149185</td>\n",
              "      <td>150.563593</td>\n",
              "      <td>20596.391230</td>\n",
              "      <td>6.906911</td>\n",
              "      <td>NaN</td>\n",
              "      <td>431.651283</td>\n",
              "      <td>12.829380</td>\n",
              "      <td>64.394907</td>\n",
              "      <td>4.275615</td>\n",
              "      <td>1</td>\n",
              "    </tr>\n",
              "    <tr>\n",
              "      <th>1500</th>\n",
              "      <td>7.080446</td>\n",
              "      <td>196.658947</td>\n",
              "      <td>36966.853320</td>\n",
              "      <td>8.986784</td>\n",
              "      <td>294.315733</td>\n",
              "      <td>530.052919</td>\n",
              "      <td>13.822057</td>\n",
              "      <td>85.777222</td>\n",
              "      <td>2.664946</td>\n",
              "      <td>1</td>\n",
              "    </tr>\n",
              "    <tr>\n",
              "      <th>1501</th>\n",
              "      <td>6.628427</td>\n",
              "      <td>215.245532</td>\n",
              "      <td>18059.330850</td>\n",
              "      <td>6.931787</td>\n",
              "      <td>NaN</td>\n",
              "      <td>374.455062</td>\n",
              "      <td>11.621074</td>\n",
              "      <td>77.940822</td>\n",
              "      <td>3.405279</td>\n",
              "      <td>1</td>\n",
              "    </tr>\n",
              "    <tr>\n",
              "      <th>1502</th>\n",
              "      <td>4.704698</td>\n",
              "      <td>160.211822</td>\n",
              "      <td>5128.457646</td>\n",
              "      <td>8.283069</td>\n",
              "      <td>357.731077</td>\n",
              "      <td>344.693740</td>\n",
              "      <td>14.219532</td>\n",
              "      <td>34.288413</td>\n",
              "      <td>4.109925</td>\n",
              "      <td>1</td>\n",
              "    </tr>\n",
              "    <tr>\n",
              "      <th>1503</th>\n",
              "      <td>7.976901</td>\n",
              "      <td>234.779380</td>\n",
              "      <td>15360.835070</td>\n",
              "      <td>5.736027</td>\n",
              "      <td>377.178119</td>\n",
              "      <td>613.633548</td>\n",
              "      <td>14.191274</td>\n",
              "      <td>48.915881</td>\n",
              "      <td>4.753608</td>\n",
              "      <td>1</td>\n",
              "    </tr>\n",
              "  </tbody>\n",
              "</table>\n",
              "<p>1504 rows × 10 columns</p>\n",
              "</div>\n",
              "      <button class=\"colab-df-convert\" onclick=\"convertToInteractive('df-71551c70-6e99-443b-a2b6-411b3056a870')\"\n",
              "              title=\"Convert this dataframe to an interactive table.\"\n",
              "              style=\"display:none;\">\n",
              "        \n",
              "  <svg xmlns=\"http://www.w3.org/2000/svg\" height=\"24px\"viewBox=\"0 0 24 24\"\n",
              "       width=\"24px\">\n",
              "    <path d=\"M0 0h24v24H0V0z\" fill=\"none\"/>\n",
              "    <path d=\"M18.56 5.44l.94 2.06.94-2.06 2.06-.94-2.06-.94-.94-2.06-.94 2.06-2.06.94zm-11 1L8.5 8.5l.94-2.06 2.06-.94-2.06-.94L8.5 2.5l-.94 2.06-2.06.94zm10 10l.94 2.06.94-2.06 2.06-.94-2.06-.94-.94-2.06-.94 2.06-2.06.94z\"/><path d=\"M17.41 7.96l-1.37-1.37c-.4-.4-.92-.59-1.43-.59-.52 0-1.04.2-1.43.59L10.3 9.45l-7.72 7.72c-.78.78-.78 2.05 0 2.83L4 21.41c.39.39.9.59 1.41.59.51 0 1.02-.2 1.41-.59l7.78-7.78 2.81-2.81c.8-.78.8-2.07 0-2.86zM5.41 20L4 18.59l7.72-7.72 1.47 1.35L5.41 20z\"/>\n",
              "  </svg>\n",
              "      </button>\n",
              "      \n",
              "  <style>\n",
              "    .colab-df-container {\n",
              "      display:flex;\n",
              "      flex-wrap:wrap;\n",
              "      gap: 12px;\n",
              "    }\n",
              "\n",
              "    .colab-df-convert {\n",
              "      background-color: #E8F0FE;\n",
              "      border: none;\n",
              "      border-radius: 50%;\n",
              "      cursor: pointer;\n",
              "      display: none;\n",
              "      fill: #1967D2;\n",
              "      height: 32px;\n",
              "      padding: 0 0 0 0;\n",
              "      width: 32px;\n",
              "    }\n",
              "\n",
              "    .colab-df-convert:hover {\n",
              "      background-color: #E2EBFA;\n",
              "      box-shadow: 0px 1px 2px rgba(60, 64, 67, 0.3), 0px 1px 3px 1px rgba(60, 64, 67, 0.15);\n",
              "      fill: #174EA6;\n",
              "    }\n",
              "\n",
              "    [theme=dark] .colab-df-convert {\n",
              "      background-color: #3B4455;\n",
              "      fill: #D2E3FC;\n",
              "    }\n",
              "\n",
              "    [theme=dark] .colab-df-convert:hover {\n",
              "      background-color: #434B5C;\n",
              "      box-shadow: 0px 1px 3px 1px rgba(0, 0, 0, 0.15);\n",
              "      filter: drop-shadow(0px 1px 2px rgba(0, 0, 0, 0.3));\n",
              "      fill: #FFFFFF;\n",
              "    }\n",
              "  </style>\n",
              "\n",
              "      <script>\n",
              "        const buttonEl =\n",
              "          document.querySelector('#df-71551c70-6e99-443b-a2b6-411b3056a870 button.colab-df-convert');\n",
              "        buttonEl.style.display =\n",
              "          google.colab.kernel.accessAllowed ? 'block' : 'none';\n",
              "\n",
              "        async function convertToInteractive(key) {\n",
              "          const element = document.querySelector('#df-71551c70-6e99-443b-a2b6-411b3056a870');\n",
              "          const dataTable =\n",
              "            await google.colab.kernel.invokeFunction('convertToInteractive',\n",
              "                                                     [key], {});\n",
              "          if (!dataTable) return;\n",
              "\n",
              "          const docLinkHtml = 'Like what you see? Visit the ' +\n",
              "            '<a target=\"_blank\" href=https://colab.research.google.com/notebooks/data_table.ipynb>data table notebook</a>'\n",
              "            + ' to learn more about interactive tables.';\n",
              "          element.innerHTML = '';\n",
              "          dataTable['output_type'] = 'display_data';\n",
              "          await google.colab.output.renderOutput(dataTable, element);\n",
              "          const docLink = document.createElement('div');\n",
              "          docLink.innerHTML = docLinkHtml;\n",
              "          element.appendChild(docLink);\n",
              "        }\n",
              "      </script>\n",
              "    </div>\n",
              "  </div>\n",
              "  "
            ]
          },
          "metadata": {},
          "execution_count": 479
        }
      ]
    },
    {
      "cell_type": "code",
      "source": [
        "df.columns\n"
      ],
      "metadata": {
        "colab": {
          "base_uri": "https://localhost:8080/"
        },
        "id": "mEXWZ4OH5kC8",
        "outputId": "c3577509-c929-45bb-bbea-829fc8b25150"
      },
      "execution_count": null,
      "outputs": [
        {
          "output_type": "execute_result",
          "data": {
            "text/plain": [
              "Index(['ph', 'Hardness', 'Solids', 'Chloramines', 'Sulfate', 'Conductivity',\n",
              "       'Organic_carbon', 'Trihalomethanes', 'Turbidity', 'Potability'],\n",
              "      dtype='object')"
            ]
          },
          "metadata": {},
          "execution_count": 480
        }
      ]
    },
    {
      "cell_type": "markdown",
      "source": [
        "Pre Processing"
      ],
      "metadata": {
        "id": "VrsBeYNO6N6h"
      }
    },
    {
      "cell_type": "code",
      "source": [
        "df.describe()\n",
        "#25% data what we get mean etc\n",
        "#null"
      ],
      "metadata": {
        "colab": {
          "base_uri": "https://localhost:8080/",
          "height": 300
        },
        "id": "4RABy54_6SFr",
        "outputId": "d7df7333-b852-428c-c797-dcad9ba5f27e"
      },
      "execution_count": null,
      "outputs": [
        {
          "output_type": "execute_result",
          "data": {
            "text/plain": [
              "                ph     Hardness        Solids  Chloramines      Sulfate  \\\n",
              "count  1296.000000  1504.000000   1504.000000  1504.000000  1144.000000   \n",
              "mean      7.071248   196.505047  22032.769448     7.074701   331.940037   \n",
              "std       1.528015    32.261028   8980.026551     1.616292    43.693084   \n",
              "min       0.227499    47.432000   1372.091043     0.530351   129.000000   \n",
              "25%       6.115523   177.091694  15489.233433     5.983098   305.796135   \n",
              "50%       7.016084   196.654385  20841.742510     7.048265   330.896608   \n",
              "75%       7.987806   215.505789  27581.218320     8.112651   359.298320   \n",
              "max      13.175402   323.124000  56488.672410    13.127000   476.539717   \n",
              "\n",
              "       Conductivity  Organic_carbon  Trihalomethanes    Turbidity   Potability  \n",
              "count   1504.000000     1504.000000      1432.000000  1504.000000  1504.000000  \n",
              "mean     425.567020       14.256470        67.262746     3.959677     0.430851  \n",
              "std       80.240116        3.300428        16.126828     0.788224     0.495360  \n",
              "min      181.483754        2.200000         8.175876     1.492207     0.000000  \n",
              "25%      364.067188       11.974058        57.232130     3.424484     0.000000  \n",
              "50%      420.177988       14.181933        67.221231     3.963862     0.000000  \n",
              "75%      480.904432       16.524426        77.921066     4.496852     1.000000  \n",
              "max      695.369528       28.300000       120.030077     6.739000     1.000000  "
            ],
            "text/html": [
              "\n",
              "  <div id=\"df-a5d743ad-2740-4285-9c0f-4146f43102cb\">\n",
              "    <div class=\"colab-df-container\">\n",
              "      <div>\n",
              "<style scoped>\n",
              "    .dataframe tbody tr th:only-of-type {\n",
              "        vertical-align: middle;\n",
              "    }\n",
              "\n",
              "    .dataframe tbody tr th {\n",
              "        vertical-align: top;\n",
              "    }\n",
              "\n",
              "    .dataframe thead th {\n",
              "        text-align: right;\n",
              "    }\n",
              "</style>\n",
              "<table border=\"1\" class=\"dataframe\">\n",
              "  <thead>\n",
              "    <tr style=\"text-align: right;\">\n",
              "      <th></th>\n",
              "      <th>ph</th>\n",
              "      <th>Hardness</th>\n",
              "      <th>Solids</th>\n",
              "      <th>Chloramines</th>\n",
              "      <th>Sulfate</th>\n",
              "      <th>Conductivity</th>\n",
              "      <th>Organic_carbon</th>\n",
              "      <th>Trihalomethanes</th>\n",
              "      <th>Turbidity</th>\n",
              "      <th>Potability</th>\n",
              "    </tr>\n",
              "  </thead>\n",
              "  <tbody>\n",
              "    <tr>\n",
              "      <th>count</th>\n",
              "      <td>1296.000000</td>\n",
              "      <td>1504.000000</td>\n",
              "      <td>1504.000000</td>\n",
              "      <td>1504.000000</td>\n",
              "      <td>1144.000000</td>\n",
              "      <td>1504.000000</td>\n",
              "      <td>1504.000000</td>\n",
              "      <td>1432.000000</td>\n",
              "      <td>1504.000000</td>\n",
              "      <td>1504.000000</td>\n",
              "    </tr>\n",
              "    <tr>\n",
              "      <th>mean</th>\n",
              "      <td>7.071248</td>\n",
              "      <td>196.505047</td>\n",
              "      <td>22032.769448</td>\n",
              "      <td>7.074701</td>\n",
              "      <td>331.940037</td>\n",
              "      <td>425.567020</td>\n",
              "      <td>14.256470</td>\n",
              "      <td>67.262746</td>\n",
              "      <td>3.959677</td>\n",
              "      <td>0.430851</td>\n",
              "    </tr>\n",
              "    <tr>\n",
              "      <th>std</th>\n",
              "      <td>1.528015</td>\n",
              "      <td>32.261028</td>\n",
              "      <td>8980.026551</td>\n",
              "      <td>1.616292</td>\n",
              "      <td>43.693084</td>\n",
              "      <td>80.240116</td>\n",
              "      <td>3.300428</td>\n",
              "      <td>16.126828</td>\n",
              "      <td>0.788224</td>\n",
              "      <td>0.495360</td>\n",
              "    </tr>\n",
              "    <tr>\n",
              "      <th>min</th>\n",
              "      <td>0.227499</td>\n",
              "      <td>47.432000</td>\n",
              "      <td>1372.091043</td>\n",
              "      <td>0.530351</td>\n",
              "      <td>129.000000</td>\n",
              "      <td>181.483754</td>\n",
              "      <td>2.200000</td>\n",
              "      <td>8.175876</td>\n",
              "      <td>1.492207</td>\n",
              "      <td>0.000000</td>\n",
              "    </tr>\n",
              "    <tr>\n",
              "      <th>25%</th>\n",
              "      <td>6.115523</td>\n",
              "      <td>177.091694</td>\n",
              "      <td>15489.233433</td>\n",
              "      <td>5.983098</td>\n",
              "      <td>305.796135</td>\n",
              "      <td>364.067188</td>\n",
              "      <td>11.974058</td>\n",
              "      <td>57.232130</td>\n",
              "      <td>3.424484</td>\n",
              "      <td>0.000000</td>\n",
              "    </tr>\n",
              "    <tr>\n",
              "      <th>50%</th>\n",
              "      <td>7.016084</td>\n",
              "      <td>196.654385</td>\n",
              "      <td>20841.742510</td>\n",
              "      <td>7.048265</td>\n",
              "      <td>330.896608</td>\n",
              "      <td>420.177988</td>\n",
              "      <td>14.181933</td>\n",
              "      <td>67.221231</td>\n",
              "      <td>3.963862</td>\n",
              "      <td>0.000000</td>\n",
              "    </tr>\n",
              "    <tr>\n",
              "      <th>75%</th>\n",
              "      <td>7.987806</td>\n",
              "      <td>215.505789</td>\n",
              "      <td>27581.218320</td>\n",
              "      <td>8.112651</td>\n",
              "      <td>359.298320</td>\n",
              "      <td>480.904432</td>\n",
              "      <td>16.524426</td>\n",
              "      <td>77.921066</td>\n",
              "      <td>4.496852</td>\n",
              "      <td>1.000000</td>\n",
              "    </tr>\n",
              "    <tr>\n",
              "      <th>max</th>\n",
              "      <td>13.175402</td>\n",
              "      <td>323.124000</td>\n",
              "      <td>56488.672410</td>\n",
              "      <td>13.127000</td>\n",
              "      <td>476.539717</td>\n",
              "      <td>695.369528</td>\n",
              "      <td>28.300000</td>\n",
              "      <td>120.030077</td>\n",
              "      <td>6.739000</td>\n",
              "      <td>1.000000</td>\n",
              "    </tr>\n",
              "  </tbody>\n",
              "</table>\n",
              "</div>\n",
              "      <button class=\"colab-df-convert\" onclick=\"convertToInteractive('df-a5d743ad-2740-4285-9c0f-4146f43102cb')\"\n",
              "              title=\"Convert this dataframe to an interactive table.\"\n",
              "              style=\"display:none;\">\n",
              "        \n",
              "  <svg xmlns=\"http://www.w3.org/2000/svg\" height=\"24px\"viewBox=\"0 0 24 24\"\n",
              "       width=\"24px\">\n",
              "    <path d=\"M0 0h24v24H0V0z\" fill=\"none\"/>\n",
              "    <path d=\"M18.56 5.44l.94 2.06.94-2.06 2.06-.94-2.06-.94-.94-2.06-.94 2.06-2.06.94zm-11 1L8.5 8.5l.94-2.06 2.06-.94-2.06-.94L8.5 2.5l-.94 2.06-2.06.94zm10 10l.94 2.06.94-2.06 2.06-.94-2.06-.94-.94-2.06-.94 2.06-2.06.94z\"/><path d=\"M17.41 7.96l-1.37-1.37c-.4-.4-.92-.59-1.43-.59-.52 0-1.04.2-1.43.59L10.3 9.45l-7.72 7.72c-.78.78-.78 2.05 0 2.83L4 21.41c.39.39.9.59 1.41.59.51 0 1.02-.2 1.41-.59l7.78-7.78 2.81-2.81c.8-.78.8-2.07 0-2.86zM5.41 20L4 18.59l7.72-7.72 1.47 1.35L5.41 20z\"/>\n",
              "  </svg>\n",
              "      </button>\n",
              "      \n",
              "  <style>\n",
              "    .colab-df-container {\n",
              "      display:flex;\n",
              "      flex-wrap:wrap;\n",
              "      gap: 12px;\n",
              "    }\n",
              "\n",
              "    .colab-df-convert {\n",
              "      background-color: #E8F0FE;\n",
              "      border: none;\n",
              "      border-radius: 50%;\n",
              "      cursor: pointer;\n",
              "      display: none;\n",
              "      fill: #1967D2;\n",
              "      height: 32px;\n",
              "      padding: 0 0 0 0;\n",
              "      width: 32px;\n",
              "    }\n",
              "\n",
              "    .colab-df-convert:hover {\n",
              "      background-color: #E2EBFA;\n",
              "      box-shadow: 0px 1px 2px rgba(60, 64, 67, 0.3), 0px 1px 3px 1px rgba(60, 64, 67, 0.15);\n",
              "      fill: #174EA6;\n",
              "    }\n",
              "\n",
              "    [theme=dark] .colab-df-convert {\n",
              "      background-color: #3B4455;\n",
              "      fill: #D2E3FC;\n",
              "    }\n",
              "\n",
              "    [theme=dark] .colab-df-convert:hover {\n",
              "      background-color: #434B5C;\n",
              "      box-shadow: 0px 1px 3px 1px rgba(0, 0, 0, 0.15);\n",
              "      filter: drop-shadow(0px 1px 2px rgba(0, 0, 0, 0.3));\n",
              "      fill: #FFFFFF;\n",
              "    }\n",
              "  </style>\n",
              "\n",
              "      <script>\n",
              "        const buttonEl =\n",
              "          document.querySelector('#df-a5d743ad-2740-4285-9c0f-4146f43102cb button.colab-df-convert');\n",
              "        buttonEl.style.display =\n",
              "          google.colab.kernel.accessAllowed ? 'block' : 'none';\n",
              "\n",
              "        async function convertToInteractive(key) {\n",
              "          const element = document.querySelector('#df-a5d743ad-2740-4285-9c0f-4146f43102cb');\n",
              "          const dataTable =\n",
              "            await google.colab.kernel.invokeFunction('convertToInteractive',\n",
              "                                                     [key], {});\n",
              "          if (!dataTable) return;\n",
              "\n",
              "          const docLinkHtml = 'Like what you see? Visit the ' +\n",
              "            '<a target=\"_blank\" href=https://colab.research.google.com/notebooks/data_table.ipynb>data table notebook</a>'\n",
              "            + ' to learn more about interactive tables.';\n",
              "          element.innerHTML = '';\n",
              "          dataTable['output_type'] = 'display_data';\n",
              "          await google.colab.output.renderOutput(dataTable, element);\n",
              "          const docLink = document.createElement('div');\n",
              "          docLink.innerHTML = docLinkHtml;\n",
              "          element.appendChild(docLink);\n",
              "        }\n",
              "      </script>\n",
              "    </div>\n",
              "  </div>\n",
              "  "
            ]
          },
          "metadata": {},
          "execution_count": 481
        }
      ]
    },
    {
      "cell_type": "code",
      "source": [
        "df.info()"
      ],
      "metadata": {
        "colab": {
          "base_uri": "https://localhost:8080/"
        },
        "id": "f-xZDry46oat",
        "outputId": "df57c36b-fdcf-434d-8392-0c20fb4f2834"
      },
      "execution_count": null,
      "outputs": [
        {
          "output_type": "stream",
          "name": "stdout",
          "text": [
            "<class 'pandas.core.frame.DataFrame'>\n",
            "RangeIndex: 1504 entries, 0 to 1503\n",
            "Data columns (total 10 columns):\n",
            " #   Column           Non-Null Count  Dtype  \n",
            "---  ------           --------------  -----  \n",
            " 0   ph               1296 non-null   float64\n",
            " 1   Hardness         1504 non-null   float64\n",
            " 2   Solids           1504 non-null   float64\n",
            " 3   Chloramines      1504 non-null   float64\n",
            " 4   Sulfate          1144 non-null   float64\n",
            " 5   Conductivity     1504 non-null   float64\n",
            " 6   Organic_carbon   1504 non-null   float64\n",
            " 7   Trihalomethanes  1432 non-null   float64\n",
            " 8   Turbidity        1504 non-null   float64\n",
            " 9   Potability       1504 non-null   int64  \n",
            "dtypes: float64(9), int64(1)\n",
            "memory usage: 117.6 KB\n"
          ]
        }
      ]
    },
    {
      "cell_type": "code",
      "source": [
        "#CHECKnull\n",
        "df.isnull().sum()"
      ],
      "metadata": {
        "colab": {
          "base_uri": "https://localhost:8080/"
        },
        "id": "q42T-cPS6wCf",
        "outputId": "337f09cd-503d-4cce-c29f-218ac134b5af"
      },
      "execution_count": null,
      "outputs": [
        {
          "output_type": "execute_result",
          "data": {
            "text/plain": [
              "ph                 208\n",
              "Hardness             0\n",
              "Solids               0\n",
              "Chloramines          0\n",
              "Sulfate            360\n",
              "Conductivity         0\n",
              "Organic_carbon       0\n",
              "Trihalomethanes     72\n",
              "Turbidity            0\n",
              "Potability           0\n",
              "dtype: int64"
            ]
          },
          "metadata": {},
          "execution_count": 483
        }
      ]
    },
    {
      "cell_type": "code",
      "source": [
        "plt.figure(figsize = (12,10))\n",
        "sns.heatmap(df.isnull())\n",
        "#Null VAl"
      ],
      "metadata": {
        "colab": {
          "base_uri": "https://localhost:8080/",
          "height": 686
        },
        "id": "LrsG02kJ6v-t",
        "outputId": "6b60da0d-986a-4953-8227-7aadd366d71b"
      },
      "execution_count": null,
      "outputs": [
        {
          "output_type": "execute_result",
          "data": {
            "text/plain": [
              "<AxesSubplot:>"
            ]
          },
          "metadata": {},
          "execution_count": 484
        },
        {
          "output_type": "display_data",
          "data": {
            "text/plain": [
              "<Figure size 864x720 with 2 Axes>"
            ],
            "image/png": "[encoded data removed]"
          },
          "metadata": {
            "needs_background": "light"
          }
        }
      ]
    },
    {
      "cell_type": "markdown",
      "source": [
        "Correlation is a statistical measure that expresses the extent to which two variables are linearly related\n",
        "\n",
        "between one to portability\n"
      ],
      "metadata": {
        "id": "RVb4kOMtMDhD"
      }
    },
    {
      "cell_type": "code",
      "source": [
        "plt.figure(figsize=(12,10))\n",
        "sns.heatmap(df.corr(),annot=True)#which features has highest corrilation to the target\n",
        "# 1 means same num of row"
      ],
      "metadata": {
        "colab": {
          "base_uri": "https://localhost:8080/",
          "height": 685
        },
        "id": "K18l0TfH7z5B",
        "outputId": "0c565c32-86c7-4603-9366-26ffb08b7f10"
      },
      "execution_count": null,
      "outputs": [
        {
          "output_type": "execute_result",
          "data": {
            "text/plain": [
              "<AxesSubplot:>"
            ]
          },
          "metadata": {},
          "execution_count": 485
        },
        {
          "output_type": "display_data",
          "data": {
            "text/plain": [
              "<Figure size 864x720 with 2 Axes>"
            ],
            "image/png": "[encoded data removed]"
          },
          "metadata": {
            "needs_background": "light"
          }
        }
      ]
    },
    {
      "cell_type": "code",
      "source": [
        "sns.countplot(x=\"Potability\",data=df)\n",
        "#checking how many potable water"
      ],
      "metadata": {
        "colab": {
          "base_uri": "https://localhost:8080/",
          "height": 296
        },
        "id": "e-wxGJOL7z2T",
        "outputId": "e4b1716a-6ef1-4936-8b7d-7956f5f25b81"
      },
      "execution_count": null,
      "outputs": [
        {
          "output_type": "execute_result",
          "data": {
            "text/plain": [
              "<AxesSubplot:xlabel='Potability', ylabel='count'>"
            ]
          },
          "metadata": {},
          "execution_count": 486
        },
        {
          "output_type": "display_data",
          "data": {
            "text/plain": [
              "<Figure size 432x288 with 1 Axes>"
            ],
            "image/png": "[encoded data removed]"
          },
          "metadata": {
            "needs_background": "light"
          }
        }
      ]
    },
    {
      "cell_type": "code",
      "source": [
        "df[\"Potability\"].value_counts()"
      ],
      "metadata": {
        "colab": {
          "base_uri": "https://localhost:8080/"
        },
        "id": "spLPfr3tOJsA",
        "outputId": "77143571-23a3-4fcd-c73e-fcfc9b9c5e3c"
      },
      "execution_count": null,
      "outputs": [
        {
          "output_type": "execute_result",
          "data": {
            "text/plain": [
              "0    856\n",
              "1    648\n",
              "Name: Potability, dtype: int64"
            ]
          },
          "metadata": {},
          "execution_count": 487
        }
      ]
    },
    {
      "cell_type": "code",
      "source": [
        "# visualization data\n",
        "#check outliers\n",
        "\n",
        "fig,ax= plt.subplots(ncols = 5,nrows = 2, figsize =(20,10))\n",
        "ax = ax.flatten()#2d to 1d\n",
        "index=0\n",
        "for col,values in df.items():\n",
        "  sns.boxplot(y=col,data = df, ax=ax[index])\n",
        "  index +=1\n"
      ],
      "metadata": {
        "colab": {
          "base_uri": "https://localhost:8080/",
          "height": 578
        },
        "id": "jv_mYeQIOJpU",
        "outputId": "dfb23548-c0e7-4bff-96df-4a5546c04e1b"
      },
      "execution_count": null,
      "outputs": [
        {
          "output_type": "display_data",
          "data": {
            "text/plain": [
              "<Figure size 1440x720 with 10 Axes>"
            ],
            "image/png": "[encoded data removed]"
          },
          "metadata": {
            "needs_background": "light"
          }
        }
      ]
    },
    {
      "cell_type": "code",
      "source": [
        "#sns.pairplot(df)"
      ],
      "metadata": {
        "id": "3q-xku2fRiIU"
      },
      "execution_count": null,
      "outputs": []
    },
    {
      "cell_type": "code",
      "source": [
        "fig = px.pie(df,names=\"Potability\",hole = 0.4,template = \"plotly_dark\")\n",
        "fig.show()"
      ],
      "metadata": {
        "colab": {
          "base_uri": "https://localhost:8080/",
          "height": 542
        },
        "id": "GwgSZpzhRiFE",
        "outputId": "f65f8454-5d4d-4aa7-ef4b-4e7db437a00b"
      },
      "execution_count": null,
      "outputs": [
        {
          "output_type": "display_data",
          "data": {
            "text/html": [
              "<html>\n",
              "<head><meta charset=\"utf-8\" /></head>\n",
              "<body>\n",
              "    <div>            <script src=\"https://cdnjs.cloudflare.com/ajax/libs/mathjax/2.7.5/MathJax.js?config=TeX-AMS-MML_SVG\"></script><script type=\"text/javascript\">if (window.MathJax) {MathJax.Hub.Config({SVG: {font: \"STIX-Web\"}});}</script>                <script type=\"text/javascript\">window.PlotlyConfig = {MathJaxConfig: 'local'};</script>\n",
              "        <script src=\"https://cdn.plot.ly/plotly-2.8.3.min.js\"></script>                <div id=\"68707f32-777a-4d06-97cb-46d0100b49df\" class=\"plotly-graph-div\" style=\"height:525px; width:100%;\"></div>            <script type=\"text/javascript\">                                    window.PLOTLYENV=window.PLOTLYENV || {};                                    if (document.getElementById(\"68707f32-777a-4d06-97cb-46d0100b49df\")) {                    Plotly.newPlot(                        \"68707f32-777a-4d06-97cb-46d0100b49df\",                        [{\"domain\":{\"x\":[0.0,1.0],\"y\":[0.0,1.0]},\"hole\":0.4,\"hovertemplate\":\"Potability=%{label}<extra></extra>\",\"labels\":[0,0,0,0,0,0,0,0,0,0,0,0,0,0,0,0,0,0,0,0,0,0,0,0,0,0,0,0,0,0,0,0,0,0,0,0,0,0,0,0,0,0,0,0,0,0,0,0,0,0,0,0,0,0,0,0,0,0,0,0,0,0,0,0,0,0,0,0,0,0,0,0,0,0,0,0,0,0,0,0,0,0,0,0,0,0,0,0,0,0,0,0,0,0,0,0,0,0,0,0,0,0,0,0,0,0,0,0,0,0,0,0,0,0,0,0,0,0,0,0,0,0,0,0,0,0,1,1,1,1,1,1,1,1,1,1,1,1,1,1,1,1,1,1,1,1,1,1,1,1,1,1,1,1,1,1,1,1,1,1,1,1,1,1,1,1,1,1,1,1,1,1,1,1,1,1,1,1,1,1,1,1,1,1,1,1,1,1,1,1,1,1,1,1,1,1,1,1,1,1,1,1,1,1,1,1,1,1,1,1,1,1,1,1,1,1,1,1,1,1,1,1,1,1,1,1,1,1,1,1,1,1,1,1,1,1,1,1,1,1,1,1,1,1,1,1,1,1,1,1,1,1,1,1,1,1,1,1,1,1,1,1,1,1,1,1,1,1,1,1,1,1,1,1,1,1,1,1,1,1,1,1,1,1,1,1,0,0,0,0,0,0,0,0,0,0,0,0,0,0,0,0,0,0,0,0,0,0,0,0,0,0,0,0,0,0,0,0,0,0,0,0,0,0,0,0,0,0,0,0,0,0,0,0,0,0,0,0,0,0,0,0,0,0,0,0,0,0,0,0,0,0,0,0,0,0,0,0,0,0,0,0,0,0,0,0,0,0,0,0,0,0,0,0,0,0,0,0,0,0,0,0,0,0,0,0,0,0,0,0,0,0,0,0,0,0,0,0,0,0,0,0,0,0,0,0,0,0,0,0,0,0,0,0,0,0,0,0,0,0,0,0,0,0,0,0,0,0,0,0,0,0,0,0,0,0,0,0,0,0,0,0,0,0,0,0,0,0,0,0,0,0,0,0,0,0,0,1,1,1,1,1,1,1,1,1,1,1,1,1,1,1,1,1,1,1,1,1,1,1,1,1,1,1,1,1,1,1,1,1,1,1,1,1,1,1,1,1,1,1,1,1,1,1,1,1,1,1,1,1,1,1,1,1,1,1,1,1,1,1,1,1,1,1,1,1,1,1,1,1,1,1,1,1,1,1,1,1,1,1,1,1,1,1,1,1,1,1,1,1,1,1,1,1,1,1,1,1,1,1,1,1,1,1,1,1,1,1,1,1,1,1,1,1,1,1,1,1,1,1,1,1,1,1,1,1,1,1,1,1,1,1,1,1,1,1,1,1,1,1,1,1,1,1,1,1,1,1,1,1,1,1,1,1,1,1,1,0,0,0,0,0,0,0,0,0,0,0,0,0,0,0,0,0,0,0,0,0,0,0,0,0,0,0,0,0,0,0,0,0,0,0,0,0,0,0,0,0,0,0,0,0,0,0,0,0,0,0,0,0,0,0,0,0,0,0,0,0,0,0,0,0,0,0,0,0,0,0,0,0,0,0,0,0,0,0,0,0,0,0,0,0,0,0,0,0,0,0,0,0,0,0,0,0,0,0,0,0,0,0,0,0,0,0,0,0,0,0,0,0,0,0,0,0,0,0,0,0,0,0,0,0,0,0,0,0,0,0,0,0,0,0,0,0,0,0,0,0,0,0,0,0,0,0,0,0,0,0,0,0,0,0,0,0,0,0,0,0,0,0,0,0,0,0,0,0,0,0,0,0,0,0,0,0,0,0,0,0,0,0,0,0,0,0,0,0,0,0,0,0,0,0,0,0,0,0,0,0,1,1,1,1,1,1,1,1,1,1,1,1,1,1,1,1,1,1,1,1,1,1,1,1,1,1,1,1,1,1,1,1,1,1,1,1,1,1,1,1,1,1,1,1,1,1,1,1,1,1,1,1,1,1,1,1,1,1,1,1,1,1,1,1,1,1,1,1,1,1,1,1,1,1,1,1,1,1,1,1,1,1,1,1,1,1,1,1,1,1,1,1,1,1,1,1,1,1,1,1,1,1,1,1,1,1,1,1,1,1,1,1,1,1,1,1,1,1,1,1,0,0,0,0,0,0,0,0,0,0,0,0,0,0,0,0,0,0,0,0,0,0,0,0,0,0,0,0,0,0,0,0,0,0,0,0,0,0,0,0,0,0,0,0,0,0,0,0,0,0,0,0,0,0,0,0,0,0,0,0,0,0,0,0,0,0,0,0,0,0,0,0,0,0,0,0,0,0,0,0,0,0,0,0,0,0,0,0,0,0,0,0,0,0,0,0,0,0,0,0,0,0,0,0,0,0,0,0,0,0,0,0,0,0,0,0,0,0,0,0,0,0,0,0,0,0,0,0,0,0,0,0,0,0,0,0,0,0,0,0,0,0,0,0,0,0,0,0,0,0,0,0,0,0,0,0,0,0,0,0,0,0,0,0,0,0,0,0,0,0,0,0,0,0,0,0,0,0,0,0,0,0,1,1,1,1,1,1,1,1,1,1,1,1,1,1,1,1,1,1,1,1,1,1,1,1,1,1,1,1,1,1,1,1,1,1,1,1,1,1,1,1,1,1,1,1,1,1,1,1,1,1,1,1,1,1,1,1,1,1,1,1,1,1,1,1,1,1,1,1,1,1,1,1,1,1,1,1,1,1,1,1,1,1,1,1,1,1,1,1,1,1,1,1,1,1,1,1,1,1,1,1,1,1,1,1,1,1,1,1,1,1,1,1,1,1,1,1,1,1,1,1,1,1,1,1,1,1,1,1,1,1,1,1,1,1,1,1,1,1,1,1,1,1,1,1,1,1,1,1,1,0,0,0,0,0,0,0,0,0,0,0,0,0,0,0,0,0,0,0,0,0,0,0,0,0,0,0,0,0,0,0,0,0,0,0,0,0,0,0,0,0,0,0,0,0,0,0,0,0,0,0,0,0,0,0,0,0,0,0,0,0,0,0,0,0,0,0,0,0,0,0,0,0,0,0,0,0,0,0,0,0,0,0,0,0,0,0,0,0,0,0,0,0,0,0,0,0,0,0,0,0,0,0,0,0,0,0,0,0,0,0,0,0,0,0,0,0,0,0,0,0,0,0,0,0,0,0,0,0,0,0,0,0,0,0,0,0,0,0,0,0,0,0,0,0,0,0,0,0,0,0,0,0,0,0,0,0,0,0,0,0,0,0,0,0,0,0,0,0,0,0,0,0,0,0,0,1,1,1,1,1,1,1,1,1,1,1,1,1,1,1,1,1,1,1,1,1,1,1,1,1,1,1,1,1,1,1,1,1,1,1,1,1,1,1,1,1,1,1,1,1,1,1,1,1,1,1,1,1,1,1,1,1,1,1],\"legendgroup\":\"\",\"name\":\"\",\"showlegend\":true,\"type\":\"pie\"}],                        {\"template\":{\"data\":{\"barpolar\":[{\"marker\":{\"line\":{\"color\":\"rgb(17,17,17)\",\"width\":0.5},\"pattern\":{\"fillmode\":\"overlay\",\"size\":10,\"solidity\":0.2}},\"type\":\"barpolar\"}],\"bar\":[{\"error_x\":{\"color\":\"#f2f5fa\"},\"error_y\":{\"color\":\"#f2f5fa\"},\"marker\":{\"line\":{\"color\":\"rgb(17,17,17)\",\"width\":0.5},\"pattern\":{\"fillmode\":\"overlay\",\"size\":10,\"solidity\":0.2}},\"type\":\"bar\"}],\"carpet\":[{\"aaxis\":{\"endlinecolor\":\"#A2B1C6\",\"gridcolor\":\"#506784\",\"linecolor\":\"#506784\",\"minorgridcolor\":\"#506784\",\"startlinecolor\":\"#A2B1C6\"},\"baxis\":{\"endlinecolor\":\"#A2B1C6\",\"gridcolor\":\"#506784\",\"linecolor\":\"#506784\",\"minorgridcolor\":\"#506784\",\"startlinecolor\":\"#A2B1C6\"},\"type\":\"carpet\"}],\"choropleth\":[{\"colorbar\":{\"outlinewidth\":0,\"ticks\":\"\"},\"type\":\"choropleth\"}],\"contourcarpet\":[{\"colorbar\":{\"outlinewidth\":0,\"ticks\":\"\"},\"type\":\"contourcarpet\"}],\"contour\":[{\"colorbar\":{\"outlinewidth\":0,\"ticks\":\"\"},\"colorscale\":[[0.0,\"#0d0887\"],[0.1111111111111111,\"#46039f\"],[0.2222222222222222,\"#7201a8\"],[0.3333333333333333,\"#9c179e\"],[0.4444444444444444,\"#bd3786\"],[0.5555555555555556,\"#d8576b\"],[0.6666666666666666,\"#ed7953\"],[0.7777777777777778,\"#fb9f3a\"],[0.8888888888888888,\"#fdca26\"],[1.0,\"#f0f921\"]],\"type\":\"contour\"}],\"heatmapgl\":[{\"colorbar\":{\"outlinewidth\":0,\"ticks\":\"\"},\"colorscale\":[[0.0,\"#0d0887\"],[0.1111111111111111,\"#46039f\"],[0.2222222222222222,\"#7201a8\"],[0.3333333333333333,\"#9c179e\"],[0.4444444444444444,\"#bd3786\"],[0.5555555555555556,\"#d8576b\"],[0.6666666666666666,\"#ed7953\"],[0.7777777777777778,\"#fb9f3a\"],[0.8888888888888888,\"#fdca26\"],[1.0,\"#f0f921\"]],\"type\":\"heatmapgl\"}],\"heatmap\":[{\"colorbar\":{\"outlinewidth\":0,\"ticks\":\"\"},\"colorscale\":[[0.0,\"#0d0887\"],[0.1111111111111111,\"#46039f\"],[0.2222222222222222,\"#7201a8\"],[0.3333333333333333,\"#9c179e\"],[0.4444444444444444,\"#bd3786\"],[0.5555555555555556,\"#d8576b\"],[0.6666666666666666,\"#ed7953\"],[0.7777777777777778,\"#fb9f3a\"],[0.8888888888888888,\"#fdca26\"],[1.0,\"#f0f921\"]],\"type\":\"heatmap\"}],\"histogram2dcontour\":[{\"colorbar\":{\"outlinewidth\":0,\"ticks\":\"\"},\"colorscale\":[[0.0,\"#0d0887\"],[0.1111111111111111,\"#46039f\"],[0.2222222222222222,\"#7201a8\"],[0.3333333333333333,\"#9c179e\"],[0.4444444444444444,\"#bd3786\"],[0.5555555555555556,\"#d8576b\"],[0.6666666666666666,\"#ed7953\"],[0.7777777777777778,\"#fb9f3a\"],[0.8888888888888888,\"#fdca26\"],[1.0,\"#f0f921\"]],\"type\":\"histogram2dcontour\"}],\"histogram2d\":[{\"colorbar\":{\"outlinewidth\":0,\"ticks\":\"\"},\"colorscale\":[[0.0,\"#0d0887\"],[0.1111111111111111,\"#46039f\"],[0.2222222222222222,\"#7201a8\"],[0.3333333333333333,\"#9c179e\"],[0.4444444444444444,\"#bd3786\"],[0.5555555555555556,\"#d8576b\"],[0.6666666666666666,\"#ed7953\"],[0.7777777777777778,\"#fb9f3a\"],[0.8888888888888888,\"#fdca26\"],[1.0,\"#f0f921\"]],\"type\":\"histogram2d\"}],\"histogram\":[{\"marker\":{\"pattern\":{\"fillmode\":\"overlay\",\"size\":10,\"solidity\":0.2}},\"type\":\"histogram\"}],\"mesh3d\":[{\"colorbar\":{\"outlinewidth\":0,\"ticks\":\"\"},\"type\":\"mesh3d\"}],\"parcoords\":[{\"line\":{\"colorbar\":{\"outlinewidth\":0,\"ticks\":\"\"}},\"type\":\"parcoords\"}],\"pie\":[{\"automargin\":true,\"type\":\"pie\"}],\"scatter3d\":[{\"line\":{\"colorbar\":{\"outlinewidth\":0,\"ticks\":\"\"}},\"marker\":{\"colorbar\":{\"outlinewidth\":0,\"ticks\":\"\"}},\"type\":\"scatter3d\"}],\"scattercarpet\":[{\"marker\":{\"colorbar\":{\"outlinewidth\":0,\"ticks\":\"\"}},\"type\":\"scattercarpet\"}],\"scattergeo\":[{\"marker\":{\"colorbar\":{\"outlinewidth\":0,\"ticks\":\"\"}},\"type\":\"scattergeo\"}],\"scattergl\":[{\"marker\":{\"line\":{\"color\":\"#283442\"}},\"type\":\"scattergl\"}],\"scattermapbox\":[{\"marker\":{\"colorbar\":{\"outlinewidth\":0,\"ticks\":\"\"}},\"type\":\"scattermapbox\"}],\"scatterpolargl\":[{\"marker\":{\"colorbar\":{\"outlinewidth\":0,\"ticks\":\"\"}},\"type\":\"scatterpolargl\"}],\"scatterpolar\":[{\"marker\":{\"colorbar\":{\"outlinewidth\":0,\"ticks\":\"\"}},\"type\":\"scatterpolar\"}],\"scatter\":[{\"marker\":{\"line\":{\"color\":\"#283442\"}},\"type\":\"scatter\"}],\"scatterternary\":[{\"marker\":{\"colorbar\":{\"outlinewidth\":0,\"ticks\":\"\"}},\"type\":\"scatterternary\"}],\"surface\":[{\"colorbar\":{\"outlinewidth\":0,\"ticks\":\"\"},\"colorscale\":[[0.0,\"#0d0887\"],[0.1111111111111111,\"#46039f\"],[0.2222222222222222,\"#7201a8\"],[0.3333333333333333,\"#9c179e\"],[0.4444444444444444,\"#bd3786\"],[0.5555555555555556,\"#d8576b\"],[0.6666666666666666,\"#ed7953\"],[0.7777777777777778,\"#fb9f3a\"],[0.8888888888888888,\"#fdca26\"],[1.0,\"#f0f921\"]],\"type\":\"surface\"}],\"table\":[{\"cells\":{\"fill\":{\"color\":\"#506784\"},\"line\":{\"color\":\"rgb(17,17,17)\"}},\"header\":{\"fill\":{\"color\":\"#2a3f5f\"},\"line\":{\"color\":\"rgb(17,17,17)\"}},\"type\":\"table\"}]},\"layout\":{\"annotationdefaults\":{\"arrowcolor\":\"#f2f5fa\",\"arrowhead\":0,\"arrowwidth\":1},\"autotypenumbers\":\"strict\",\"coloraxis\":{\"colorbar\":{\"outlinewidth\":0,\"ticks\":\"\"}},\"colorscale\":{\"diverging\":[[0,\"#8e0152\"],[0.1,\"#c51b7d\"],[0.2,\"#de77ae\"],[0.3,\"#f1b6da\"],[0.4,\"#fde0ef\"],[0.5,\"#f7f7f7\"],[0.6,\"#e6f5d0\"],[0.7,\"#b8e186\"],[0.8,\"#7fbc41\"],[0.9,\"#4d9221\"],[1,\"#276419\"]],\"sequential\":[[0.0,\"#0d0887\"],[0.1111111111111111,\"#46039f\"],[0.2222222222222222,\"#7201a8\"],[0.3333333333333333,\"#9c179e\"],[0.4444444444444444,\"#bd3786\"],[0.5555555555555556,\"#d8576b\"],[0.6666666666666666,\"#ed7953\"],[0.7777777777777778,\"#fb9f3a\"],[0.8888888888888888,\"#fdca26\"],[1.0,\"#f0f921\"]],\"sequentialminus\":[[0.0,\"#0d0887\"],[0.1111111111111111,\"#46039f\"],[0.2222222222222222,\"#7201a8\"],[0.3333333333333333,\"#9c179e\"],[0.4444444444444444,\"#bd3786\"],[0.5555555555555556,\"#d8576b\"],[0.6666666666666666,\"#ed7953\"],[0.7777777777777778,\"#fb9f3a\"],[0.8888888888888888,\"#fdca26\"],[1.0,\"#f0f921\"]]},\"colorway\":[\"#636efa\",\"#EF553B\",\"#00cc96\",\"#ab63fa\",\"#FFA15A\",\"#19d3f3\",\"#FF6692\",\"#B6E880\",\"#FF97FF\",\"#FECB52\"],\"font\":{\"color\":\"#f2f5fa\"},\"geo\":{\"bgcolor\":\"rgb(17,17,17)\",\"lakecolor\":\"rgb(17,17,17)\",\"landcolor\":\"rgb(17,17,17)\",\"showlakes\":true,\"showland\":true,\"subunitcolor\":\"#506784\"},\"hoverlabel\":{\"align\":\"left\"},\"hovermode\":\"closest\",\"mapbox\":{\"style\":\"dark\"},\"paper_bgcolor\":\"rgb(17,17,17)\",\"plot_bgcolor\":\"rgb(17,17,17)\",\"polar\":{\"angularaxis\":{\"gridcolor\":\"#506784\",\"linecolor\":\"#506784\",\"ticks\":\"\"},\"bgcolor\":\"rgb(17,17,17)\",\"radialaxis\":{\"gridcolor\":\"#506784\",\"linecolor\":\"#506784\",\"ticks\":\"\"}},\"scene\":{\"xaxis\":{\"backgroundcolor\":\"rgb(17,17,17)\",\"gridcolor\":\"#506784\",\"gridwidth\":2,\"linecolor\":\"#506784\",\"showbackground\":true,\"ticks\":\"\",\"zerolinecolor\":\"#C8D4E3\"},\"yaxis\":{\"backgroundcolor\":\"rgb(17,17,17)\",\"gridcolor\":\"#506784\",\"gridwidth\":2,\"linecolor\":\"#506784\",\"showbackground\":true,\"ticks\":\"\",\"zerolinecolor\":\"#C8D4E3\"},\"zaxis\":{\"backgroundcolor\":\"rgb(17,17,17)\",\"gridcolor\":\"#506784\",\"gridwidth\":2,\"linecolor\":\"#506784\",\"showbackground\":true,\"ticks\":\"\",\"zerolinecolor\":\"#C8D4E3\"}},\"shapedefaults\":{\"line\":{\"color\":\"#f2f5fa\"}},\"sliderdefaults\":{\"bgcolor\":\"#C8D4E3\",\"bordercolor\":\"rgb(17,17,17)\",\"borderwidth\":1,\"tickwidth\":0},\"ternary\":{\"aaxis\":{\"gridcolor\":\"#506784\",\"linecolor\":\"#506784\",\"ticks\":\"\"},\"baxis\":{\"gridcolor\":\"#506784\",\"linecolor\":\"#506784\",\"ticks\":\"\"},\"bgcolor\":\"rgb(17,17,17)\",\"caxis\":{\"gridcolor\":\"#506784\",\"linecolor\":\"#506784\",\"ticks\":\"\"}},\"title\":{\"x\":0.05},\"updatemenudefaults\":{\"bgcolor\":\"#506784\",\"borderwidth\":0},\"xaxis\":{\"automargin\":true,\"gridcolor\":\"#283442\",\"linecolor\":\"#506784\",\"ticks\":\"\",\"title\":{\"standoff\":15},\"zerolinecolor\":\"#283442\",\"zerolinewidth\":2},\"yaxis\":{\"automargin\":true,\"gridcolor\":\"#283442\",\"linecolor\":\"#506784\",\"ticks\":\"\",\"title\":{\"standoff\":15},\"zerolinecolor\":\"#283442\",\"zerolinewidth\":2}}},\"legend\":{\"tracegroupgap\":0},\"margin\":{\"t\":60}},                        {\"responsive\": true}                    ).then(function(){\n",
              "                            \n",
              "var gd = document.getElementById('68707f32-777a-4d06-97cb-46d0100b49df');\n",
              "var x = new MutationObserver(function (mutations, observer) {{\n",
              "        var display = window.getComputedStyle(gd).display;\n",
              "        if (!display || display === 'none') {{\n",
              "            console.log([gd, 'removed!']);\n",
              "            Plotly.purge(gd);\n",
              "            observer.disconnect();\n",
              "        }}\n",
              "}});\n",
              "\n",
              "// Listen for the removal of the full notebook cells\n",
              "var notebookContainer = gd.closest('#notebook-container');\n",
              "if (notebookContainer) {{\n",
              "    x.observe(notebookContainer, {childList: true});\n",
              "}}\n",
              "\n",
              "// Listen for the clearing of the current output cell\n",
              "var outputEl = gd.closest('.output');\n",
              "if (outputEl) {{\n",
              "    x.observe(outputEl, {childList: true});\n",
              "}}\n",
              "\n",
              "                        })                };                            </script>        </div>\n",
              "</body>\n",
              "</html>"
            ]
          },
          "metadata": {}
        }
      ]
    },
    {
      "cell_type": "code",
      "source": [
        "fig = px.scatter(df,x=\"ph\",y=\"Sulfate\",color=\"Potability\")\n",
        "fig.show()"
      ],
      "metadata": {
        "colab": {
          "base_uri": "https://localhost:8080/",
          "height": 542
        },
        "id": "352_K_rzTzed",
        "outputId": "c852450e-c548-4467-a162-ca170fd6080a"
      },
      "execution_count": null,
      "outputs": [
        {
          "output_type": "display_data",
          "data": {
            "text/html": [
              "<html>\n",
              "<head><meta charset=\"utf-8\" /></head>\n",
              "<body>\n",
              "    <div>            <script src=\"https://cdnjs.cloudflare.com/ajax/libs/mathjax/2.7.5/MathJax.js?config=TeX-AMS-MML_SVG\"></script><script type=\"text/javascript\">if (window.MathJax) {MathJax.Hub.Config({SVG: {font: \"STIX-Web\"}});}</script>                <script type=\"text/javascript\">window.PlotlyConfig = {MathJaxConfig: 'local'};</script>\n",
              "        <script src=\"https://cdn.plot.ly/plotly-2.8.3.min.js\"></script>                <div id=\"bf2f3b1a-0255-4ef5-8d73-6ed57e72f8de\" class=\"plotly-graph-div\" style=\"height:525px; width:100%;\"></div>            <script type=\"text/javascript\">                                    window.PLOTLYENV=window.PLOTLYENV || {};                                    if (document.getElementById(\"bf2f3b1a-0255-4ef5-8d73-6ed57e72f8de\")) {                    Plotly.newPlot(                        \"bf2f3b1a-0255-4ef5-8d73-6ed57e72f8de\",                        [{\"hovertemplate\":\"ph=%{x}<br>Sulfate=%{y}<br>Potability=%{marker.color}<extra></extra>\",\"legendgroup\":\"\",\"marker\":{\"color\":[0,0,0,0,0,0,0,0,0,0,0,0,0,0,0,0,0,0,0,0,0,0,0,0,0,0,0,0,0,0,0,0,0,0,0,0,0,0,0,0,0,0,0,0,0,0,0,0,0,0,0,0,0,0,0,0,0,0,0,0,0,0,0,0,0,0,0,0,0,0,0,0,0,0,0,0,0,0,0,0,0,0,0,0,0,0,0,0,0,0,0,0,0,0,0,0,0,0,0,0,0,0,0,0,0,0,0,0,0,0,0,0,0,0,0,0,0,0,0,0,0,0,0,0,0,0,1,1,1,1,1,1,1,1,1,1,1,1,1,1,1,1,1,1,1,1,1,1,1,1,1,1,1,1,1,1,1,1,1,1,1,1,1,1,1,1,1,1,1,1,1,1,1,1,1,1,1,1,1,1,1,1,1,1,1,1,1,1,1,1,1,1,1,1,1,1,1,1,1,1,1,1,1,1,1,1,1,1,1,1,1,1,1,1,1,1,1,1,1,1,1,1,1,1,1,1,1,1,1,1,1,1,1,1,1,1,1,1,1,1,1,1,1,1,1,1,1,1,1,1,1,1,1,1,1,1,1,1,1,1,1,1,1,1,1,1,1,1,1,1,1,1,1,1,1,1,1,1,1,1,1,1,1,1,1,1,0,0,0,0,0,0,0,0,0,0,0,0,0,0,0,0,0,0,0,0,0,0,0,0,0,0,0,0,0,0,0,0,0,0,0,0,0,0,0,0,0,0,0,0,0,0,0,0,0,0,0,0,0,0,0,0,0,0,0,0,0,0,0,0,0,0,0,0,0,0,0,0,0,0,0,0,0,0,0,0,0,0,0,0,0,0,0,0,0,0,0,0,0,0,0,0,0,0,0,0,0,0,0,0,0,0,0,0,0,0,0,0,0,0,0,0,0,0,0,0,0,0,0,0,0,0,0,0,0,0,0,0,0,0,0,0,0,0,0,0,0,0,0,0,0,0,0,0,0,0,0,0,0,0,0,0,0,0,0,0,0,0,0,0,0,0,0,0,0,0,0,1,1,1,1,1,1,1,1,1,1,1,1,1,1,1,1,1,1,1,1,1,1,1,1,1,1,1,1,1,1,1,1,1,1,1,1,1,1,1,1,1,1,1,1,1,1,1,1,1,1,1,1,1,1,1,1,1,1,1,1,1,1,1,1,1,1,1,1,1,1,1,1,1,1,1,1,1,1,1,1,1,1,1,1,1,1,1,1,1,1,1,1,1,1,1,1,1,1,1,1,1,1,1,1,1,1,1,1,1,1,1,1,1,1,1,1,1,1,1,1,1,1,1,1,1,1,1,1,1,1,1,1,1,1,1,1,1,1,1,1,1,1,1,1,1,1,1,1,1,1,1,1,1,1,1,1,1,1,1,1,0,0,0,0,0,0,0,0,0,0,0,0,0,0,0,0,0,0,0,0,0,0,0,0,0,0,0,0,0,0,0,0,0,0,0,0,0,0,0,0,0,0,0,0,0,0,0,0,0,0,0,0,0,0,0,0,0,0,0,0,0,0,0,0,0,0,0,0,0,0,0,0,0,0,0,0,0,0,0,0,0,0,0,0,0,0,0,0,0,0,0,0,0,0,0,0,0,0,0,0,0,0,0,0,0,0,0,0,0,0,0,0,0,0,0,0,0,0,0,0,0,0,0,0,0,0,0,0,0,0,0,0,0,0,0,0,0,0,0,0,0,0,0,0,0,0,0,0,0,0,0,0,0,0,0,0,0,0,0,0,0,0,0,0,0,0,0,0,0,0,0,0,0,0,0,0,0,0,0,0,0,0,0,0,0,0,0,0,0,0,0,0,0,0,0,0,0,0,0,0,0,1,1,1,1,1,1,1,1,1,1,1,1,1,1,1,1,1,1,1,1,1,1,1,1,1,1,1,1,1,1,1,1,1,1,1,1,1,1,1,1,1,1,1,1,1,1,1,1,1,1,1,1,1,1,1,1,1,1,1,1,1,1,1,1,1,1,1,1,1,1,1,1,1,1,1,1,1,1,1,1,1,1,1,1,1,1,1,1,1,1,1,1,1,1,1,1,1,1,1,1,1,1,1,1,1,1,1,1,1,1,1,1,1,1,1,1,1,1,1,1,0,0,0,0,0,0,0,0,0,0,0,0,0,0,0,0,0,0,0,0,0,0,0,0,0,0,0,0,0,0,0,0,0,0,0,0,0,0,0,0,0,0,0,0,0,0,0,0,0,0,0,0,0,0,0,0,0,0,0,0,0,0,0,0,0,0,0,0,0,0,0,0,0,0,0,0,0,0,0,0,0,0,0,0,0,0,0,0,0,0,0,0,0,0,0,0,0,0,0,0,0,0,0,0,0,0,0,0,0,0,0,0,0,0,0,0,0,0,0,0,0,0,0,0,0,0,0,0,0,0,0,0,0,0,0,0,0,0,0,0,0,0,0,0,0,0,0,0,0,0,0,0,0,0,0,0,0,0,0,0,0,0,0,0,0,0,0,0,0,0,0,0,0,0,0,0,0,0,0,0,0,0,1,1,1,1,1,1,1,1,1,1,1,1,1,1,1,1,1,1,1,1,1,1,1,1,1,1,1,1,1,1,1,1,1,1,1,1,1,1,1,1,1,1,1,1,1,1,1,1,1,1,1,1,1,1,1,1,1,1,1,1,1,1,1,1,1,1,1,1,1,1,1,1,1,1,1,1,1,1,1,1,1,1,1,1,1,1,1,1,1,1,1,1,1,1,1,1,1,1,1,1,1,1,1,1,1,1,1,1,1,1,1,1,1,1,1,1,1,1,1,1,1,1,1,1,1,1,1,1,1,1,1,1,1,1,1,1,1,1,1,1,1,1,1,1,1,1,1,1,1,0,0,0,0,0,0,0,0,0,0,0,0,0,0,0,0,0,0,0,0,0,0,0,0,0,0,0,0,0,0,0,0,0,0,0,0,0,0,0,0,0,0,0,0,0,0,0,0,0,0,0,0,0,0,0,0,0,0,0,0,0,0,0,0,0,0,0,0,0,0,0,0,0,0,0,0,0,0,0,0,0,0,0,0,0,0,0,0,0,0,0,0,0,0,0,0,0,0,0,0,0,0,0,0,0,0,0,0,0,0,0,0,0,0,0,0,0,0,0,0,0,0,0,0,0,0,0,0,0,0,0,0,0,0,0,0,0,0,0,0,0,0,0,0,0,0,0,0,0,0,0,0,0,0,0,0,0,0,0,0,0,0,0,0,0,0,0,0,0,0,0,0,0,0,0,0,1,1,1,1,1,1,1,1,1,1,1,1,1,1,1,1,1,1,1,1,1,1,1,1,1,1,1,1,1,1,1,1,1,1,1,1,1,1,1,1,1,1,1,1,1,1,1,1,1,1,1,1,1,1,1,1,1,1,1],\"coloraxis\":\"coloraxis\",\"symbol\":\"circle\"},\"mode\":\"markers\",\"name\":\"\",\"showlegend\":false,\"x\":[null,3.716080075,8.099124189,8.316765884,9.092223456,5.584086638,10.22386216,8.635848719,null,11.18028447,7.360640106,7.974521649,7.119824384,null,7.496232208,6.347271761,7.0517858,9.181560007,8.975464348,7.371050302,null,6.660212026,null,3.902475686,5.400301781,6.514415093,3.445061864,null,null,null,7.181448581,9.825489908,10.43329098,7.414148196,null,5.115817064,3.641629777,5.618064406,null,9.267187531,null,5.331940479,7.145771545,9.920691059,4.758439425,5.702925977,6.953864226,10.68296643,null,9.489972878,7.830976343,4.430281212,7.240739639,null,6.867301322,6.129637015,7.917049443,6.511618075,5.323815584,6.769572869,5.87797404,9.534021716,6.340027628,8.66159243,5.653506135,6.626012184,7.793833573,7.59312765,7.362736502,9.320305445,3.719791644,6.655605026,9.868877881,5.590614436,5.554436511,4.126528715,5.970035657,null,8.369154354,6.284248242,11.26782838,9.298018008,7.895469246,7.947485786,10.02615916,6.48819324,5.869736755,null,5.30414266,7.533614823,4.077607725,null,7.086168401,6.271012171,7.957768344,8.875642278,null,6.613709118,7.735705022,9.925041328,9.00258311,5.095766465,8.594677108,7.083779061,7.682872498,null,6.419772474,4.443238899,6.978664262,6.623613566,3.664710562,4.814135621,5.779673705,6.937818783,7.436782609,4.723312573,9.380658051,7.810144933,9.436637164,9.406325753,6.321259315,null,4.705356496,8.896418988,6.581878202,6.755145902,9.445129838,9.024845037,null,6.80011909,7.174135163,7.657991237,8.322986672,5.934279093,9.802720782,6.101955231,4.997770601,4.815766791,6.548020558,13.17540172,6.618010906,7.788054733,5.191834327,5.626339528,6.869638941,9.058628424,7.291888325,7.275908774,6.512737124,7.207886781,null,5.324941856,7.082300649,5.33418358,10.7618978,6.286806948,9.794558699,8.210443565,6.941719438,10.35611883,7.958984292,3.882631081,5.671773833,10.00330054,6.552847474,7.628552723,4.79084054,7.710959939,8.291299006,6.193170101,9.032660579,6.139493741,7.12942473,null,5.418503763,8.075494508,null,10.04967372,5.667650647,null,8.923980608,6.428866313,6.960603502,5.873675846,6.79546901,10.04102797,null,7.296037734,null,5.862641233,7.292141805,8.062805643,7.82197094,11.301794,6.593764313,9.161088613,null,4.642953052,7.798453676,5.564342491,7.886591227,7.443189014,3.657123133,9.597191857,6.964225943,7.672909523,6.737004072,null,5.382489039,7.022952113,null,10.02622381,5.583832998,7.952929116,5.500186641,7.543700466,6.848331559,null,5.910251729,8.716820334,6.016889136,9.567822726,4.296247024,3.551579177,8.529669348,8.065339036,9.158445163,8.848586283,9.495456382,8.052893916,2.798549099,6.425873866,7.757269666,7.748654706,5.117390303,7.481535362,5.374222585,7.063646976,6.876451043,4.812433652,4.993530734,4.788861062,4.037287739,6.505872509,6.779773967,6.952511674,5.628406919,5.966000489,6.319431545,8.02724787,8.882684452,5.991283475,10.27244427,null,6.105140135,9.443358884,6.887414371,6.512900833,5.772718095,4.912557262,9.739561949,5.541979019,null,null,6.448931033,5.477912295,8.544708662,7.378597016,6.66400305,6.775582812,8.736371211,7.146976296,null,5.040331692,null,7.745499128,6.259651603,8.59639118,5.767349597,7.088940642,8.029181613,null,4.725785565,8.19576536,6.443753668,7.039094321,null,null,6.945224092,5.742110407,5.59662785,7.350378987,6.262798867,9.927023723,5.381407519,4.961352728,6.457097525,6.53936951,6.252410005,7.967344823,null,7.60952119,6.887863944,9.879071258,7.63876177,6.961891686,8.060609624,7.240271791,7.486779709,8.410460643,6.143921454,6.09617989,6.384824009,9.462666017,7.868147086,5.873157137,null,6.529304448,5.152203722,7.858662779,7.704410252,6.728004386,10.46450248,9.11278625,8.079808358,7.078659419,null,8.043889299,7.040244978,5.483974109,8.53440688,7.266594535,6.256651148,7.240351006,8.692115322,8.639540978,7.179864149,7.163999223,8.926113143,7.417570368,4.775983439,7.86509497,5.903465715,7.705711006,7.815121778,6.139743032,5.041405028,8.675192692,7.689358004,8.570129121,5.671762326,6.624806428,6.541007699,null,9.241197563,null,6.340809022,5.980357227,7.60597883,6.427512443,null,6.109073312,5.842933081,5.36754649,5.345887147,5.386307352,9.919478426,null,7.121458435,9.418296122,7.457164758,5.27222756,7.29195704,7.803833221,6.844350911,5.608745232,5.701154645,5.412762498,null,5.018132384,4.552238411,null,7.025305942,5.770620969,8.437875983,5.907078269,6.89834133,10.25273437,8.206499938,7.286167388,8.809296432,6.641500687,6.145148361,5.906441765,5.38984593,5.006562979,6.5036382,9.606858896,8.742229882,8.394397412,null,3.841205038,4.301373467,9.895889213,4.319440673,8.313773604,null,3.410359671,7.510943342,6.978290868,null,7.46072722,null,7.220165553,8.790851189,null,null,9.049166054,9.515140615,6.14524294,7.494212047,7.091885817,6.624572528,6.032188903,6.344095425,null,7.459144859,6.361666803,9.011588754,7.466213132,5.739816333,7.785106673,7.138586781,8.805177745,8.003031485,7.157337864,6.427365144,6.124672271,8.457901037,5.772197394,null,6.760790523,7.895045662,8.576739928,5.596729818,8.145632374,6.665495068,6.499067998,9.735889388,9.268281895,null,10.0596421,6.475885399,7.14394199,8.11644657,7.66518778,5.555352973,7.543931305,null,7.340170884,10.01518906,null,7.846463341,null,6.334162776,9.616095703,null,8.892998479,null,8.1414299,8.165714933,4.931958445,8.977821883,7.372611796,9.107330383,4.168248461,7.806909023,6.704635426,3.623165848,7.966856824,4.595607756,null,3.994497606,8.907987118,5.898726325,9.514626622,8.842463656,7.721078494,9.089421098,1.757037115,7.725192099,6.729191489,5.085429353,9.545270521,null,6.246264054,7.376449105,7.802426084,8.596767212,6.436444496,7.333477726,6.144759038,4.725997721,5.393345914,5.624819996,5.768868031,null,5.251353815,7.688785916,3.681076271,4.897691707,5.842754601,null,5.038316783,9.961247709,7.417502637,null,5.099932005,3.633162829,8.860450854,10.13793229,9.90081484,10.2684305,0.22749905,6.017260924,7.110845138,6.350290472,8.12934172,10.25281623,5.462355935,9.239440361,7.071314192,7.115895266,8.238996597,6.446252032,6.161779499,6.772156538,7.06184552,4.638250259,7.678966889,8.137713063,7.481397772,8.082148076,null,7.702183099,6.750761186,null,6.323942073,5.403883692,5.699873488,7.694264582,8.581428694,9.888941401,3.426450368,8.370440489,null,8.390500572,7.58194468,9.850054687,5.225683807,9.663653196,null,7.935607325,8.92814208,6.920342899,10.53809844,5.729302912,5.335688809,null,6.769834881,6.848329601,null,null,null,8.589202344,8.473649323,7.591346094,8.137767883,5.35256598,7.998090254,11.89807803,7.442536475,5.140800528,null,6.947915534,9.622105987,5.361211666,4.909518983,6.376408434,3.94012546,6.916825973,9.146557556,10.26841472,8.787667941,7.36876853,9.352719753,9.393148442,7.296572875,8.900864697,8.107244313,7.804368874,4.666148131,10.90507641,4.739548767,9.869231935,null,5.827541212,0.989912213,null,9.485832873,6.435722717,6.365497241,null,5.452214926,null,5.433466239,7.374775414,null,5.226941884,4.594209164,6.784133024,6.400256164,6.839415898,6.901863449,null,7.888843574,5.527633483,6.492403122,6.684699737,null,6.223677775,4.758648347,7.440825031,8.054885744,7.061830972,null,7.611609817,4.691438315,8.064170137,4.292966858,7.865756954,9.085637102,6.592442508,7.032818726,8.990317234,8.561218924,6.739157692,null,6.492627157,6.753128353,5.039373609,8.296344056,5.455599352,7.918183321,5.01804587,6.495435285,null,8.783167624,null,8.159666704,7.685396843,7.762020745,7.207931097,6.9870415,4.692196563,null,4.059431468,8.389945659,10.69553249,6.791696907,9.953952112,null,4.489783796,8.020869103,5.090035332,6.466874709,6.702496216,5.766204134,6.571099217,8.509220049,5.953981878,5.403196492,5.596929951,10.63290961,4.916819229,7.183095932,5.923441415,7.377036504,7.833495881,4.745764371,9.055825785,5.492155983,4.487517479,7.027185659,10.20064451,6.784279329,8.080415244,null,7.344975869,5.923739955,8.285395275,5.949518764,null,null,5.296578804,10.28206797,7.016836113,6.871607245,null,8.274069059,8.238878989,5.791154373,6.153368957,7.303051906,7.5926723,6.784116115,5.606856131,null,4.922045466,5.700784947,null,10.67805626,7.602121475,8.846281957,6.751698586,null,null,5.088213197,6.954907217,8.983811794,9.519659984,4.700392724,10.38613293,5.746529194,null,null,10.8112895,8.966835973,null,6.848805453,8.861701557,4.252985001,6.729829904,5.924540482,6.783888468,7.390896679,6.470151959,6.93039147,9.302441188,7.421997644,6.583064856,6.204429354,9.066628054,4.713116701,10.58138599,7.574261237,6.138785152,5.276323544,6.776879088,7.239415921,6.552279123,8.408766231,7.986398706,7.366915284,6.062738419,7.8564711,5.15839641,null,6.39908051,7.394255556,4.443850856,8.247148271,4.902158989,6.86313625,6.66953238,7.595669984,8.163076383,8.87027826,8.769676022,4.737391257,7.790874862,null,6.0873061,7.651294226,4.771490669,null,5.392057607,5.477283049,6.364155674,null,8.347949483,6.615981652,8.312379503,6.836224939,6.385470898,6.490037175,null,6.648849186,null,9.323583858,4.581968728,7.884841993,6.168838539,7.230845307,null,8.693104326,null,4.797460182,9.319176393,7.581687577,5.348213659,5.487876363,null,8.315959071,8.551077748,6.013160966,5.744067537,5.218989651,4.736404607,5.95392389,6.578998162,8.775485734,6.850302032,8.757110512,null,null,8.073278952,5.078274175,7.444914015,9.434005875,5.905906954,5.803496976,7.617151922,9.008464334,5.422445768,9.778181813,5.204938763,4.872560878,7.793914804,null,7.058182608,7.890354274,7.535700191,7.202534416,null,8.722143777,8.352635176,6.284385791,null,9.30566048,4.923178856,6.14301848,5.744504157,6.616649175,7.62349992,7.860106422,7.393110153,null,5.579517093,4.303574607,7.310715696,6.417702476,null,10.77431809,5.036453976,null,10.41504401,8.41860665,7.808641136,7.55796363,11.24450714,5.728823779,10.48680842,3.792125732,5.716251354,null,5.473603398,null,6.770926884,6.043360084,null,6.320427823,9.185417502,8.684778672,7.961721463,5.484151254,7.186931122,5.470802484,null,9.792727769,3.637170625,7.064789081,6.632031569,5.913956688,9.484703254,8.447404488,7.727421141,6.859323726,5.846786697,6.300001767,6.646469922,7.313446756,6.572656389,6.002414612,null,5.93605711,7.591089848,6.875746152,8.016279103,8.783596632,6.911698241,8.719240207,5.974583248,4.429378735,null,null,8.215123507,7.828740105,7.949964795,6.114332051,null,7.139428273,null,7.96852587,6.635894308,6.394548023,6.280978207,7.992026977,5.068795502,null,8.151248962,7.582941677,5.34411687,7.871961403,5.327023534,10.55027327,null,7.47102667,7.943882477,2.69083124,9.13569426,5.214009194,8.649534947,7.75667895,7.104295204,5.363362645,6.582499747,6.810466517,null,5.574116595,8.555283423,4.483402761,3.783043638,7.138374317,null,7.912361028,null,9.128357758,5.271971378,6.465093529,8.245186596,null,6.704791892,6.430254786,7.482791276,5.504452321,7.521920636,null,8.522567733,5.694475546,6.93450359,6.115180039,8.575673022,5.689142988,null,7.2261272,7.197795992,3.846814328,5.896339346,null,8.326349854,6.891561655,5.548124947,null,5.386637962,7.262534652,6.257085791,7.025504335,6.584839333,6.565633547,6.622102936,7.217392781,5.253907429,8.131375234,6.61977546,null,6.217255307,5.019984767,6.907379615,6.313114732,null,7.29392925,6.63036382,8.015780395,4.249890379,4.26526964,9.266840595,9.619456626,7.086877326,3.433874059,8.436759029,12.24692807,7.34303194,4.616438934,8.307462969,4.909640554,7.70910636,null,7.818274839,8.207458913,6.958534137,null,4.349439999,6.629985036,8.96969739,6.77105029,6.724639342,null,6.967270764,null,7.053116739,7.755154227,8.580008559,6.901710203,7.814250247,5.918953546,7.021295306,null,8.132736965,6.057068041,5.343075103,null,5.742533063,6.584813111,8.070477127,6.652824348,5.506061504,null,6.441766486,null,8.248703054,2.569243562,5.664845758,8.999498939,5.588537191,6.265637344,6.922041828,8.072612403,8.828094375,8.647454007,7.475536902,11.53488049,6.453064803,8.192210156,7.247700982,7.893131973,6.164449536,7.9373922,8.281120655,4.906491593,8.143483376,5.117913529,6.449070009,5.613562647,5.754212968,6.906574998,6.336267097,8.121253676,null,8.935115926,6.45278075,8.458814662,6.930082548,6.255070001,5.669818774,7.945407487,7.499844232,4.695516141,6.710633528,9.502856746,4.405327147,6.810344849,6.983133113,6.968131313,5.76255225,8.397248096,8.828326658,9.395842202,8.163074031,6.867000691,5.821706914,7.451888779,6.898315041,7.544340114,4.103867855,5.329938815,6.962993545,6.846059942,6.279842183,6.739849728,5.495035446,7.583770299,5.866702734,6.394980461,5.82126163,5.514062185,6.730883602,5.198067643,null,7.362331187,7.06614184,5.420347747,7.015332583,null,6.044671753,6.198650336,7.678945067,8.062066123,7.255798597,null,6.792407469,7.368165577,8.837786915,7.108140711,5.289618437,7.169251038,7.695049437,8.693149901,null,6.999764511,6.897922717,6.382314604,9.917092057,5.609025354,6.277463093,null,7.714312672,6.351286549,7.958871446,6.618186567,6.000723336,6.39292784,6.977267852,6.353436844,6.019939995,7.330196877,9.241338767,6.593174457,6.948265449,null,null,5.938321179,8.249550509,6.903816978,7.605674821,6.589290501,7.511816641,7.301444654,6.788291583,null,null,6.692531669,6.028101118,6.715940564,7.490786676,null,6.336588682,7.381757557,7.256015039,7.025821771,7.606880475,6.983860439,6.347020018,7.322828417,6.777506359,8.370364965,6.642755695,6.217584914,6.630122156,8.051022203,8.416086817,null,7.933067692,7.917608595,8.942045991,7.033945359,null,7.580048808,8.473249064,6.816416925,6.460033522,6.227826795,null,null,5.632731647,6.191241443,7.701032797,null,8.832641116,5.646083312,7.332103963,7.896743922,5.675294715,6.010617577,7.986018499,null,7.159613912,7.565198073,6.865568515,5.736675709,6.129069622,5.991371082,9.723377231,7.736312841,6.715799479,7.966762553,8.242558635,6.539546128,6.78538406,7.007974587,7.740383939,7.918087079,5.772769698,7.571684493,8.73352533,6.917858355,8.512780909,6.539115261,null,8.22708313,7.274198051,7.118980168,null,5.941942536,7.278910903,7.445189026,6.442496436,null,6.919726155,6.47237105,8.25121778,null,6.707108206,7.24019447,6.528490775,7.031839174,7.494391101,6.957433638,null,6.962324595,6.509621638,8.069297893,7.213375388,6.790838199,6.975209178,7.422225264,6.505065807,6.617862257,6.769769339,null,null,7.47640846,7.691486298,7.367371853,8.927905926,5.62122732,6.450644925,7.566517125,6.115637546,7.595228724,null,7.131221859,7.399724708,7.002479941,5.345345371,6.185951163,6.070090952,7.095569331,null,3.928556492,6.352973105,5.999125178,8.899588378,7.37533762,8.979322853,8.532377474,7.213537481,null,8.895574458,6.582764204,null,null,5.986593892,6.841221063,null,7.146117225,null,7.507575296,7.997175823,5.174345998,null,6.479092567,7.811512445,7.437216653,7.953878115,6.396569931,null,8.058135997,null,null,9.497261163,7.984710742,6.26111058,6.957802749,9.663159015,6.732713713,4.886057057,9.610220345,8.518531795,6.950786515,6.023022741,9.011480407,7.946767904,7.709617351,6.081615358,8.146185794,8.141861116,7.703356821,null,9.252856509,6.047651489,6.152857802,9.074922874,7.436537227,null,7.130099196,6.79212545,null,8.885626344,9.47531626,null,7.183108734,6.157443145,6.467868302,null,7.488133464,7.32354512,null,6.530796124,6.931470427,7.774645243,8.107500139,6.306864459,null,6.609680322,6.632205879,null,5.716755667,7.74045387,6.277277371,8.006373298,6.513016586,6.234197672,7.277143967,6.04451303,6.643026538,5.15045654,6.110545161,7.831117737,6.980727164,8.552782416,6.449379439,7.392084038,8.360795827,7.619845077,5.404510674,7.079303518,null,7.161714893,6.854946859,7.309556407,9.313465893,null,null,6.187938054,null,7.965337305,9.264390909,7.754044354,9.393891652,8.176079615,8.337696201,null,7.191024857,8.613698595,7.793039171,3.878879389,null,3.978284627,5.96406536,7.53205858,7.233538435,null,null,7.480728114,4.477091714,null,null,6.31407747,null,8.822610384,6.922652371,null,6.904536858,6.548017642,6.581082756,7.864649673,6.136907177,6.94702854,6.203322508,null,8.373170925,null,5.921247069,8.829806178,null,6.832217388,9.281302611,7.456250785,7.088250976,5.648628538,4.293961235,9.678050854,8.662709501,5.897391121,9.494242648,null,7.080193059,7.55985231,7.040394956,8.053043682,7.044375319,6.309891576,6.203572848,6.879404957,7.754884394,7.916669699,6.405392482,7.795957801,6.963979351,6.967861397,6.622791356,7.369988621,null,6.944868387,5.284810115,6.851442603,7.760189365,7.280560357,6.83425989,6.728975148,8.016418375,6.864916739,5.80897552,8.458796988,6.987335279,7.288736661,8.116350275,7.463915951,7.512361216,6.415108472,7.059940234,null,7.425102223,6.742622398,7.682923445,7.041665417,7.185276449,6.597292363,6.908853083,null,null,6.281903929,7.036752104,7.362912867,7.369087139,7.708109989,6.50411278,8.185923417,6.149185174,7.080445821,6.628427347,4.704698462,7.976900874],\"xaxis\":\"x\",\"y\":[368.5164413,null,null,356.8861356,310.1357375,326.6783629,393.6633955,303.3097712,268.6469407,404.0416347,326.6243535,null,282.3440505,299.4157813,null,364.4876872,null,398.3505168,null,335.7544386,null,310.9308583,326.9439777,null,328.3582407,323.596349,384.0070058,304.0019928,395.3894903,307.0117926,338.3364311,null,307.7075086,387.1753165,null,323.8363839,286.059556,null,null,328.0775332,309.0393204,316.6751618,385.9756505,337.3505291,null,null,315.6065944,307.3525858,372.6002964,null,292.5158245,298.3794584,340.9836834,368.8210368,297.6555749,348.8681541,424.7879959,345.7516385,380.576472,305.7949503,279.7824004,319.5764202,363.0057551,null,299.6446114,312.2470431,338.2295973,null,316.9186485,271.6705616,351.5554822,null,297.0841735,null,null,261.4447977,315.1861206,null,315.9011216,null,null,null,258.3128794,390.1042229,336.9729496,385.5056354,352.563987,335.8458627,300.5006892,null,null,null,259.3733218,null,397.4319622,351.9607232,313.7765458,295.2368921,282.5398923,351.5974227,330.3615123,380.2014982,383.9625918,234.8526993,296.2388769,null,null,298.576676,323.1557769,311.7262883,330.0235306,350.4879387,null,null,339.0238982,378.5603036,333.3344693,325.2288808,null,355.4730347,286.4892804,null,null,332.0026304,416.0834805,342.5480142,310.5833739,300.150377,null,187.1707144,287.0856791,373.1653628,297.8130845,null,323.1990765,308.4826954,374.2329606,278.7422964,366.871502,375.1473148,432.556385,360.668259,323.1092851,null,279.7768565,343.233977,247.3354119,293.3098537,192.0335917,320.1021726,352.3534309,180.2067464,350.401849,null,318.4272408,328.6806496,291.9800835,243.4859418,null,327.922751,259.9799662,null,null,null,274.9043512,255.0431936,377.2411613,390.596392,275.7673211,null,372.9274557,null,312.9827267,355.4887658,null,298.7372193,377.1289704,323.508072,293.5742499,298.2267188,null,null,null,null,316.9569345,363.8668902,233.792588,377.1906657,350.4309403,412.6901114,259.1649652,null,324.8516587,337.5012466,null,343.289234,353.6072754,null,258.1911841,329.3383664,281.7007768,null,null,346.0750158,321.2508981,343.4390173,null,296.1902616,397.700065,262.0645514,377.3580484,385.4026595,null,null,347.8165145,289.9599529,373.9917105,256.6300682,363.3846827,null,null,444.970552,414.6367262,null,309.5419774,315.1804054,333.8122638,182.3973702,388.7686566,338.3969097,null,365.4536552,363.6848143,217.0006071,371.6493915,407.2965498,384.5628382,376.0461562,363.8317057,398.1619036,null,187.4241309,null,341.7282393,null,null,293.9242728,404.6099821,275.5917457,null,null,329.7315466,269.6466556,null,338.7713073,315.8056588,253.8305522,375.612318,273.2794477,280.9336643,385.0591343,209.4710584,258.3926829,null,314.5904772,340.6238055,350.3970819,null,346.5845565,null,329.004205,320.1008753,359.6658352,328.3295797,348.2397195,null,256.4738386,422.990413,315.4049171,321.2961415,283.2704951,262.526456,378.9986845,327.1938979,435.6727646,389.8892709,null,346.4861887,337.9638906,318.3766764,303.7341659,309.4168828,349.7346616,340.2378243,312.354938,295.1318312,335.9701137,336.9748613,303.7916881,325.4968479,351.0644584,310.6324499,334.0980227,366.8176388,362.3328717,343.8272757,361.9704241,328.359206,342.4535457,362.4895603,287.6981571,null,297.1855495,387.0987201,337.9160908,319.3567433,320.6934846,null,null,341.3418987,null,319.4634909,null,330.9342898,333.5825418,334.1611267,343.3180208,328.9398171,320.9488442,322.7330944,366.1462494,327.1722524,null,314.0431372,347.9751368,355.2138966,341.3024863,320.2589172,341.5268734,null,329.1439121,null,313.6480717,334.8899106,335.6387257,318.0260869,322.1069975,356.805465,320.4781059,null,339.0564796,312.3152294,328.9985402,342.9376749,null,289.2084077,342.4477002,356.1666135,null,329.6952227,null,312.2019838,331.4776493,null,319.0304951,318.7916672,363.0368508,324.5415963,null,358.2920642,null,null,339.8290139,null,null,323.3933402,310.1605449,307.6214615,387.0708235,297.0132721,null,319.522689,335.5487189,318.7889329,361.7796821,312.3299474,null,369.2977086,347.132562,336.0488317,320.7993822,318.4083972,288.1578825,312.0157982,314.2375769,289.9757767,334.1031198,null,368.504321,352.8356398,359.9517664,null,316.7644065,null,276.833932,364.4050673,378.3982185,301.9750112,357.2657321,317.1841649,null,316.5623313,354.4192485,null,null,null,302.7673475,386.7004633,367.2307922,null,339.846577,null,338.4412768,352.0186379,316.1444504,323.9556317,352.4244392,333.9471072,null,null,313.0573324,null,null,356.7736375,355.7260064,343.7643769,338.5823539,303.6469276,356.3048253,318.6434912,359.1869012,345.0188972,350.535418,341.80921,323.999049,334.6448874,339.0597496,330.1646816,358.1931208,328.2979468,350.1952531,null,305.2489447,329.4044567,346.4237871,343.4942197,313.4702967,336.1510498,296.4305395,309.6615775,363.5618201,null,null,365.0809633,303.5503239,null,378.4305007,274.6894585,null,null,337.2523247,383.7826259,352.6858428,274.2068037,334.7173347,null,null,223.2358161,388.7522531,393.7670457,null,324.7012926,331.1456211,330.8271328,326.2542815,321.7762131,278.428265,286.4035215,321.0804652,376.012933,null,null,351.271267,316.5673193,330.1278686,429.0223118,null,null,373.6533277,314.922739,224.212503,271.0971043,324.8707242,372.6219432,274.2923054,356.5526971,null,377.1434889,294.3477322,null,null,290.7959545,322.6744621,null,337.48361,289.3313578,390.2766084,null,292.4405364,null,null,380.1130295,334.1780747,283.6937822,307.7044736,245.954253,null,326.3979533,349.5295679,null,324.1289153,290.0572188,319.0569513,350.835986,null,324.0480348,null,299.9380711,307.4584542,null,null,377.3443719,381.7618836,null,364.191227,293.7830399,316.9730031,347.2368266,null,null,null,366.1318999,326.0765603,null,null,332.8455445,282.859453,381.930744,337.2097419,null,293.0746575,null,312.3436071,null,286.4138616,409.4467298,415.2870722,343.2583593,402.4993928,369.5329965,319.2647222,344.4477373,304.9264751,392.5825823,268.9713553,null,318.6104785,305.8325797,445.9383912,229.5755609,346.6497504,405.3200157,230.5558558,211.8515923,null,422.4456808,366.8149789,null,362.3521434,371.9671798,252.2313296,319.0258086,300.7637719,null,294.344858,346.5165347,331.3387387,323.4490542,348.4378199,246.9426113,281.3559754,314.6138512,369.6838669,372.8150748,281.1184903,424.6889941,316.0255129,444.3757307,null,315.8313963,273.4631394,325.3285434,409.2862103,298.3184183,283.7558239,347.0973537,null,346.2250616,336.2929185,354.7852174,null,340.3929304,null,341.537089,null,314.8432913,null,302.1313059,344.5354072,352.6239117,null,324.0843341,335.6264426,334.4420643,321.4733596,302.4917681,287.9481232,364.7467863,355.4437211,333.4825401,null,325.104847,312.814395,null,348.7146126,null,363.1796235,313.8746839,335.2919259,296.196618,null,369.5907405,null,302.3936053,null,null,344.5241793,334.0538855,330.7195488,319.2532011,331.5125334,330.3909763,311.5682272,366.0189196,307.7139958,309.8387324,null,null,295.9760944,349.4921773,null,328.724289,374.2269262,352.983112,376.6636079,304.5732451,302.7449602,null,313.8469725,307.3989595,347.7131572,null,null,322.6232487,360.5904451,358.3318489,350.3819811,371.0105238,316.2744033,370.167851,298.8035603,366.6447662,338.0494275,327.46267,337.7815799,null,null,345.5604812,373.872785,null,342.936881,367.3285417,363.4727979,330.8589265,322.4335918,332.0179353,362.5234159,355.0872579,null,365.4072222,309.3294235,347.0410203,306.2391799,305.2215636,349.2406145,null,null,333.4451998,383.2391383,null,266.1099928,null,304.9664881,317.1505445,341.8956361,374.0183114,null,375.619186,337.2671775,null,310.7162936,335.2793762,338.9992737,327.5578499,324.7581837,296.8210343,349.9232292,320.5559945,333.0524907,387.6863877,313.1270814,302.8198226,321.1604634,341.6377735,323.7286632,null,324.6592334,331.0302515,null,319.9129388,null,314.1313174,321.5859356,301.9655414,300.1846217,null,352.2299607,319.8379854,375.4573453,345.0439831,356.3179748,291.6876535,null,324.5704591,null,343.5454193,340.8718191,null,316.0725606,null,338.0524372,324.4333077,337.137553,346.7680519,324.3418933,328.2095662,333.0844548,318.3546116,322.7990702,null,350.1172538,311.553679,null,349.2554448,340.3101758,302.4175288,348.9519243,370.8930851,null,null,313.6711274,null,null,332.8815819,null,368.561073,300.6884166,343.9252223,null,296.848512,316.5527914,315.1899838,269.4901733,343.5933324,286.7651014,348.554792,null,326.7941938,366.0517519,328.1769777,312.9867532,305.2641421,320.4493278,348.1773307,295.2237067,321.1683132,355.4615889,null,323.6836829,null,369.0971134,304.8078454,265.4311206,null,null,311.5268902,333.477592,275.0556418,413.5603781,285.3951123,378.1083058,255.9767456,369.5529578,null,306.7022268,null,null,323.0368521,358.2591999,392.8331604,405.4034233,360.2839834,366.4122,null,275.1822396,248.0947589,null,395.2616371,318.5152705,325.8731338,349.655175,285.4551018,null,360.6123098,301.2190912,287.2237786,null,312.3591475,368.897034,326.6951985,null,374.7138549,282.3116407,350.0002357,300.4759248,null,344.309289,306.3253635,null,257.2765541,341.0295996,280.9320636,392.3462516,null,290.2764546,350.448584,null,null,284.7455104,295.8952066,300.7269949,311.7778219,null,305.5337841,367.4660098,295.5910188,295.8341509,null,329.1277384,258.038852,337.5344255,360.3229762,369.6215854,334.6861775,219.5534368,334.6558859,null,227.3484603,null,302.6118585,null,276.5501613,314.1400562,301.9809379,388.7877847,421.7220245,null,null,389.3387958,319.7370094,318.9879136,null,338.3575265,null,234.2856214,356.2116144,null,286.9926309,null,260.7710256,null,337.9470946,359.2257041,null,307.9549023,null,383.6714591,null,317.1039028,285.5609833,335.6227789,297.5057724,328.6488452,360.0866575,356.4202709,null,298.399724,277.1098543,290.3373982,303.7024092,345.7142058,282.9698785,336.477616,342.9993828,null,311.4674056,353.0081151,341.1742694,328.6002209,366.1974185,311.325845,291.1990882,300.0486912,null,351.8755075,null,382.0607072,388.0687108,267.8256479,306.0203928,406.0476089,323.552138,null,304.173434,369.190878,302.1904945,null,349.0194335,372.5038427,327.0023706,369.3418031,298.3293394,311.557381,350.7820824,259.0099448,304.5627763,null,null,null,324.2437795,346.7870025,null,331.4029471,323.1541152,356.3842719,262.0950222,346.6274674,304.7322035,323.372352,283.5146718,null,317.9634038,null,null,370.7534689,344.5896283,298.3904904,331.5598449,294.0151977,null,455.4512337,null,null,310.068681,261.2677066,260.2612056,337.2995669,null,322.7400312,313.0643165,null,375.8947584,null,null,338.4837028,null,null,293.1702731,315.4474916,null,330.7503922,309.4474322,287.0451104,363.6919491,396.4535684,339.0015749,271.1571199,349.6245531,360.9969405,259.2052741,383.6678659,392.8000812,409.3809084,376.811708,321.9745697,null,320.535989,415.9278983,346.6118493,384.8219665,279.7674997,400.6696015,306.5430715,null,396.6195096,345.3585328,null,null,null,239.9119021,389.088844,261.7199596,313.0834891,365.0609657,343.0415751,314.2230526,357.9352223,359.5161693,379.9142856,382.3578688,337.4623787,398.9553448,326.8531854,377.4557124,null,299.0182358,null,372.6252573,323.3799873,267.5611435,null,303.2575921,283.2173286,316.0998242,203.4445208,null,null,314.0907378,399.2820813,324.8446914,null,314.3314083,null,null,null,385.6527296,null,353.4846738,342.4414335,370.8518929,352.9177334,null,null,283.4785554,347.7751538,343.4037644,408.5912084,null,423.9520283,371.2838194,null,null,377.8135054,null,null,335.0923218,356.6325615,308.9016959,null,261.0680058,332.0302848,375.9643912,null,348.0477605,329.0195542,286.4748065,null,311.7948866,353.0558905,null,343.2938764,null,353.1898057,417.9118369,401.737392,null,null,null,324.5515135,392.3121734,293.0783048,429.8143222,332.7590286,339.112673,359.099733,300.6951298,null,355.3049804,381.5132119,355.6888923,329.3397676,null,247.9348553,296.6515644,null,366.1923267,340.3263144,379.6138031,327.2391088,null,301.3071729,317.2567883,282.0857193,312.3930192,null,411.1006917,null,null,429.0456197,418.4705513,291.2832716,null,280.6749836,206.2472294,371.4716905,317.6101823,null,252.4664847,352.3449293,277.6808372,333.2892162,280.8449162,380.3013502,393.2757718,312.9340248,null,441.5876538,475.7374602,260.4256046,387.4028567,259.534719,null,305.4312362,323.8327374,321.3994036,null,298.5524799,361.2478097,277.4992971,319.0050711,297.3305281,349.8852761,331.087177,null,129.0,305.6164225,247.1800381,null,null,349.772176,307.5634549,297.4044974,362.1469773,462.474215,318.465146,248.3043909,354.2502518,null,null,386.0387902,null,400.2745792,null,421.4860892,287.5708839,null,null,377.2216723,null,423.876297,null,338.0275987,357.3847087,289.9459845,314.4524251,null,338.293868,312.3354721,null,335.0542435,421.39399,null,333.0733642,436.2940712,288.6784626,321.6964552,305.8555705,355.4438313,314.1432699,241.4469173,381.1804665,292.2878884,317.4674988,335.7960815,357.9097952,476.5397173,408.2426703,288.2315179,299.7867108,373.2128081,323.4000316,318.9924059,373.5718778,261.213317,378.77572,null,327.9493964,328.81876,317.8375252,254.729932,353.0119744,350.5779501,327.717408,368.8420115,290.0528022,256.5904511,318.2457103,326.1684795,369.9062775,354.4446094,342.6734093,341.1636312,405.169386,null,376.3345659,314.8713417,316.1058923,354.1759723,339.4024397,365.2086922,314.1626019,null,339.8389768,null,281.7717071,null,null,308.2036941,null,306.4795583,null,264.285069,334.571785,349.9852426,335.2169277,330.9784658,287.706912,334.7534106,460.107069,348.9000157,360.3887983,409.5019532,null,318.7902016,null,373.1971458,318.1726874,351.4186342,312.0080945,314.9868005,290.7091699,371.4054069,289.1421749,306.1692512,368.2176798,null,338.06369,356.6452541,383.1131141,null,427.1845083,445.3595467,286.3275624,306.6473845,null,353.1763283,266.5622105,null,458.4410723,352.3037707,305.7965294,400.6917743,273.3843106,367.7618582,null,null,385.2366564,347.6308336,284.9457587,415.4508101,null,323.8243755,394.1965212,null,279.0010038,295.6188377,307.7527028,null,404.1043121,null,404.3430765,361.6313811,298.1924062,214.4608338,388.3127251,369.2106713,327.2612021,256.0895168,null,384.6548025,null,354.0372932,283.9759925,379.3749332,346.2853289,302.3257718,305.0400259,287.0125645,382.3415896,null,null,289.0143482,null,344.8797537,329.1670178,313.353813,null,311.2535646,340.2759489,391.6668777,373.7461928,272.1975647,384.1172466,310.2865771,377.8751931,248.7119634,433.6338999,347.9864477,284.407842,375.7186596,369.038841,417.2453878,418.4942436,null,263.2684163,267.6808262,352.316182,416.6983846,377.9900086,null,320.2601195,null,325.6329598,403.7884299,378.7587148,251.3839437,299.2416239,350.5843454,311.2953289,null,null,null,367.5334525,437.5922998,414.855784,207.8904823,345.5926345,377.7193867,null,264.9160462,null,341.066404,393.2646996,368.387038,278.0933093,310.6329105,349.9228521,384.1560786,387.2999071,369.7266834,null,339.4922222,313.4117075,279.2023071,377.2538339,null,281.6780401,null,null,355.2530789,null,261.3570408,395.9042077,439.7879384,393.5548922,364.6826343,282.5981192,286.2238757,null,null,251.4434997,390.4676837,252.1089251,null,321.3832777,376.4846222,276.2069197,366.1766336,356.1707021,null,371.7883636,387.356938,359.9305657,null,299.5216733,335.6604497,null,299.1315985,322.2696608,325.9504112,337.8619224,null,365.9413461,262.9957564,313.8855478,null,331.8381671,null,382.9587368,null,null,281.3861972,null,318.1832966,351.0522422,null,316.4338541,352.8691647,395.7395287,351.3453261,240.8976289,null,305.0940001,342.4983613,null,289.5996918,322.7545993,282.1055454,318.6890104,null,294.3157326,null,357.7310768,377.1781189],\"yaxis\":\"y\",\"type\":\"scattergl\"}],                        {\"template\":{\"data\":{\"bar\":[{\"error_x\":{\"color\":\"#2a3f5f\"},\"error_y\":{\"color\":\"#2a3f5f\"},\"marker\":{\"line\":{\"color\":\"#E5ECF6\",\"width\":0.5},\"pattern\":{\"fillmode\":\"overlay\",\"size\":10,\"solidity\":0.2}},\"type\":\"bar\"}],\"barpolar\":[{\"marker\":{\"line\":{\"color\":\"#E5ECF6\",\"width\":0.5},\"pattern\":{\"fillmode\":\"overlay\",\"size\":10,\"solidity\":0.2}},\"type\":\"barpolar\"}],\"carpet\":[{\"aaxis\":{\"endlinecolor\":\"#2a3f5f\",\"gridcolor\":\"white\",\"linecolor\":\"white\",\"minorgridcolor\":\"white\",\"startlinecolor\":\"#2a3f5f\"},\"baxis\":{\"endlinecolor\":\"#2a3f5f\",\"gridcolor\":\"white\",\"linecolor\":\"white\",\"minorgridcolor\":\"white\",\"startlinecolor\":\"#2a3f5f\"},\"type\":\"carpet\"}],\"choropleth\":[{\"colorbar\":{\"outlinewidth\":0,\"ticks\":\"\"},\"type\":\"choropleth\"}],\"contour\":[{\"colorbar\":{\"outlinewidth\":0,\"ticks\":\"\"},\"colorscale\":[[0.0,\"#0d0887\"],[0.1111111111111111,\"#46039f\"],[0.2222222222222222,\"#7201a8\"],[0.3333333333333333,\"#9c179e\"],[0.4444444444444444,\"#bd3786\"],[0.5555555555555556,\"#d8576b\"],[0.6666666666666666,\"#ed7953\"],[0.7777777777777778,\"#fb9f3a\"],[0.8888888888888888,\"#fdca26\"],[1.0,\"#f0f921\"]],\"type\":\"contour\"}],\"contourcarpet\":[{\"colorbar\":{\"outlinewidth\":0,\"ticks\":\"\"},\"type\":\"contourcarpet\"}],\"heatmap\":[{\"colorbar\":{\"outlinewidth\":0,\"ticks\":\"\"},\"colorscale\":[[0.0,\"#0d0887\"],[0.1111111111111111,\"#46039f\"],[0.2222222222222222,\"#7201a8\"],[0.3333333333333333,\"#9c179e\"],[0.4444444444444444,\"#bd3786\"],[0.5555555555555556,\"#d8576b\"],[0.6666666666666666,\"#ed7953\"],[0.7777777777777778,\"#fb9f3a\"],[0.8888888888888888,\"#fdca26\"],[1.0,\"#f0f921\"]],\"type\":\"heatmap\"}],\"heatmapgl\":[{\"colorbar\":{\"outlinewidth\":0,\"ticks\":\"\"},\"colorscale\":[[0.0,\"#0d0887\"],[0.1111111111111111,\"#46039f\"],[0.2222222222222222,\"#7201a8\"],[0.3333333333333333,\"#9c179e\"],[0.4444444444444444,\"#bd3786\"],[0.5555555555555556,\"#d8576b\"],[0.6666666666666666,\"#ed7953\"],[0.7777777777777778,\"#fb9f3a\"],[0.8888888888888888,\"#fdca26\"],[1.0,\"#f0f921\"]],\"type\":\"heatmapgl\"}],\"histogram\":[{\"marker\":{\"pattern\":{\"fillmode\":\"overlay\",\"size\":10,\"solidity\":0.2}},\"type\":\"histogram\"}],\"histogram2d\":[{\"colorbar\":{\"outlinewidth\":0,\"ticks\":\"\"},\"colorscale\":[[0.0,\"#0d0887\"],[0.1111111111111111,\"#46039f\"],[0.2222222222222222,\"#7201a8\"],[0.3333333333333333,\"#9c179e\"],[0.4444444444444444,\"#bd3786\"],[0.5555555555555556,\"#d8576b\"],[0.6666666666666666,\"#ed7953\"],[0.7777777777777778,\"#fb9f3a\"],[0.8888888888888888,\"#fdca26\"],[1.0,\"#f0f921\"]],\"type\":\"histogram2d\"}],\"histogram2dcontour\":[{\"colorbar\":{\"outlinewidth\":0,\"ticks\":\"\"},\"colorscale\":[[0.0,\"#0d0887\"],[0.1111111111111111,\"#46039f\"],[0.2222222222222222,\"#7201a8\"],[0.3333333333333333,\"#9c179e\"],[0.4444444444444444,\"#bd3786\"],[0.5555555555555556,\"#d8576b\"],[0.6666666666666666,\"#ed7953\"],[0.7777777777777778,\"#fb9f3a\"],[0.8888888888888888,\"#fdca26\"],[1.0,\"#f0f921\"]],\"type\":\"histogram2dcontour\"}],\"mesh3d\":[{\"colorbar\":{\"outlinewidth\":0,\"ticks\":\"\"},\"type\":\"mesh3d\"}],\"parcoords\":[{\"line\":{\"colorbar\":{\"outlinewidth\":0,\"ticks\":\"\"}},\"type\":\"parcoords\"}],\"pie\":[{\"automargin\":true,\"type\":\"pie\"}],\"scatter\":[{\"marker\":{\"colorbar\":{\"outlinewidth\":0,\"ticks\":\"\"}},\"type\":\"scatter\"}],\"scatter3d\":[{\"line\":{\"colorbar\":{\"outlinewidth\":0,\"ticks\":\"\"}},\"marker\":{\"colorbar\":{\"outlinewidth\":0,\"ticks\":\"\"}},\"type\":\"scatter3d\"}],\"scattercarpet\":[{\"marker\":{\"colorbar\":{\"outlinewidth\":0,\"ticks\":\"\"}},\"type\":\"scattercarpet\"}],\"scattergeo\":[{\"marker\":{\"colorbar\":{\"outlinewidth\":0,\"ticks\":\"\"}},\"type\":\"scattergeo\"}],\"scattergl\":[{\"marker\":{\"colorbar\":{\"outlinewidth\":0,\"ticks\":\"\"}},\"type\":\"scattergl\"}],\"scattermapbox\":[{\"marker\":{\"colorbar\":{\"outlinewidth\":0,\"ticks\":\"\"}},\"type\":\"scattermapbox\"}],\"scatterpolar\":[{\"marker\":{\"colorbar\":{\"outlinewidth\":0,\"ticks\":\"\"}},\"type\":\"scatterpolar\"}],\"scatterpolargl\":[{\"marker\":{\"colorbar\":{\"outlinewidth\":0,\"ticks\":\"\"}},\"type\":\"scatterpolargl\"}],\"scatterternary\":[{\"marker\":{\"colorbar\":{\"outlinewidth\":0,\"ticks\":\"\"}},\"type\":\"scatterternary\"}],\"surface\":[{\"colorbar\":{\"outlinewidth\":0,\"ticks\":\"\"},\"colorscale\":[[0.0,\"#0d0887\"],[0.1111111111111111,\"#46039f\"],[0.2222222222222222,\"#7201a8\"],[0.3333333333333333,\"#9c179e\"],[0.4444444444444444,\"#bd3786\"],[0.5555555555555556,\"#d8576b\"],[0.6666666666666666,\"#ed7953\"],[0.7777777777777778,\"#fb9f3a\"],[0.8888888888888888,\"#fdca26\"],[1.0,\"#f0f921\"]],\"type\":\"surface\"}],\"table\":[{\"cells\":{\"fill\":{\"color\":\"#EBF0F8\"},\"line\":{\"color\":\"white\"}},\"header\":{\"fill\":{\"color\":\"#C8D4E3\"},\"line\":{\"color\":\"white\"}},\"type\":\"table\"}]},\"layout\":{\"annotationdefaults\":{\"arrowcolor\":\"#2a3f5f\",\"arrowhead\":0,\"arrowwidth\":1},\"autotypenumbers\":\"strict\",\"coloraxis\":{\"colorbar\":{\"outlinewidth\":0,\"ticks\":\"\"}},\"colorscale\":{\"diverging\":[[0,\"#8e0152\"],[0.1,\"#c51b7d\"],[0.2,\"#de77ae\"],[0.3,\"#f1b6da\"],[0.4,\"#fde0ef\"],[0.5,\"#f7f7f7\"],[0.6,\"#e6f5d0\"],[0.7,\"#b8e186\"],[0.8,\"#7fbc41\"],[0.9,\"#4d9221\"],[1,\"#276419\"]],\"sequential\":[[0.0,\"#0d0887\"],[0.1111111111111111,\"#46039f\"],[0.2222222222222222,\"#7201a8\"],[0.3333333333333333,\"#9c179e\"],[0.4444444444444444,\"#bd3786\"],[0.5555555555555556,\"#d8576b\"],[0.6666666666666666,\"#ed7953\"],[0.7777777777777778,\"#fb9f3a\"],[0.8888888888888888,\"#fdca26\"],[1.0,\"#f0f921\"]],\"sequentialminus\":[[0.0,\"#0d0887\"],[0.1111111111111111,\"#46039f\"],[0.2222222222222222,\"#7201a8\"],[0.3333333333333333,\"#9c179e\"],[0.4444444444444444,\"#bd3786\"],[0.5555555555555556,\"#d8576b\"],[0.6666666666666666,\"#ed7953\"],[0.7777777777777778,\"#fb9f3a\"],[0.8888888888888888,\"#fdca26\"],[1.0,\"#f0f921\"]]},\"colorway\":[\"#636efa\",\"#EF553B\",\"#00cc96\",\"#ab63fa\",\"#FFA15A\",\"#19d3f3\",\"#FF6692\",\"#B6E880\",\"#FF97FF\",\"#FECB52\"],\"font\":{\"color\":\"#2a3f5f\"},\"geo\":{\"bgcolor\":\"white\",\"lakecolor\":\"white\",\"landcolor\":\"#E5ECF6\",\"showlakes\":true,\"showland\":true,\"subunitcolor\":\"white\"},\"hoverlabel\":{\"align\":\"left\"},\"hovermode\":\"closest\",\"mapbox\":{\"style\":\"light\"},\"paper_bgcolor\":\"white\",\"plot_bgcolor\":\"#E5ECF6\",\"polar\":{\"angularaxis\":{\"gridcolor\":\"white\",\"linecolor\":\"white\",\"ticks\":\"\"},\"bgcolor\":\"#E5ECF6\",\"radialaxis\":{\"gridcolor\":\"white\",\"linecolor\":\"white\",\"ticks\":\"\"}},\"scene\":{\"xaxis\":{\"backgroundcolor\":\"#E5ECF6\",\"gridcolor\":\"white\",\"gridwidth\":2,\"linecolor\":\"white\",\"showbackground\":true,\"ticks\":\"\",\"zerolinecolor\":\"white\"},\"yaxis\":{\"backgroundcolor\":\"#E5ECF6\",\"gridcolor\":\"white\",\"gridwidth\":2,\"linecolor\":\"white\",\"showbackground\":true,\"ticks\":\"\",\"zerolinecolor\":\"white\"},\"zaxis\":{\"backgroundcolor\":\"#E5ECF6\",\"gridcolor\":\"white\",\"gridwidth\":2,\"linecolor\":\"white\",\"showbackground\":true,\"ticks\":\"\",\"zerolinecolor\":\"white\"}},\"shapedefaults\":{\"line\":{\"color\":\"#2a3f5f\"}},\"ternary\":{\"aaxis\":{\"gridcolor\":\"white\",\"linecolor\":\"white\",\"ticks\":\"\"},\"baxis\":{\"gridcolor\":\"white\",\"linecolor\":\"white\",\"ticks\":\"\"},\"bgcolor\":\"#E5ECF6\",\"caxis\":{\"gridcolor\":\"white\",\"linecolor\":\"white\",\"ticks\":\"\"}},\"title\":{\"x\":0.05},\"xaxis\":{\"automargin\":true,\"gridcolor\":\"white\",\"linecolor\":\"white\",\"ticks\":\"\",\"title\":{\"standoff\":15},\"zerolinecolor\":\"white\",\"zerolinewidth\":2},\"yaxis\":{\"automargin\":true,\"gridcolor\":\"white\",\"linecolor\":\"white\",\"ticks\":\"\",\"title\":{\"standoff\":15},\"zerolinecolor\":\"white\",\"zerolinewidth\":2}}},\"xaxis\":{\"anchor\":\"y\",\"domain\":[0.0,1.0],\"title\":{\"text\":\"ph\"}},\"yaxis\":{\"anchor\":\"x\",\"domain\":[0.0,1.0],\"title\":{\"text\":\"Sulfate\"}},\"coloraxis\":{\"colorbar\":{\"title\":{\"text\":\"Potability\"}},\"colorscale\":[[0.0,\"#0d0887\"],[0.1111111111111111,\"#46039f\"],[0.2222222222222222,\"#7201a8\"],[0.3333333333333333,\"#9c179e\"],[0.4444444444444444,\"#bd3786\"],[0.5555555555555556,\"#d8576b\"],[0.6666666666666666,\"#ed7953\"],[0.7777777777777778,\"#fb9f3a\"],[0.8888888888888888,\"#fdca26\"],[1.0,\"#f0f921\"]]},\"legend\":{\"tracegroupgap\":0},\"margin\":{\"t\":60}},                        {\"responsive\": true}                    ).then(function(){\n",
              "                            \n",
              "var gd = document.getElementById('bf2f3b1a-0255-4ef5-8d73-6ed57e72f8de');\n",
              "var x = new MutationObserver(function (mutations, observer) {{\n",
              "        var display = window.getComputedStyle(gd).display;\n",
              "        if (!display || display === 'none') {{\n",
              "            console.log([gd, 'removed!']);\n",
              "            Plotly.purge(gd);\n",
              "            observer.disconnect();\n",
              "        }}\n",
              "}});\n",
              "\n",
              "// Listen for the removal of the full notebook cells\n",
              "var notebookContainer = gd.closest('#notebook-container');\n",
              "if (notebookContainer) {{\n",
              "    x.observe(notebookContainer, {childList: true});\n",
              "}}\n",
              "\n",
              "// Listen for the clearing of the current output cell\n",
              "var outputEl = gd.closest('.output');\n",
              "if (outputEl) {{\n",
              "    x.observe(outputEl, {childList: true});\n",
              "}}\n",
              "\n",
              "                        })                };                            </script>        </div>\n",
              "</body>\n",
              "</html>"
            ]
          },
          "metadata": {}
        }
      ]
    },
    {
      "cell_type": "code",
      "source": [
        "fig = px.scatter(df,x=\"Organic_carbon\",y=\"Hardness\",color=\"Potability\",template=\"plotly_dark\")\n",
        "fig.show()"
      ],
      "metadata": {
        "colab": {
          "base_uri": "https://localhost:8080/",
          "height": 542
        },
        "id": "zPH4XCuKUpY1",
        "outputId": "39f152b8-2420-4f89-d57a-b3b94be2ce93"
      },
      "execution_count": null,
      "outputs": [
        {
          "output_type": "display_data",
          "data": {
            "text/html": [
              "<html>\n",
              "<head><meta charset=\"utf-8\" /></head>\n",
              "<body>\n",
              "    <div>            <script src=\"https://cdnjs.cloudflare.com/ajax/libs/mathjax/2.7.5/MathJax.js?config=TeX-AMS-MML_SVG\"></script><script type=\"text/javascript\">if (window.MathJax) {MathJax.Hub.Config({SVG: {font: \"STIX-Web\"}});}</script>                <script type=\"text/javascript\">window.PlotlyConfig = {MathJaxConfig: 'local'};</script>\n",
              "        <script src=\"https://cdn.plot.ly/plotly-2.8.3.min.js\"></script>                <div id=\"9c997fae-ded2-48b1-8f6a-e9152d661214\" class=\"plotly-graph-div\" style=\"height:525px; width:100%;\"></div>            <script type=\"text/javascript\">                                    window.PLOTLYENV=window.PLOTLYENV || {};                                    if (document.getElementById(\"9c997fae-ded2-48b1-8f6a-e9152d661214\")) {                    Plotly.newPlot(                        \"9c997fae-ded2-48b1-8f6a-e9152d661214\",                        [{\"hovertemplate\":\"Organic_carbon=%{x}<br>Hardness=%{y}<br>Potability=%{marker.color}<extra></extra>\",\"legendgroup\":\"\",\"marker\":{\"color\":[0,0,0,0,0,0,0,0,0,0,0,0,0,0,0,0,0,0,0,0,0,0,0,0,0,0,0,0,0,0,0,0,0,0,0,0,0,0,0,0,0,0,0,0,0,0,0,0,0,0,0,0,0,0,0,0,0,0,0,0,0,0,0,0,0,0,0,0,0,0,0,0,0,0,0,0,0,0,0,0,0,0,0,0,0,0,0,0,0,0,0,0,0,0,0,0,0,0,0,0,0,0,0,0,0,0,0,0,0,0,0,0,0,0,0,0,0,0,0,0,0,0,0,0,0,0,1,1,1,1,1,1,1,1,1,1,1,1,1,1,1,1,1,1,1,1,1,1,1,1,1,1,1,1,1,1,1,1,1,1,1,1,1,1,1,1,1,1,1,1,1,1,1,1,1,1,1,1,1,1,1,1,1,1,1,1,1,1,1,1,1,1,1,1,1,1,1,1,1,1,1,1,1,1,1,1,1,1,1,1,1,1,1,1,1,1,1,1,1,1,1,1,1,1,1,1,1,1,1,1,1,1,1,1,1,1,1,1,1,1,1,1,1,1,1,1,1,1,1,1,1,1,1,1,1,1,1,1,1,1,1,1,1,1,1,1,1,1,1,1,1,1,1,1,1,1,1,1,1,1,1,1,1,1,1,1,0,0,0,0,0,0,0,0,0,0,0,0,0,0,0,0,0,0,0,0,0,0,0,0,0,0,0,0,0,0,0,0,0,0,0,0,0,0,0,0,0,0,0,0,0,0,0,0,0,0,0,0,0,0,0,0,0,0,0,0,0,0,0,0,0,0,0,0,0,0,0,0,0,0,0,0,0,0,0,0,0,0,0,0,0,0,0,0,0,0,0,0,0,0,0,0,0,0,0,0,0,0,0,0,0,0,0,0,0,0,0,0,0,0,0,0,0,0,0,0,0,0,0,0,0,0,0,0,0,0,0,0,0,0,0,0,0,0,0,0,0,0,0,0,0,0,0,0,0,0,0,0,0,0,0,0,0,0,0,0,0,0,0,0,0,0,0,0,0,0,0,1,1,1,1,1,1,1,1,1,1,1,1,1,1,1,1,1,1,1,1,1,1,1,1,1,1,1,1,1,1,1,1,1,1,1,1,1,1,1,1,1,1,1,1,1,1,1,1,1,1,1,1,1,1,1,1,1,1,1,1,1,1,1,1,1,1,1,1,1,1,1,1,1,1,1,1,1,1,1,1,1,1,1,1,1,1,1,1,1,1,1,1,1,1,1,1,1,1,1,1,1,1,1,1,1,1,1,1,1,1,1,1,1,1,1,1,1,1,1,1,1,1,1,1,1,1,1,1,1,1,1,1,1,1,1,1,1,1,1,1,1,1,1,1,1,1,1,1,1,1,1,1,1,1,1,1,1,1,1,1,0,0,0,0,0,0,0,0,0,0,0,0,0,0,0,0,0,0,0,0,0,0,0,0,0,0,0,0,0,0,0,0,0,0,0,0,0,0,0,0,0,0,0,0,0,0,0,0,0,0,0,0,0,0,0,0,0,0,0,0,0,0,0,0,0,0,0,0,0,0,0,0,0,0,0,0,0,0,0,0,0,0,0,0,0,0,0,0,0,0,0,0,0,0,0,0,0,0,0,0,0,0,0,0,0,0,0,0,0,0,0,0,0,0,0,0,0,0,0,0,0,0,0,0,0,0,0,0,0,0,0,0,0,0,0,0,0,0,0,0,0,0,0,0,0,0,0,0,0,0,0,0,0,0,0,0,0,0,0,0,0,0,0,0,0,0,0,0,0,0,0,0,0,0,0,0,0,0,0,0,0,0,0,0,0,0,0,0,0,0,0,0,0,0,0,0,0,0,0,0,0,1,1,1,1,1,1,1,1,1,1,1,1,1,1,1,1,1,1,1,1,1,1,1,1,1,1,1,1,1,1,1,1,1,1,1,1,1,1,1,1,1,1,1,1,1,1,1,1,1,1,1,1,1,1,1,1,1,1,1,1,1,1,1,1,1,1,1,1,1,1,1,1,1,1,1,1,1,1,1,1,1,1,1,1,1,1,1,1,1,1,1,1,1,1,1,1,1,1,1,1,1,1,1,1,1,1,1,1,1,1,1,1,1,1,1,1,1,1,1,1,0,0,0,0,0,0,0,0,0,0,0,0,0,0,0,0,0,0,0,0,0,0,0,0,0,0,0,0,0,0,0,0,0,0,0,0,0,0,0,0,0,0,0,0,0,0,0,0,0,0,0,0,0,0,0,0,0,0,0,0,0,0,0,0,0,0,0,0,0,0,0,0,0,0,0,0,0,0,0,0,0,0,0,0,0,0,0,0,0,0,0,0,0,0,0,0,0,0,0,0,0,0,0,0,0,0,0,0,0,0,0,0,0,0,0,0,0,0,0,0,0,0,0,0,0,0,0,0,0,0,0,0,0,0,0,0,0,0,0,0,0,0,0,0,0,0,0,0,0,0,0,0,0,0,0,0,0,0,0,0,0,0,0,0,0,0,0,0,0,0,0,0,0,0,0,0,0,0,0,0,0,0,1,1,1,1,1,1,1,1,1,1,1,1,1,1,1,1,1,1,1,1,1,1,1,1,1,1,1,1,1,1,1,1,1,1,1,1,1,1,1,1,1,1,1,1,1,1,1,1,1,1,1,1,1,1,1,1,1,1,1,1,1,1,1,1,1,1,1,1,1,1,1,1,1,1,1,1,1,1,1,1,1,1,1,1,1,1,1,1,1,1,1,1,1,1,1,1,1,1,1,1,1,1,1,1,1,1,1,1,1,1,1,1,1,1,1,1,1,1,1,1,1,1,1,1,1,1,1,1,1,1,1,1,1,1,1,1,1,1,1,1,1,1,1,1,1,1,1,1,1,0,0,0,0,0,0,0,0,0,0,0,0,0,0,0,0,0,0,0,0,0,0,0,0,0,0,0,0,0,0,0,0,0,0,0,0,0,0,0,0,0,0,0,0,0,0,0,0,0,0,0,0,0,0,0,0,0,0,0,0,0,0,0,0,0,0,0,0,0,0,0,0,0,0,0,0,0,0,0,0,0,0,0,0,0,0,0,0,0,0,0,0,0,0,0,0,0,0,0,0,0,0,0,0,0,0,0,0,0,0,0,0,0,0,0,0,0,0,0,0,0,0,0,0,0,0,0,0,0,0,0,0,0,0,0,0,0,0,0,0,0,0,0,0,0,0,0,0,0,0,0,0,0,0,0,0,0,0,0,0,0,0,0,0,0,0,0,0,0,0,0,0,0,0,0,0,1,1,1,1,1,1,1,1,1,1,1,1,1,1,1,1,1,1,1,1,1,1,1,1,1,1,1,1,1,1,1,1,1,1,1,1,1,1,1,1,1,1,1,1,1,1,1,1,1,1,1,1,1,1,1,1,1,1,1],\"coloraxis\":\"coloraxis\",\"symbol\":\"circle\"},\"mode\":\"markers\",\"name\":\"\",\"showlegend\":false,\"x\":[10.37978308,15.18001312,16.86863693,18.4365245,11.55827944,8.39973464,13.78969532,12.3638167,12.70604897,17.92780641,15.58681044,14.5257457,15.92953591,19.37080718,13.2283111,11.53978119,20.39702184,13.38734078,12.88875905,12.50916394,16.33169328,17.88423519,14.18906221,16.60903316,11.25638117,14.89999957,13.80590221,12.72952472,10.34895076,16.56865557,7.922598333,16.8990378,12.89070856,10.24481507,12.16693715,10.96648615,9.034066753,12.26500158,22.46989199,16.47196935,18.33889255,10.1805138,11.0931634,23.91760126,18.66822946,16.14079002,13.28533392,10.09086975,14.44223828,16.69821637,15.52665845,17.29929446,13.4863791,12.80458815,11.482687,9.300117278,15.05431287,12.32123216,12.29380305,18.54590296,12.03404227,15.62561667,11.38593727,16.91214158,13.79526446,19.40914656,9.039042454,16.57598077,16.02424609,13.0768589,20.39378167,17.74599613,19.18844138,13.28155615,13.97480047,18.57592068,13.32598708,8.816486899,12.98710649,13.24613956,11.76830935,15.36588356,16.42004096,13.74926131,18.85851888,12.6965448,14.83810023,9.500295529,15.01303033,10.7401459,13.30669203,12.20710849,12.99301224,17.91652637,14.5297793,14.68397047,13.93214538,14.03826326,18.75613937,13.55036657,15.68940449,18.27241832,13.579996,23.39951606,15.83176344,11.50450612,20.23252348,17.72972404,16.08284748,15.91450007,17.47063098,10.99941608,16.02250323,9.348252155,17.11527603,16.58457144,11.28641004,16.80039961,14.21576467,16.34071505,10.54688624,10.21377929,9.182833652,10.84773685,15.12933449,13.88883433,8.606396747,14.77086294,12.92410682,11.43246635,14.53351004,10.46423858,18.70927337,11.36686342,14.16893351,13.1472795,15.57157096,15.5172963,16.56316651,12.08389565,11.76614643,14.82874304,17.78000011,11.36870244,12.99414,17.85447002,17.28504169,17.41168255,9.983462392,16.16409127,13.50768846,10.50481955,18.95953438,12.24734356,12.71635014,16.46083688,11.85322809,13.74705768,19.93748613,17.97556384,16.11711046,12.99059199,17.89572372,16.96330978,14.36963009,13.63397438,10.80631311,17.01078491,12.6146689,14.5601358,15.03031511,12.77701399,16.40615622,16.69147057,6.37407026,9.751086325,11.59002511,13.37614863,14.25464074,8.630090798,11.94991382,18.0153855,10.49058864,11.11927378,19.60042881,13.19534068,14.70501353,17.05271326,19.7625765,15.30607892,16.29361407,10.65093547,17.18676578,14.32688885,14.38960913,10.89992641,8.942072174,18.44079003,18.27243924,15.64005334,10.38517245,19.39632945,17.98595656,14.34767609,13.12769368,14.25268374,6.748091938,16.90014798,12.81872967,5.315286537,13.65395987,11.88716125,13.56538738,19.05698492,13.49640431,13.33676961,12.25408076,11.34630175,13.13835315,12.73604425,22.51787047,12.90422086,11.29318661,10.16030276,12.28782443,11.41701861,12.18263888,12.07044433,12.39770353,9.142523494,14.2351542,13.86648723,15.25402122,16.3893839,8.073420571,17.12096224,13.45108878,12.43973968,9.55173234,18.2100315,17.27466256,11.78479884,16.54292133,13.57022302,14.78229043,14.18239607,15.01924062,11.53998664,18.19693095,22.50467944,20.29627439,17.74122824,11.85691442,14.84495478,11.25177781,12.53868069,11.31229362,15.08869952,8.006207774,14.85798109,12.32260382,18.46401541,9.085278555,19.58549658,17.41690264,16.62938444,10.24723219,15.63945476,15.98941896,10.52016145,16.51623165,12.85423898,15.19701462,13.53940958,15.37009758,7.496410136,5.567692791,17.35807147,15.28426758,14.89609216,20.69619806,14.47165033,17.76964143,15.06704165,16.92441864,12.07920712,13.42012608,18.68421531,20.16073442,9.657360417,10.33998559,16.51972223,15.96353978,11.36042703,12.17894044,12.00154741,23.37326504,18.26368767,13.43350592,11.26512723,15.8950482,14.3753683,10.78050121,19.62602199,11.29178773,13.67547972,15.37154969,14.03355283,16.11543236,14.48221298,13.14249297,10.65887825,15.96749019,13.2043938,16.50157842,14.1541096,19.89002532,7.091298157,12.49050929,8.811986112,14.89756316,16.78830607,14.56216135,16.12897565,14.85222533,9.633631144,11.07834122,12.26349197,15.39645507,14.17100954,14.69290181,19.923704,10.63974342,14.21379446,13.96342114,17.92939462,12.06531693,16.22104374,21.27809453,15.74435294,13.37094975,12.87934115,18.00670264,10.63879836,14.97934763,19.11602216,17.47278848,17.85305375,17.97327721,11.85608904,15.19604513,11.96510684,11.89939783,19.33423211,12.72542758,7.477315033,9.237117976,8.828688919,12.5604462,11.97427024,14.5570684,15.51403298,14.52615101,19.37023363,11.89467313,17.34880167,17.0525396,15.71213869,16.48815637,16.78521507,11.809444,11.92799853,7.654955683,16.6974084,10.87809626,14.38072463,22.68683674,21.94018962,8.404570009,15.91376093,12.85340479,12.61296618,13.89151934,12.04291419,15.92692077,15.59896478,12.58016151,18.66140305,18.32840115,10.56645201,14.33883976,13.19171963,11.58737783,13.93868558,15.49632541,16.56939117,17.5306595,11.35873535,13.92500999,13.3748312,16.01264274,13.42280176,12.51573371,11.76345297,13.448689,8.457141855,14.38722368,15.98737034,20.72580591,19.42689332,17.23957738,5.914617068,12.9022129,15.15058155,16.72237609,11.03223999,17.30747582,16.17062839,12.87712332,23.51477377,16.91711276,19.57827271,15.65614883,14.10482106,19.4116987,13.97073238,14.46029465,10.55857558,15.5183225,14.02354722,14.89918076,13.82554783,15.9523928,9.439925286,10.15323287,15.44604899,12.80902397,13.83511668,14.06171029,15.55010138,14.14931749,13.27252598,14.63390897,15.95213165,12.36182677,14.88630503,19.36869791,13.98629365,13.91164543,11.93480194,10.46102466,16.47052774,6.776145723,11.26688617,9.612293184,7.750606555,18.46869035,18.18887253,14.66570381,12.38922918,10.2130582,15.14906826,16.53621617,14.16660236,18.8222159,13.80837511,14.96277971,9.693048967,9.184400747,15.40338969,18.36143559,14.98003369,19.62192339,14.82644147,12.93732874,13.8434938,13.89563062,12.82650937,17.1960121,13.91386963,11.42091036,16.64247971,13.91682032,18.75990224,13.042948,9.640241052,15.79097733,11.75734824,12.51464126,10.82869634,17.03246611,14.80519846,17.79595745,20.05151858,12.33228811,23.56964491,15.90098505,15.49560337,15.0086742,12.89704926,15.31397775,17.18796335,12.63608646,17.53070356,10.68067274,10.43033979,15.48527563,10.42915946,13.91876862,13.65110537,16.21914102,18.18983851,12.72192188,13.27027883,14.7925852,18.41518046,16.45099005,14.73229122,8.95640146,9.901327632,14.97119882,20.38671963,15.67156353,13.2019432,14.22175704,16.38314048,13.98356664,13.91093319,19.44259882,8.129792646,16.58112044,8.713963616,14.8415799,18.74323079,16.62562738,14.68592683,17.70572731,16.89575368,7.760852569,7.918150338,12.27318065,11.68712384,12.83064631,16.12752714,14.37633691,6.00039093,12.78526531,13.26328179,11.85907432,8.008011415,8.857705531,9.999397816,14.92917215,14.6893506,15.02708758,8.589895535,12.841611,16.10916917,10.10514594,7.817811637,10.43961937,16.00671093,21.22812724,21.49786644,9.77189594,17.07312308,13.99084222,14.83425698,12.30010681,17.26807363,18.93733758,13.21722269,18.52179155,18.7786961,8.986363424,14.25535626,20.11882693,19.23296141,16.14451044,14.99056698,15.48686237,14.76833656,2.2,10.40725749,14.21379885,17.69971822,15.12267225,12.15945691,7.59251575,17.75170539,12.89221011,14.11047624,13.55379641,12.05141657,10.54509177,10.98668253,10.77863263,6.039669028,18.26795085,14.61342264,15.14754698,14.21062445,17.55687962,15.13047649,14.20266406,19.48294518,18.36185806,10.43007634,8.286550373,15.6211387,12.92586966,16.35285801,13.79765641,14.02050742,11.38320988,16.06643903,16.29371561,13.63691003,18.46309476,13.98383301,10.86177527,11.0756218,11.37873797,10.36262263,17.24730722,17.63036246,12.64013548,14.11682361,8.818756567,10.28767317,14.02776594,18.06495658,9.700906283,14.94908037,12.95044416,15.43383428,18.27375696,12.40443875,18.72131157,15.77992197,11.09284167,19.19574006,14.0272968,21.11924925,15.25439184,18.89313661,11.65345775,17.95484851,11.13531183,9.689143568,16.82377293,18.02609815,14.40165409,22.18784921,10.4074788,9.854011285,19.77536713,16.35452024,11.04440513,14.19254435,14.2339516,11.14770411,12.99459554,17.31468113,12.61825178,12.42876341,11.08483406,19.30124821,14.7748006,12.55698319,18.34359021,15.54796357,11.22657799,4.966861619,17.10756313,12.18082601,10.61458159,12.82812074,12.87480498,11.79899055,14.63892652,10.02403918,19.17473871,16.7221946,11.58014075,11.17654813,15.77046418,11.91573964,15.33300458,14.78431358,12.81363426,7.609797727,8.123470112,9.982010229,13.46992402,10.63423012,16.30779009,11.86324832,20.4839023,13.79786968,14.15147307,16.3599511,15.90527043,14.33780438,10.58333615,15.66169229,10.69258799,18.24071162,9.583323113,16.99633028,13.24332928,17.70683826,17.07526259,14.66556053,17.16196607,20.60640864,20.92695018,16.52049596,13.12594167,15.0894408,11.85446068,16.29668848,17.92578239,17.11544677,19.52731893,13.27889595,12.74821674,20.18959951,10.66349163,14.61876666,17.06138947,9.852784882,14.31941121,12.54887108,15.16457414,14.14225093,15.47487594,12.59999831,18.0824904,12.29875322,13.78042674,16.0869495,13.14044719,12.75811532,15.05606409,17.73037119,16.61424751,14.04948264,12.86399234,16.98166011,18.09454383,8.660869468,18.3676209,14.02383447,17.97129472,11.23891367,13.41781308,18.96441809,14.83156005,15.41647494,14.89621036,12.34483405,12.25839557,15.23382587,13.07474968,14.94772039,12.90979781,16.69026572,13.62553323,13.17342626,11.87758168,11.07051143,15.5031442,14.6597409,7.85208554,14.81063041,18.24809789,19.03221887,18.91918835,11.07028905,15.34331564,11.75993045,13.23230789,18.86381748,18.76832821,16.19894784,14.61650918,17.26518634,16.27182497,13.74474872,18.66390108,9.684376378,15.47040047,16.00699084,16.56311638,15.80508483,13.52192326,17.75844368,15.11084889,10.62226549,19.69984804,11.63539928,22.09199022,19.91295017,19.41801315,13.97834793,10.41588906,11.71382102,15.21529266,13.56125295,11.9756805,12.58847481,14.52349976,22.15974723,16.20237144,14.74434737,16.89517971,14.07087898,14.06313997,13.60964252,6.059608221,15.69283855,16.00520675,18.2352202,11.79324634,17.59212637,13.33538104,11.32544664,13.2831001,14.38834959,13.53166045,14.92061556,14.06559734,11.85510295,10.50402321,10.82460037,12.86641996,15.69217561,15.29749572,13.89895042,18.42838695,11.24646038,17.73188235,10.37184324,12.81460367,15.15117258,14.42088194,15.8690103,15.02396166,12.71218695,11.40337222,20.93935933,15.60372925,10.35399456,12.49565771,14.36562486,16.05320185,10.07019192,20.22442581,12.90673002,14.94781096,17.84899443,13.97860817,13.52652199,11.05580115,12.56706136,19.3558411,13.13395934,13.26210211,17.85721377,16.08971042,14.17650116,15.97601765,14.09071858,19.64389586,16.57656488,10.58358121,17.54543954,14.66544144,7.619812483,7.090387209,11.973422,8.189662176,15.96565159,14.91119053,18.71387553,16.77754027,13.78926724,11.14708534,12.49338833,13.81845025,16.27483066,17.03360168,14.68357985,13.53343295,18.23871124,8.233404554,14.6705549,17.56193335,18.73793089,11.9304333,10.89008481,17.34380558,11.98832391,8.602425359,14.29852082,14.79955298,10.78596494,14.51299105,16.31169636,11.85890453,14.42722549,11.16909021,16.30747374,18.99915352,14.05846094,13.68602599,5.871941344,20.53968805,16.71147099,14.08310964,17.38447055,10.93386725,8.360283485,15.894674,13.08188134,13.95471046,12.19944909,14.49579062,15.84330317,14.86113268,12.03845715,14.08438826,15.69872552,10.04977199,14.28296053,15.7155459,11.28570884,17.8719497,14.12104923,13.67643542,15.86775076,10.06925422,19.57257183,14.37676427,9.704704113,13.00188064,16.73674859,13.44751311,13.95133161,17.13883102,11.87172464,12.70142233,18.50376189,10.50430338,16.68198993,16.23303855,10.44450091,15.66438186,20.76898639,14.80132901,18.60072789,16.03597988,17.92114094,12.12725392,14.39386904,13.77360984,13.93796787,12.00217768,13.623308,21.8131597,14.53607988,18.73692675,16.03029306,14.24471959,16.9822557,12.43757097,18.1252019,16.43771518,16.66115312,17.4664673,8.634318939,15.64703607,11.70595337,10.21818532,14.09878574,11.83810568,15.84374365,12.50155351,18.20713697,14.41095247,12.37033861,12.57071518,20.60357442,7.710769288,5.362370906,12.12836583,16.19657332,18.25347219,15.04759327,16.83933062,8.857599142,13.81575694,17.6601492,11.34921023,12.1987325,19.16452523,17.47816192,14.52440807,9.970144463,14.53177739,9.762504595,11.09037421,11.09000575,9.512102516,11.02379955,13.88870389,13.27149949,12.61866666,15.3357112,16.71915574,12.18062591,10.66725445,11.39509766,17.75769652,22.89101081,13.16503461,9.986354673,18.63306521,11.12265344,12.95557726,10.77286174,16.12266786,10.40197297,17.24290912,16.57930072,13.6700989,12.95891702,11.63301523,14.7530554,19.68233697,11.67660134,11.14407224,17.58261495,10.92446056,20.52319058,13.33971611,15.8745636,17.10982925,14.11024905,12.84204806,10.78414041,17.55156979,12.16876368,13.82775502,15.06171407,20.92910324,17.26357604,17.51728284,18.07696346,12.18630951,10.83979553,13.17830067,7.24276142,13.41520457,15.2546531,8.23426492,23.13595214,14.36366131,7.775895593,13.71933088,14.76187784,16.7872722,15.17395626,22.76370742,15.21279813,15.54502909,12.4193592,15.21317574,13.45057953,12.15805571,10.61370977,13.90010961,14.23510503,11.09505955,9.619021313,18.0819566,19.95751342,15.87954857,13.75422052,14.44175361,13.44731415,11.59833993,17.91696373,12.95054458,17.23604716,18.54350029,12.63270714,16.0116082,14.78286051,12.42083384,11.09489849,13.87299426,14.86190621,15.4664551,18.58809063,8.574690965,12.62647377,15.67478517,17.75791679,18.41792399,17.44230131,11.05544595,19.63704162,13.98870666,13.06780306,11.82740117,17.23865591,13.44117537,16.55254307,12.16833372,10.81712252,8.840514451,13.33009055,19.82739182,10.52293463,11.91320393,7.091228957,12.30563441,14.16201047,9.006142614,11.17315498,12.29161551,17.21857543,14.18147063,16.55922859,12.90735091,7.283012996,19.38594101,17.29755552,12.44697563,12.33297914,5.512039718,17.04868332,13.22566586,13.31272274,18.91702672,11.71214925,11.03286717,12.08216871,9.261965326,16.86545299,14.0462775,15.42245924,8.398237311,17.37573935,12.05362721,14.31428181,15.84519273,10.35365874,14.6702456,17.47759799,17.05118473,13.96173961,11.78126502,19.49539316,17.42546021,12.57541689,11.83538218,10.21362258,13.74659793,12.48525699,20.63759873,14.35459508,17.9981601,13.97733754,5.218232927,16.54843839,8.148929055,13.99610055,14.00698323,16.06143978,15.09409115,9.497937073,12.68372439,7.832108146,14.29924187,14.59714452,14.78634736,16.19287015,12.64517578,9.45647317,15.66962824,13.0436168,9.31377068,17.52681934,16.08623245,18.5024061,15.29270572,16.57405983,8.127542868,20.78959171,13.76023094,15.84604761,11.81323117,13.02213512,12.99726326,11.0539246,14.63243828,16.65011437,14.94221731,11.30058731,11.42337702,20.31461674,8.64249441,17.15196898,15.58190274,15.66995529,16.15496381,12.3928694,14.02860216,17.66455498,13.3078238,15.15381695,17.86553321,17.12586347,13.2658526,17.95000056,15.23864173,10.90547626,8.412402057,11.30924507,12.37627228,11.00959203,16.70192017,11.28338664,13.30939096,10.74214585,19.21837404,9.809669142,12.31249282,10.00814598,10.81167299,15.9318794,11.31600157,15.35242482,16.14825846,13.68083772,11.98396088,12.76414071,12.4935102,15.07245018,18.78167888,10.85191677,13.62132497,13.21648859,16.58907204,17.40726104,15.55358847,13.61755978,11.0588185,12.29376979,17.96873601,9.386798894,10.28528265,9.025661104,18.52710477,15.91891223,18.70365696,20.2120884,18.51158554,16.21767979,16.21496565,10.6829209,8.597973316,19.31253635,14.64270908,12.09525149,21.30504837,13.88332895,10.88002787,16.42773933,14.97900007,9.812921149,12.6246132,13.74428378,18.78051983,16.06273897,14.54546513,9.57860245,12.52012614,16.38119482,14.39874024,14.24768198,8.280181032,11.89570044,10.3274762,16.07344923,13.99513554,15.17836842,15.16317891,14.40755462,11.78338316,21.46949128,18.92897905,15.46998024,11.66532921,10.67825495,17.70310393,13.77167997,12.67950093,16.94256578,9.631649747,10.26277763,18.63860277,17.63803947,9.980418463,12.60620441,17.00349495,21.08555041,19.97031761,12.8188163,12.92643494,17.42714462,18.14347397,19.34049879,17.30153609,11.0478439,15.97619573,19.68349292,12.24462226,16.57419003,11.79623473,15.24034941,7.996294863,9.416901598,11.48352362,10.54234179,15.7366419,11.94985385,15.51492959,10.88121534,6.658138625,14.82443288,11.75242084,18.32287885,15.13809378,28.3,17.62359407,13.92794627,12.35272154,5.537059329,14.35649568,14.41273359,14.29769575,14.1494731,8.335244529,13.71173747,16.33794929,17.85824171,18.87093884,16.25700237,19.86138156,13.08287175,11.46843204,13.30485235,12.75811406,17.273966,8.866966526,9.604154965,13.42516473,12.9246531,13.039764,15.4597516,10.61983085,16.02194073,17.60406646,13.62381347,10.7939957,9.06690217,19.08488285,16.07830522,23.31769912,10.64455442,17.03042901,15.51220766,9.113945216,13.02799983,16.83629125,11.71889473,12.47511872,10.36823018,19.89268025,17.50851596,14.35295526,8.666283308,15.79262497,14.99298978,8.939818292,14.39739294,15.6276407,14.52986411,17.01285622,16.88421403,13.60807513,9.557030905,12.45191188,15.42114424,20.77148503,13.17298911,15.07024812,8.688714873,13.59185782,10.80963195,18.34021208,16.22570589,22.34641467,14.2100908,18.42322647,10.74910668,15.95549106,22.46612757,16.82030772,12.11872032,19.42253502,11.43423936,14.78598251,13.71370292,15.19819136,10.24786327,13.51488652,13.69708744,11.83831294,11.2553569,16.21071289,18.13769053,14.83663674,19.03487739,10.06607565,13.6377826,10.68976878,10.79942845,16.9179938,16.28331118,16.31165824,13.63601398,20.20059242,7.781493373,10.04694318,14.69095388,19.16662023,15.75478461,17.20000825,13.36816454,12.47730317,14.70859901,17.82192185,13.44879664,18.69224837,16.329625,14.5842314,11.75837424,18.02033109,9.253350629,15.04581675,13.77335021,11.36727498,19.35076512,15.1681892,16.50665808,17.68978466,11.09420248,14.00387351,17.40103888,18.2960013,15.92141255,12.22534179,12.06350146,14.77709169,13.84838852,16.02143866,10.79548173,10.23827087,16.24475501,13.92128166,12.19423157,11.55709678,8.93024245,14.69539103,11.81294171,18.62169782,7.401868176,14.37496689,14.82390352,9.675166667,18.15675398,16.09019349,13.4752729,13.10991087,12.82938017,13.82205734,11.6210743,14.21953213,14.19127381],\"xaxis\":\"x\",\"y\":[204.8904555,129.4229205,224.2362594,214.3733941,181.1015092,188.3133238,248.0717353,203.3615226,118.9885791,227.2314692,165.5207973,218.6933005,156.7049933,150.1749234,205.3449822,186.7328807,211.0494061,273.8138067,279.3571668,214.4966105,227.4350484,168.2837469,215.9778587,196.9032467,140.7390623,198.7673513,207.9262602,145.7681806,266.4210181,148.1530614,209.6256005,190.7566183,117.7912296,235.0445345,232.280452,191.952743,183.9087223,304.2359121,143.4537313,198.6143947,233.8589957,194.8740654,238.6899285,202.817483,183.3494541,216.8504739,209.638293,173.3754984,237.6773831,234.0699652,190.7990441,139.6857588,201.1868045,260.2053596,174.1849764,200.2781822,278.056321,181.8734217,232.36858,168.9370725,141.6152867,201.955208,225.0281485,284.0983515,146.5902323,112.2994855,176.8664829,261.5661726,185.692181,129.8238585,248.8592673,216.4411715,214.1662353,229.1921395,229.1228286,125.4748835,230.4493293,229.7713495,183.5003784,190.0176486,161.8963622,163.0388346,154.2657803,269.809407,224.2663577,225.4819088,207.7254552,220.8137025,160.9683582,186.9182451,207.8380479,105.8592636,189.1453777,213.444685,276.7335689,228.9215872,192.447171,141.1289215,137.3181658,238.7133934,202.9907653,273.4084481,263.7645927,112.820254,180.7013755,133.8131148,208.7602476,178.9562058,183.2427962,203.0301413,201.0973162,205.2140411,199.5860803,177.5781419,208.094004,252.274895,265.0612161,187.3150477,143.7884118,216.7621587,207.2577096,217.369746,103.173587,222.2562929,272.9827447,231.2601313,145.8054024,128.0966912,169.974849,242.0080815,203.4089346,236.9608892,207.2524622,223.8581252,98.77164353,215.2680896,280.0824107,217.6870932,278.5851052,47.432,233.6616359,212.6914573,211.0941848,230.8579828,251.2934475,155.3575571,127.5442971,175.2203765,229.263861,175.8702941,156.5206348,280.0896549,169.4689273,224.7879362,81.71089527,258.3000516,129.8709584,167.1021915,173.3343894,136.3237517,171.4836247,243.8079497,216.0428111,143.0942854,198.8069397,156.7936942,268.7208812,181.9381256,211.2170343,225.6834218,121.4414415,236.6740259,178.3723523,191.2852176,187.7768087,195.8049958,225.287704,132.8328367,229.9283665,181.6891637,135.9384675,225.6130938,201.7154525,203.3299282,187.7830201,113.8311122,273.2556208,235.7351929,161.8264761,185.0652199,174.480427,200.493112,157.1815455,77.4595861,233.5141325,119.8419046,144.815264,307.7060241,188.3949423,256.20883,213.0525907,193.1247989,275.7671418,167.088976,212.7644944,152.8783051,220.1001024,163.2244663,240.0182139,264.5256065,250.7053939,94.09130748,261.2338253,221.3698538,254.672705,161.6231416,159.1880501,181.2105099,282.739017,153.9800345,221.1473078,173.1114983,278.1475241,323.124,157.7004811,174.1205843,186.672973,188.9199829,185.8785944,198.9944743,311.3839565,188.9802815,213.0484451,239.7882778,225.6574044,218.2611698,201.3314401,140.6128657,190.8445136,250.1839535,242.6205031,234.8937026,291.4618974,240.2879117,153.8863093,211.6972974,226.8300426,194.796221,180.9656209,193.3524164,135.5230624,224.6085628,163.6246234,131.5477443,249.141391,73.49223369,223.603058,169.2174798,213.3635446,308.2538329,166.948864,185.6718736,193.5034148,143.3002003,240.244771,211.3988439,181.4134021,175.9824471,199.5887185,218.4149289,194.6776872,196.5626846,242.9094363,232.2344791,281.5821623,168.3556238,208.3794303,189.5231608,272.4721781,206.3641219,158.0403984,286.2017633,249.6709994,214.5176104,196.6159916,179.6452245,185.7557279,185.8467967,220.9600411,188.216604,177.2137917,193.6333668,206.8897483,208.4907383,175.5743066,166.2599616,192.2649447,214.6386028,225.7841009,180.5317069,212.73169,223.2883936,173.3250224,208.9056452,178.2716356,223.595839,208.0427107,213.4231392,199.6777845,234.8765244,175.274076,174.8716293,243.6880749,225.399307,199.035973,153.6733815,186.8730137,210.0040335,207.2992598,210.954754,234.6359511,201.1268956,190.9948483,205.9410721,174.1610935,232.5818483,139.3311518,169.6882249,192.9559825,166.1618369,248.5774824,176.8536963,181.0723073,201.9971958,144.2363578,168.6139666,180.8542106,203.7815979,189.987947,193.7718784,196.2739637,210.0392943,201.8640323,178.9228576,190.3139043,168.4442145,193.1678535,200.7359412,221.3568855,200.0718748,184.7818419,204.3429275,195.5668895,169.1887357,223.6913502,162.6262869,158.3427412,181.2587047,172.1981361,178.3265554,196.2488574,191.7555714,168.2952871,175.4328194,184.7845747,212.5929905,207.0655873,218.3021764,204.1641395,173.6402158,263.0367045,206.3131847,202.3290442,223.6881109,197.4604694,152.9540623,233.5150425,226.5864876,208.177464,169.3972377,197.076934,203.5059212,202.809081,194.5001438,183.1066249,213.4710813,187.4153064,217.7366692,182.9053594,208.4440851,226.1059008,198.8844095,197.5410721,177.8913689,163.3443524,160.496448,163.2566344,200.8421428,179.4098037,187.6434114,204.9238286,186.9177655,148.7377009,210.6540407,186.0561786,196.5476964,179.1492874,207.3974729,182.1928474,191.8584841,164.3784333,237.5796125,190.0466609,204.7683905,187.4398122,198.2344083,219.0133284,169.5092544,199.0813173,213.1755888,210.3472757,221.1914756,172.0554707,200.4207555,164.8172074,209.7660217,217.7001303,175.0439989,228.9195192,223.1841808,189.8277886,174.8893609,180.9037778,157.2319816,186.4630821,214.0101011,202.9449791,179.5797525,228.7321522,200.1449708,220.976049,192.1426205,174.6926854,221.1502583,229.2950981,218.4408042,222.4877721,173.7688739,209.7615128,204.3604853,180.8930357,175.8758278,177.2949494,153.2363644,208.6891531,209.9972465,154.3006837,192.2345408,218.5735482,210.1188126,210.126717,188.7435625,233.9765794,155.6757769,197.4823264,221.7598179,186.5952548,224.078183,195.8365726,211.7942673,203.4193307,164.6667686,198.996287,220.3871636,202.5147114,164.3512893,216.4731687,230.7669398,156.8989167,186.353361,204.8596598,204.6690467,179.454192,202.4612113,198.3100198,215.725527,229.9644224,208.4385926,208.91472,147.5818314,213.9513281,178.4936319,173.5659711,212.0463911,182.5339784,163.2180384,168.7500072,232.67028,202.3431875,192.9956648,233.7213551,210.9797475,175.9914868,172.5502615,215.8228726,184.3950028,195.8746342,167.924336,209.1856253,144.2652699,169.2357683,202.0447753,193.4101406,170.3604625,220.038186,198.705653,160.3259716,189.6659365,179.3505767,193.7431052,242.005716,199.0837518,218.2166825,152.5301112,206.0143998,213.8863369,190.3837378,211.1233123,218.2797001,187.7095327,212.5690763,213.619625,193.7067445,199.5945387,204.2535631,202.7569725,196.9000984,211.0916871,182.4196209,205.4799184,178.7166329,186.0747655,185.9324194,210.6273585,192.1375306,207.2545054,219.7060481,185.9924106,199.0166741,159.4356011,184.8363006,186.6016211,220.638823,154.7117245,231.4425533,204.852187,215.295518,193.2864626,208.740232,185.050444,233.487268,158.7629592,207.0168521,197.6485302,207.8213631,200.1398287,162.8575851,178.6401187,177.1740208,177.173258,195.4514824,231.1598241,205.0887889,155.8643817,233.7279746,182.9971987,199.2553218,203.8618673,150.4952143,241.0002765,228.1326732,180.8590906,209.3585612,242.4134292,219.5943849,182.9097278,171.315543,186.1907032,182.1210382,163.1716531,210.8604386,226.0934249,225.0742181,232.4626372,213.1970192,207.4651604,215.0513646,197.6469506,211.3068119,228.1718587,216.6738691,171.2887001,207.0048366,162.2468857,223.7726613,182.5822278,191.0049304,133.2169416,235.2405873,218.7382355,214.7246693,205.0565358,202.4751623,199.2284675,215.9665791,177.8283023,217.6986438,175.7085533,177.3196034,185.6328581,212.4423382,172.2990001,166.8669704,164.7234862,191.5548152,228.4883938,218.5189231,234.914512,193.8409311,196.3346728,238.0842107,203.5378325,183.3627126,200.943484,215.946322,214.7378307,222.2522695,200.8894064,209.8393334,212.8086454,184.9129171,238.221968,242.4804727,168.8223953,195.8090284,205.3668311,156.4827594,209.4268373,213.0653848,191.9829945,142.860598,198.1970512,152.3867347,224.1520045,194.6681671,252.0109026,203.0502439,218.0328398,184.7506979,215.6482163,230.3357076,173.636742,204.0103465,169.7271158,221.5477734,219.7257126,200.3830795,213.6656848,220.4510783,175.8943459,232.9490019,218.9864062,188.2519391,175.8736762,174.2663575,214.3372704,208.5537845,179.5726525,207.741025,200.3043481,186.4570837,185.6435227,162.7246723,198.3780118,162.4567843,200.368159,167.6586022,175.0082757,220.9574326,186.3031371,196.4758989,176.2714037,199.0514027,185.3207014,182.0806013,140.3667086,166.8917001,191.348259,182.3069422,200.5612126,196.5520678,160.4426313,192.2021681,215.9971166,220.0808324,198.5463635,167.3621871,197.5170934,214.1723298,195.8033305,198.2134051,190.4316792,237.1398278,196.9528752,177.0808395,189.6083467,211.5130972,223.4431113,197.2872066,185.9222471,215.5784642,168.6957663,199.3531655,188.4150006,203.4004519,148.1031295,202.0798645,159.9626123,159.7663994,204.6485152,204.0809451,195.3528073,200.8911924,183.4717941,192.9703798,248.9546551,209.10305,228.6913547,212.449974,204.8127108,200.6122986,149.9386547,229.4077836,186.6200684,193.6535806,219.3359778,176.7363757,190.1893878,236.5807942,220.3853144,163.3616035,211.640958,203.3841234,209.3420509,213.7764386,227.9846646,158.422129,186.3825903,189.4388127,211.8728279,190.547678,210.7954061,202.0939398,185.0435967,224.8411806,204.7834281,189.2957887,197.5707363,230.0279326,207.9630384,240.1679012,175.9118303,214.6437558,194.5866593,190.7511649,207.1154702,183.1618528,193.3699479,215.3687416,215.5295107,196.4787124,238.4095981,214.556086,200.7170513,200.3740756,190.6306362,198.0171652,165.4360934,193.5069028,226.7656465,231.2031014,194.980636,203.7445475,166.7429616,231.4884577,205.5415172,236.3569746,181.6881221,210.9797468,212.7106698,186.0979153,229.2426598,238.3010478,177.5748031,235.0045977,184.7728094,194.8060914,190.3151268,199.3335654,180.7491402,232.6685087,179.2069831,206.577843,221.2702228,216.4159321,218.8432561,173.8508816,164.7909916,203.2764198,226.9350617,198.4092471,157.3542892,167.9850397,185.4193669,213.0002175,178.1548555,191.8155235,185.0883849,203.0687456,158.38784,223.1418815,193.2009914,182.689825,148.6140018,205.2660804,155.9374414,232.8827254,224.7051051,164.9589475,259.1449277,187.9471911,180.158098,221.7924809,207.8281164,188.6105177,151.621132,134.7505122,222.6887949,195.5544285,163.9260265,208.406673,147.4719727,208.0700518,201.7808472,170.4275723,182.0419862,205.9911566,176.7799465,223.616393,227.0070858,185.8171404,185.3121832,181.3018739,163.0951058,190.1645202,204.8605046,167.4225811,191.8670896,200.71487,156.4618716,169.4036547,197.1918394,185.0879142,218.4908565,184.229295,182.3172561,218.5131453,178.2336595,181.8180655,188.6623289,212.4800362,210.3100428,165.6415024,161.1242048,224.3167604,196.7912512,177.4865333,213.1604785,195.0195691,161.0578814,238.9437443,188.3917252,201.6699331,215.4978821,122.9069908,163.9499045,227.8427196,179.0688055,212.1620435,172.3502811,251.8362482,158.7074718,192.6473336,196.0029378,212.9091318,222.9223068,195.6658004,192.0236594,211.0293038,199.9302784,179.2136742,181.0131002,197.1027246,256.2125652,134.6792566,221.6754626,155.7628665,176.7275113,186.7891507,178.4462857,226.2708237,179.2349792,223.5119784,156.4511488,194.04978,193.0475578,205.1231235,174.5580063,211.6895022,164.9090723,205.8473007,185.0459928,198.3791437,219.6226589,233.140588,185.1658146,186.1748407,177.2336434,211.8165512,151.7829057,194.8156184,192.6488463,175.4266698,186.6864589,177.5717437,179.9113798,200.7331069,209.7355588,191.5316301,193.1580764,216.6553559,172.3838777,157.8526449,184.7452288,171.5922365,211.376444,193.1167939,184.6821039,193.1695095,241.2681377,199.3057742,196.4320067,176.8960328,207.5794023,186.0934324,164.5009841,198.3546264,164.0947438,208.1329997,193.4321303,176.9694309,226.0844294,197.5602828,181.5845652,199.064672,213.3206159,168.6409754,190.992873,178.6780937,247.4532966,213.8748579,198.5446412,217.0182595,175.588146,206.8968059,212.5213079,180.4062106,205.4005291,196.133985,159.7293627,196.8910612,180.1942208,191.9820471,177.0953125,150.7183614,206.3183425,205.6482515,156.9708217,210.2792102,162.3364121,179.3201228,180.8431248,186.7610878,180.0603771,168.5721461,199.4994515,203.2526135,210.2612466,192.3873676,152.4800753,242.4885798,217.3680142,198.5307697,192.5740099,229.9412343,157.2404584,178.8108276,173.8167101,179.2182173,189.9421572,187.7488492,193.9261804,157.5133609,195.7003801,195.7447648,194.6351221,223.1754155,221.3919744,218.7927931,225.9721356,240.8517699,196.7827837,174.5068195,173.1539151,203.3834632,154.7735165,225.3504984,189.814682,206.786448,184.3732318,211.6620911,152.5076794,182.941032,182.3754558,198.8659477,187.9464088,164.4961721,214.9724351,174.7818492,194.4453158,201.3388568,201.6032843,186.6483585,234.835477,171.3331234,159.2901905,201.4101227,210.2697797,196.5628527,183.5973743,215.4291024,183.2622614,178.9982454,172.2927625,210.2708051,201.4332496,203.0164737,170.4453284,227.6543506,173.7791592,182.4324572,179.7016768,163.4476486,204.5693658,241.6024296,199.6381239,228.455028,200.3536957,194.1666253,218.3940541,190.3213908,225.7123587,210.4258745,173.840226,203.4527154,211.8000845,210.9850337,198.9104878,203.6429167,175.5856731,169.7425372,166.5924252,181.1195291,205.9825819,184.8474873,199.4958113,189.9755527,162.1577004,162.2318457,184.248496,220.1254226,203.2002856,228.8028036,180.1197279,168.2836513,196.0346231,206.8178871,177.8291271,175.8906397,197.3744818,184.4348362,217.2832624,159.4331752,220.4223891,204.04889,212.5550663,192.4360764,200.4644449,191.0123086,215.6372552,207.3614294,232.3868274,222.1130042,246.2397632,150.6710211,246.4769625,178.2005415,125.705329,200.1637946,239.4399531,306.6274814,204.0414512,195.8272127,148.6246065,194.0563929,162.4782263,153.8097827,219.1782966,184.7860379,219.1433726,173.3909282,212.8385143,196.6037461,271.6308238,225.9419346,190.2673674,191.6926397,162.2133452,184.8285571,164.2545648,161.0023053,159.1689259,223.2788913,218.5493627,140.8678983,159.8037202,157.9274924,176.6128288,225.23176,210.7328536,214.7257042,214.4695748,230.9328321,258.5268417,210.3714356,108.6990768,174.6141336,143.4313503,182.0368954,184.0409883,194.761215,200.4043509,262.8084777,218.0623835,202.4580608,287.3702082,106.3801125,203.4603016,196.6498226,147.9680603,183.8400997,202.2562815,97.2809086,230.3429008,207.0507483,155.5535654,168.8964217,203.7072216,192.5217032,171.751754,208.3260218,166.9139914,204.7242814,181.5253898,215.6737861,246.622871,158.2076474,225.0885545,129.2400806,237.2695048,215.4406413,169.9262216,190.5675212,195.5409669,283.9972841,231.3227967,121.5751392,187.0432834,199.4250377,219.3429325,185.4150767,197.6020777,228.5903923,184.5585817,180.7955581,263.8576754,167.8233153,213.4282694,231.4450543,180.2909076,198.0210951,186.7226312,190.8974211,225.0631028,193.1625009,163.9272419,155.6161124,215.4452044,216.6470682,248.9047116,179.3023814,175.3372395,186.0606035,173.0083385,203.3961302,200.7055053,157.6669175,218.6196993,228.756819,274.351887,156.1108292,160.9626028,163.4098192,249.1635669,135.2592725,150.7757235,183.0713549,190.8774698,194.8589999,164.7689015,167.3853532,191.6651832,211.0865029,154.1375792,184.4291595,175.4658605,205.1907067,214.380139,179.4081682,205.1830198,197.7595026,191.0041072,213.7671763,271.6012124,175.4210394,203.3233079,226.4196094,174.2805663,178.3317527,171.4349805,193.5771567,246.1847192,155.1853193,176.3352099,188.0544191,221.6494395,201.5966735,205.3965817,240.9751559,188.3732817,279.2324186,165.9090203,258.0199471,168.9525905,238.51023,174.7961234,161.5302665,196.7349272,189.7616538,191.6659977,244.8467167,219.7161088,208.1065481,194.8680827,184.309222,216.4541076,176.6400633,184.6668909,107.3833271,219.1848137,204.2405692,160.59576,275.8865128,166.6769499,157.827352,181.4344194,237.7056814,172.5040208,214.8196269,234.3285691,191.1504794,180.9586672,258.8916012,242.7299686,178.0665496,243.7247069,208.3670456,191.2779316,149.8389003,220.9851581,124.4828102,121.0673575,270.4661706,219.2399523,131.7118961,197.7669743,272.9203851,156.9295462,128.2634658,201.8054906,170.7322887,167.9189217,277.1169457,189.8029139,209.0596796,191.38241,210.3765614,211.3446867,149.0428459,168.0407511,177.4442641,171.1252874,184.9150548,167.3284655,259.6710409,275.6797801,165.7942863,230.4307616,171.8397767,149.5580888,168.9630259,225.116079,155.8357062,236.6946481,162.9353713,177.3530518,184.1360704,253.6620371,138.0076716,156.8411949,194.7338584,173.6646791,220.9699797,165.7379535,216.4280319,232.7385452,247.1640183,197.1042098,182.5410725,148.1860133,116.7251221,185.3385398,227.5608668,194.880861,211.577378,205.2331194,186.5608459,166.6373052,182.4738756,200.4672256,217.8033177,275.7467165,173.5287784,218.139622,113.5046982,258.9034888,137.0073552,233.8466208,238.3335841,149.853487,244.8397701,133.1417512,216.2716237,250.6234728,249.5271111,240.984187,151.5418889,160.428694,193.4498538,252.7392485,201.5537008,168.4691807,207.4268874,151.3066736,235.9444359,257.657739,177.7128409,164.3171018,160.8184744,241.0308985,185.5065627,231.5608322,202.8111419,115.3929794,117.0573145,236.2824896,207.3910967,162.2636883,124.8479917,233.6938372,216.432576,185.8189891,169.6735306,110.8657883,176.0065361,217.538504,218.1531069,151.784319,168.8795392,214.8501112,240.1345719,179.5214064,205.3041489,200.9437304,216.1221437,187.6134376,164.2743931,215.9076249,226.5382887,172.6892999,167.0300972,192.360737,188.3687408,173.5319472,172.0343853,274.8283693,173.4741859,185.8257264,244.2945577,199.0792169,211.7832353,229.6031728,133.6499247,139.129083,214.7318875,210.7207687,201.455808,183.867245,239.2782545,180.401506,183.9334762,195.8671168,236.4767207,134.3111598,198.476439,148.8627584,197.3395594,206.2088341,228.5395427,182.4544618,187.2027122,255.2594926,170.8277923,157.5522384,241.76834,224.0344173,233.9778097,224.7635092,215.4790683,224.4716541,192.4279651,178.8053803,179.7567079,204.4862816,209.2173441,217.7889322,178.2857485,212.483172,191.7874419,184.9442319,169.7754752,165.8929699,160.306685,210.3691037,180.8678007,198.2040824,188.9978501,171.722555,240.9791038,150.5635935,196.6589466,215.2455321,160.2118222,234.7793796],\"yaxis\":\"y\",\"type\":\"scattergl\"}],                        {\"template\":{\"data\":{\"barpolar\":[{\"marker\":{\"line\":{\"color\":\"rgb(17,17,17)\",\"width\":0.5},\"pattern\":{\"fillmode\":\"overlay\",\"size\":10,\"solidity\":0.2}},\"type\":\"barpolar\"}],\"bar\":[{\"error_x\":{\"color\":\"#f2f5fa\"},\"error_y\":{\"color\":\"#f2f5fa\"},\"marker\":{\"line\":{\"color\":\"rgb(17,17,17)\",\"width\":0.5},\"pattern\":{\"fillmode\":\"overlay\",\"size\":10,\"solidity\":0.2}},\"type\":\"bar\"}],\"carpet\":[{\"aaxis\":{\"endlinecolor\":\"#A2B1C6\",\"gridcolor\":\"#506784\",\"linecolor\":\"#506784\",\"minorgridcolor\":\"#506784\",\"startlinecolor\":\"#A2B1C6\"},\"baxis\":{\"endlinecolor\":\"#A2B1C6\",\"gridcolor\":\"#506784\",\"linecolor\":\"#506784\",\"minorgridcolor\":\"#506784\",\"startlinecolor\":\"#A2B1C6\"},\"type\":\"carpet\"}],\"choropleth\":[{\"colorbar\":{\"outlinewidth\":0,\"ticks\":\"\"},\"type\":\"choropleth\"}],\"contourcarpet\":[{\"colorbar\":{\"outlinewidth\":0,\"ticks\":\"\"},\"type\":\"contourcarpet\"}],\"contour\":[{\"colorbar\":{\"outlinewidth\":0,\"ticks\":\"\"},\"colorscale\":[[0.0,\"#0d0887\"],[0.1111111111111111,\"#46039f\"],[0.2222222222222222,\"#7201a8\"],[0.3333333333333333,\"#9c179e\"],[0.4444444444444444,\"#bd3786\"],[0.5555555555555556,\"#d8576b\"],[0.6666666666666666,\"#ed7953\"],[0.7777777777777778,\"#fb9f3a\"],[0.8888888888888888,\"#fdca26\"],[1.0,\"#f0f921\"]],\"type\":\"contour\"}],\"heatmapgl\":[{\"colorbar\":{\"outlinewidth\":0,\"ticks\":\"\"},\"colorscale\":[[0.0,\"#0d0887\"],[0.1111111111111111,\"#46039f\"],[0.2222222222222222,\"#7201a8\"],[0.3333333333333333,\"#9c179e\"],[0.4444444444444444,\"#bd3786\"],[0.5555555555555556,\"#d8576b\"],[0.6666666666666666,\"#ed7953\"],[0.7777777777777778,\"#fb9f3a\"],[0.8888888888888888,\"#fdca26\"],[1.0,\"#f0f921\"]],\"type\":\"heatmapgl\"}],\"heatmap\":[{\"colorbar\":{\"outlinewidth\":0,\"ticks\":\"\"},\"colorscale\":[[0.0,\"#0d0887\"],[0.1111111111111111,\"#46039f\"],[0.2222222222222222,\"#7201a8\"],[0.3333333333333333,\"#9c179e\"],[0.4444444444444444,\"#bd3786\"],[0.5555555555555556,\"#d8576b\"],[0.6666666666666666,\"#ed7953\"],[0.7777777777777778,\"#fb9f3a\"],[0.8888888888888888,\"#fdca26\"],[1.0,\"#f0f921\"]],\"type\":\"heatmap\"}],\"histogram2dcontour\":[{\"colorbar\":{\"outlinewidth\":0,\"ticks\":\"\"},\"colorscale\":[[0.0,\"#0d0887\"],[0.1111111111111111,\"#46039f\"],[0.2222222222222222,\"#7201a8\"],[0.3333333333333333,\"#9c179e\"],[0.4444444444444444,\"#bd3786\"],[0.5555555555555556,\"#d8576b\"],[0.6666666666666666,\"#ed7953\"],[0.7777777777777778,\"#fb9f3a\"],[0.8888888888888888,\"#fdca26\"],[1.0,\"#f0f921\"]],\"type\":\"histogram2dcontour\"}],\"histogram2d\":[{\"colorbar\":{\"outlinewidth\":0,\"ticks\":\"\"},\"colorscale\":[[0.0,\"#0d0887\"],[0.1111111111111111,\"#46039f\"],[0.2222222222222222,\"#7201a8\"],[0.3333333333333333,\"#9c179e\"],[0.4444444444444444,\"#bd3786\"],[0.5555555555555556,\"#d8576b\"],[0.6666666666666666,\"#ed7953\"],[0.7777777777777778,\"#fb9f3a\"],[0.8888888888888888,\"#fdca26\"],[1.0,\"#f0f921\"]],\"type\":\"histogram2d\"}],\"histogram\":[{\"marker\":{\"pattern\":{\"fillmode\":\"overlay\",\"size\":10,\"solidity\":0.2}},\"type\":\"histogram\"}],\"mesh3d\":[{\"colorbar\":{\"outlinewidth\":0,\"ticks\":\"\"},\"type\":\"mesh3d\"}],\"parcoords\":[{\"line\":{\"colorbar\":{\"outlinewidth\":0,\"ticks\":\"\"}},\"type\":\"parcoords\"}],\"pie\":[{\"automargin\":true,\"type\":\"pie\"}],\"scatter3d\":[{\"line\":{\"colorbar\":{\"outlinewidth\":0,\"ticks\":\"\"}},\"marker\":{\"colorbar\":{\"outlinewidth\":0,\"ticks\":\"\"}},\"type\":\"scatter3d\"}],\"scattercarpet\":[{\"marker\":{\"colorbar\":{\"outlinewidth\":0,\"ticks\":\"\"}},\"type\":\"scattercarpet\"}],\"scattergeo\":[{\"marker\":{\"colorbar\":{\"outlinewidth\":0,\"ticks\":\"\"}},\"type\":\"scattergeo\"}],\"scattergl\":[{\"marker\":{\"line\":{\"color\":\"#283442\"}},\"type\":\"scattergl\"}],\"scattermapbox\":[{\"marker\":{\"colorbar\":{\"outlinewidth\":0,\"ticks\":\"\"}},\"type\":\"scattermapbox\"}],\"scatterpolargl\":[{\"marker\":{\"colorbar\":{\"outlinewidth\":0,\"ticks\":\"\"}},\"type\":\"scatterpolargl\"}],\"scatterpolar\":[{\"marker\":{\"colorbar\":{\"outlinewidth\":0,\"ticks\":\"\"}},\"type\":\"scatterpolar\"}],\"scatter\":[{\"marker\":{\"line\":{\"color\":\"#283442\"}},\"type\":\"scatter\"}],\"scatterternary\":[{\"marker\":{\"colorbar\":{\"outlinewidth\":0,\"ticks\":\"\"}},\"type\":\"scatterternary\"}],\"surface\":[{\"colorbar\":{\"outlinewidth\":0,\"ticks\":\"\"},\"colorscale\":[[0.0,\"#0d0887\"],[0.1111111111111111,\"#46039f\"],[0.2222222222222222,\"#7201a8\"],[0.3333333333333333,\"#9c179e\"],[0.4444444444444444,\"#bd3786\"],[0.5555555555555556,\"#d8576b\"],[0.6666666666666666,\"#ed7953\"],[0.7777777777777778,\"#fb9f3a\"],[0.8888888888888888,\"#fdca26\"],[1.0,\"#f0f921\"]],\"type\":\"surface\"}],\"table\":[{\"cells\":{\"fill\":{\"color\":\"#506784\"},\"line\":{\"color\":\"rgb(17,17,17)\"}},\"header\":{\"fill\":{\"color\":\"#2a3f5f\"},\"line\":{\"color\":\"rgb(17,17,17)\"}},\"type\":\"table\"}]},\"layout\":{\"annotationdefaults\":{\"arrowcolor\":\"#f2f5fa\",\"arrowhead\":0,\"arrowwidth\":1},\"autotypenumbers\":\"strict\",\"coloraxis\":{\"colorbar\":{\"outlinewidth\":0,\"ticks\":\"\"}},\"colorscale\":{\"diverging\":[[0,\"#8e0152\"],[0.1,\"#c51b7d\"],[0.2,\"#de77ae\"],[0.3,\"#f1b6da\"],[0.4,\"#fde0ef\"],[0.5,\"#f7f7f7\"],[0.6,\"#e6f5d0\"],[0.7,\"#b8e186\"],[0.8,\"#7fbc41\"],[0.9,\"#4d9221\"],[1,\"#276419\"]],\"sequential\":[[0.0,\"#0d0887\"],[0.1111111111111111,\"#46039f\"],[0.2222222222222222,\"#7201a8\"],[0.3333333333333333,\"#9c179e\"],[0.4444444444444444,\"#bd3786\"],[0.5555555555555556,\"#d8576b\"],[0.6666666666666666,\"#ed7953\"],[0.7777777777777778,\"#fb9f3a\"],[0.8888888888888888,\"#fdca26\"],[1.0,\"#f0f921\"]],\"sequentialminus\":[[0.0,\"#0d0887\"],[0.1111111111111111,\"#46039f\"],[0.2222222222222222,\"#7201a8\"],[0.3333333333333333,\"#9c179e\"],[0.4444444444444444,\"#bd3786\"],[0.5555555555555556,\"#d8576b\"],[0.6666666666666666,\"#ed7953\"],[0.7777777777777778,\"#fb9f3a\"],[0.8888888888888888,\"#fdca26\"],[1.0,\"#f0f921\"]]},\"colorway\":[\"#636efa\",\"#EF553B\",\"#00cc96\",\"#ab63fa\",\"#FFA15A\",\"#19d3f3\",\"#FF6692\",\"#B6E880\",\"#FF97FF\",\"#FECB52\"],\"font\":{\"color\":\"#f2f5fa\"},\"geo\":{\"bgcolor\":\"rgb(17,17,17)\",\"lakecolor\":\"rgb(17,17,17)\",\"landcolor\":\"rgb(17,17,17)\",\"showlakes\":true,\"showland\":true,\"subunitcolor\":\"#506784\"},\"hoverlabel\":{\"align\":\"left\"},\"hovermode\":\"closest\",\"mapbox\":{\"style\":\"dark\"},\"paper_bgcolor\":\"rgb(17,17,17)\",\"plot_bgcolor\":\"rgb(17,17,17)\",\"polar\":{\"angularaxis\":{\"gridcolor\":\"#506784\",\"linecolor\":\"#506784\",\"ticks\":\"\"},\"bgcolor\":\"rgb(17,17,17)\",\"radialaxis\":{\"gridcolor\":\"#506784\",\"linecolor\":\"#506784\",\"ticks\":\"\"}},\"scene\":{\"xaxis\":{\"backgroundcolor\":\"rgb(17,17,17)\",\"gridcolor\":\"#506784\",\"gridwidth\":2,\"linecolor\":\"#506784\",\"showbackground\":true,\"ticks\":\"\",\"zerolinecolor\":\"#C8D4E3\"},\"yaxis\":{\"backgroundcolor\":\"rgb(17,17,17)\",\"gridcolor\":\"#506784\",\"gridwidth\":2,\"linecolor\":\"#506784\",\"showbackground\":true,\"ticks\":\"\",\"zerolinecolor\":\"#C8D4E3\"},\"zaxis\":{\"backgroundcolor\":\"rgb(17,17,17)\",\"gridcolor\":\"#506784\",\"gridwidth\":2,\"linecolor\":\"#506784\",\"showbackground\":true,\"ticks\":\"\",\"zerolinecolor\":\"#C8D4E3\"}},\"shapedefaults\":{\"line\":{\"color\":\"#f2f5fa\"}},\"sliderdefaults\":{\"bgcolor\":\"#C8D4E3\",\"bordercolor\":\"rgb(17,17,17)\",\"borderwidth\":1,\"tickwidth\":0},\"ternary\":{\"aaxis\":{\"gridcolor\":\"#506784\",\"linecolor\":\"#506784\",\"ticks\":\"\"},\"baxis\":{\"gridcolor\":\"#506784\",\"linecolor\":\"#506784\",\"ticks\":\"\"},\"bgcolor\":\"rgb(17,17,17)\",\"caxis\":{\"gridcolor\":\"#506784\",\"linecolor\":\"#506784\",\"ticks\":\"\"}},\"title\":{\"x\":0.05},\"updatemenudefaults\":{\"bgcolor\":\"#506784\",\"borderwidth\":0},\"xaxis\":{\"automargin\":true,\"gridcolor\":\"#283442\",\"linecolor\":\"#506784\",\"ticks\":\"\",\"title\":{\"standoff\":15},\"zerolinecolor\":\"#283442\",\"zerolinewidth\":2},\"yaxis\":{\"automargin\":true,\"gridcolor\":\"#283442\",\"linecolor\":\"#506784\",\"ticks\":\"\",\"title\":{\"standoff\":15},\"zerolinecolor\":\"#283442\",\"zerolinewidth\":2}}},\"xaxis\":{\"anchor\":\"y\",\"domain\":[0.0,1.0],\"title\":{\"text\":\"Organic_carbon\"}},\"yaxis\":{\"anchor\":\"x\",\"domain\":[0.0,1.0],\"title\":{\"text\":\"Hardness\"}},\"coloraxis\":{\"colorbar\":{\"title\":{\"text\":\"Potability\"}},\"colorscale\":[[0.0,\"#0d0887\"],[0.1111111111111111,\"#46039f\"],[0.2222222222222222,\"#7201a8\"],[0.3333333333333333,\"#9c179e\"],[0.4444444444444444,\"#bd3786\"],[0.5555555555555556,\"#d8576b\"],[0.6666666666666666,\"#ed7953\"],[0.7777777777777778,\"#fb9f3a\"],[0.8888888888888888,\"#fdca26\"],[1.0,\"#f0f921\"]]},\"legend\":{\"tracegroupgap\":0},\"margin\":{\"t\":60}},                        {\"responsive\": true}                    ).then(function(){\n",
              "                            \n",
              "var gd = document.getElementById('9c997fae-ded2-48b1-8f6a-e9152d661214');\n",
              "var x = new MutationObserver(function (mutations, observer) {{\n",
              "        var display = window.getComputedStyle(gd).display;\n",
              "        if (!display || display === 'none') {{\n",
              "            console.log([gd, 'removed!']);\n",
              "            Plotly.purge(gd);\n",
              "            observer.disconnect();\n",
              "        }}\n",
              "}});\n",
              "\n",
              "// Listen for the removal of the full notebook cells\n",
              "var notebookContainer = gd.closest('#notebook-container');\n",
              "if (notebookContainer) {{\n",
              "    x.observe(notebookContainer, {childList: true});\n",
              "}}\n",
              "\n",
              "// Listen for the clearing of the current output cell\n",
              "var outputEl = gd.closest('.output');\n",
              "if (outputEl) {{\n",
              "    x.observe(outputEl, {childList: true});\n",
              "}}\n",
              "\n",
              "                        })                };                            </script>        </div>\n",
              "</body>\n",
              "</html>"
            ]
          },
          "metadata": {}
        }
      ]
    },
    {
      "cell_type": "code",
      "source": [
        "df.isnull().mean().plot.bar(figsize =(10,8))\n",
        "plt.xlabel(\"Features\")\n",
        "plt.ylabel(\"Percentage of missing values\")"
      ],
      "metadata": {
        "id": "tnCVQWmJUpWJ",
        "colab": {
          "base_uri": "https://localhost:8080/",
          "height": 588
        },
        "outputId": "8a46d66c-bda4-4770-904d-4d6381b43f9b"
      },
      "execution_count": null,
      "outputs": [
        {
          "output_type": "execute_result",
          "data": {
            "text/plain": [
              "Text(0, 0.5, 'Percentage of missing values')"
            ]
          },
          "metadata": {},
          "execution_count": 493
        },
        {
          "output_type": "display_data",
          "data": {
            "text/plain": [
              "<Figure size 720x576 with 1 Axes>"
            ],
            "image/png": "[encoded data removed]"
          },
          "metadata": {
            "needs_background": "light"
          }
        }
      ]
    },
    {
      "cell_type": "code",
      "source": [
        "df[\"ph\"] = df[\"ph\"].fillna(df[\"ph\"].mean())\n",
        "df[\"Sulfate\"] = df[\"Sulfate\"].fillna(df[\"Sulfate\"].mean())\n",
        "df[\"Trihalomethanes\"] = df[\"Trihalomethanes\"].fillna(df[\"Trihalomethanes\"].mean())"
      ],
      "metadata": {
        "id": "5CZbtlu9LmiO"
      },
      "execution_count": null,
      "outputs": []
    },
    {
      "cell_type": "code",
      "source": [
        "df.isnull().sum()"
      ],
      "metadata": {
        "colab": {
          "base_uri": "https://localhost:8080/"
        },
        "id": "vel5tsO7Lmf1",
        "outputId": "d5eb80d6-175a-40c6-998a-8ab78d7ee762"
      },
      "execution_count": null,
      "outputs": [
        {
          "output_type": "execute_result",
          "data": {
            "text/plain": [
              "ph                 0\n",
              "Hardness           0\n",
              "Solids             0\n",
              "Chloramines        0\n",
              "Sulfate            0\n",
              "Conductivity       0\n",
              "Organic_carbon     0\n",
              "Trihalomethanes    0\n",
              "Turbidity          0\n",
              "Potability         0\n",
              "dtype: int64"
            ]
          },
          "metadata": {},
          "execution_count": 495
        }
      ]
    },
    {
      "cell_type": "markdown",
      "source": [
        "Preparing the data"
      ],
      "metadata": {
        "id": "sRLpaCaHNuiU"
      }
    },
    {
      "cell_type": "code",
      "source": [
        "df.head()\n",
        "#keep everything on same scale exept out"
      ],
      "metadata": {
        "colab": {
          "base_uri": "https://localhost:8080/",
          "height": 206
        },
        "id": "HEsiLvjzNJ7J",
        "outputId": "ee41606f-471e-49d4-ec5e-2795d5b69bfe"
      },
      "execution_count": null,
      "outputs": [
        {
          "output_type": "execute_result",
          "data": {
            "text/plain": [
              "         ph    Hardness       Solids  Chloramines     Sulfate  Conductivity  \\\n",
              "0  7.071248  204.890456  20791.31898     7.300212  368.516441    564.308654   \n",
              "1  3.716080  129.422921  18630.05786     6.635246  331.940037    592.885359   \n",
              "2  8.099124  224.236259  19909.54173     9.275884  331.940037    418.606213   \n",
              "3  8.316766  214.373394  22018.41744     8.059332  356.886136    363.266516   \n",
              "4  9.092223  181.101509  17978.98634     6.546600  310.135738    398.410813   \n",
              "\n",
              "   Organic_carbon  Trihalomethanes  Turbidity  Potability  \n",
              "0       10.379783        86.990970   2.963135           0  \n",
              "1       15.180013        56.329076   4.500656           0  \n",
              "2       16.868637        66.420093   3.055934           0  \n",
              "3       18.436525       100.341674   4.628771           0  \n",
              "4       11.558279        31.997993   4.075075           0  "
            ],
            "text/html": [
              "\n",
              "  <div id=\"df-7860fe7a-fd0f-4ed9-afd0-6dd03d1a5543\">\n",
              "    <div class=\"colab-df-container\">\n",
              "      <div>\n",
              "<style scoped>\n",
              "    .dataframe tbody tr th:only-of-type {\n",
              "        vertical-align: middle;\n",
              "    }\n",
              "\n",
              "    .dataframe tbody tr th {\n",
              "        vertical-align: top;\n",
              "    }\n",
              "\n",
              "    .dataframe thead th {\n",
              "        text-align: right;\n",
              "    }\n",
              "</style>\n",
              "<table border=\"1\" class=\"dataframe\">\n",
              "  <thead>\n",
              "    <tr style=\"text-align: right;\">\n",
              "      <th></th>\n",
              "      <th>ph</th>\n",
              "      <th>Hardness</th>\n",
              "      <th>Solids</th>\n",
              "      <th>Chloramines</th>\n",
              "      <th>Sulfate</th>\n",
              "      <th>Conductivity</th>\n",
              "      <th>Organic_carbon</th>\n",
              "      <th>Trihalomethanes</th>\n",
              "      <th>Turbidity</th>\n",
              "      <th>Potability</th>\n",
              "    </tr>\n",
              "  </thead>\n",
              "  <tbody>\n",
              "    <tr>\n",
              "      <th>0</th>\n",
              "      <td>7.071248</td>\n",
              "      <td>204.890456</td>\n",
              "      <td>20791.31898</td>\n",
              "      <td>7.300212</td>\n",
              "      <td>368.516441</td>\n",
              "      <td>564.308654</td>\n",
              "      <td>10.379783</td>\n",
              "      <td>86.990970</td>\n",
              "      <td>2.963135</td>\n",
              "      <td>0</td>\n",
              "    </tr>\n",
              "    <tr>\n",
              "      <th>1</th>\n",
              "      <td>3.716080</td>\n",
              "      <td>129.422921</td>\n",
              "      <td>18630.05786</td>\n",
              "      <td>6.635246</td>\n",
              "      <td>331.940037</td>\n",
              "      <td>592.885359</td>\n",
              "      <td>15.180013</td>\n",
              "      <td>56.329076</td>\n",
              "      <td>4.500656</td>\n",
              "      <td>0</td>\n",
              "    </tr>\n",
              "    <tr>\n",
              "      <th>2</th>\n",
              "      <td>8.099124</td>\n",
              "      <td>224.236259</td>\n",
              "      <td>19909.54173</td>\n",
              "      <td>9.275884</td>\n",
              "      <td>331.940037</td>\n",
              "      <td>418.606213</td>\n",
              "      <td>16.868637</td>\n",
              "      <td>66.420093</td>\n",
              "      <td>3.055934</td>\n",
              "      <td>0</td>\n",
              "    </tr>\n",
              "    <tr>\n",
              "      <th>3</th>\n",
              "      <td>8.316766</td>\n",
              "      <td>214.373394</td>\n",
              "      <td>22018.41744</td>\n",
              "      <td>8.059332</td>\n",
              "      <td>356.886136</td>\n",
              "      <td>363.266516</td>\n",
              "      <td>18.436525</td>\n",
              "      <td>100.341674</td>\n",
              "      <td>4.628771</td>\n",
              "      <td>0</td>\n",
              "    </tr>\n",
              "    <tr>\n",
              "      <th>4</th>\n",
              "      <td>9.092223</td>\n",
              "      <td>181.101509</td>\n",
              "      <td>17978.98634</td>\n",
              "      <td>6.546600</td>\n",
              "      <td>310.135738</td>\n",
              "      <td>398.410813</td>\n",
              "      <td>11.558279</td>\n",
              "      <td>31.997993</td>\n",
              "      <td>4.075075</td>\n",
              "      <td>0</td>\n",
              "    </tr>\n",
              "  </tbody>\n",
              "</table>\n",
              "</div>\n",
              "      <button class=\"colab-df-convert\" onclick=\"convertToInteractive('df-7860fe7a-fd0f-4ed9-afd0-6dd03d1a5543')\"\n",
              "              title=\"Convert this dataframe to an interactive table.\"\n",
              "              style=\"display:none;\">\n",
              "        \n",
              "  <svg xmlns=\"http://www.w3.org/2000/svg\" height=\"24px\"viewBox=\"0 0 24 24\"\n",
              "       width=\"24px\">\n",
              "    <path d=\"M0 0h24v24H0V0z\" fill=\"none\"/>\n",
              "    <path d=\"M18.56 5.44l.94 2.06.94-2.06 2.06-.94-2.06-.94-.94-2.06-.94 2.06-2.06.94zm-11 1L8.5 8.5l.94-2.06 2.06-.94-2.06-.94L8.5 2.5l-.94 2.06-2.06.94zm10 10l.94 2.06.94-2.06 2.06-.94-2.06-.94-.94-2.06-.94 2.06-2.06.94z\"/><path d=\"M17.41 7.96l-1.37-1.37c-.4-.4-.92-.59-1.43-.59-.52 0-1.04.2-1.43.59L10.3 9.45l-7.72 7.72c-.78.78-.78 2.05 0 2.83L4 21.41c.39.39.9.59 1.41.59.51 0 1.02-.2 1.41-.59l7.78-7.78 2.81-2.81c.8-.78.8-2.07 0-2.86zM5.41 20L4 18.59l7.72-7.72 1.47 1.35L5.41 20z\"/>\n",
              "  </svg>\n",
              "      </button>\n",
              "      \n",
              "  <style>\n",
              "    .colab-df-container {\n",
              "      display:flex;\n",
              "      flex-wrap:wrap;\n",
              "      gap: 12px;\n",
              "    }\n",
              "\n",
              "    .colab-df-convert {\n",
              "      background-color: #E8F0FE;\n",
              "      border: none;\n",
              "      border-radius: 50%;\n",
              "      cursor: pointer;\n",
              "      display: none;\n",
              "      fill: #1967D2;\n",
              "      height: 32px;\n",
              "      padding: 0 0 0 0;\n",
              "      width: 32px;\n",
              "    }\n",
              "\n",
              "    .colab-df-convert:hover {\n",
              "      background-color: #E2EBFA;\n",
              "      box-shadow: 0px 1px 2px rgba(60, 64, 67, 0.3), 0px 1px 3px 1px rgba(60, 64, 67, 0.15);\n",
              "      fill: #174EA6;\n",
              "    }\n",
              "\n",
              "    [theme=dark] .colab-df-convert {\n",
              "      background-color: #3B4455;\n",
              "      fill: #D2E3FC;\n",
              "    }\n",
              "\n",
              "    [theme=dark] .colab-df-convert:hover {\n",
              "      background-color: #434B5C;\n",
              "      box-shadow: 0px 1px 3px 1px rgba(0, 0, 0, 0.15);\n",
              "      filter: drop-shadow(0px 1px 2px rgba(0, 0, 0, 0.3));\n",
              "      fill: #FFFFFF;\n",
              "    }\n",
              "  </style>\n",
              "\n",
              "      <script>\n",
              "        const buttonEl =\n",
              "          document.querySelector('#df-7860fe7a-fd0f-4ed9-afd0-6dd03d1a5543 button.colab-df-convert');\n",
              "        buttonEl.style.display =\n",
              "          google.colab.kernel.accessAllowed ? 'block' : 'none';\n",
              "\n",
              "        async function convertToInteractive(key) {\n",
              "          const element = document.querySelector('#df-7860fe7a-fd0f-4ed9-afd0-6dd03d1a5543');\n",
              "          const dataTable =\n",
              "            await google.colab.kernel.invokeFunction('convertToInteractive',\n",
              "                                                     [key], {});\n",
              "          if (!dataTable) return;\n",
              "\n",
              "          const docLinkHtml = 'Like what you see? Visit the ' +\n",
              "            '<a target=\"_blank\" href=https://colab.research.google.com/notebooks/data_table.ipynb>data table notebook</a>'\n",
              "            + ' to learn more about interactive tables.';\n",
              "          element.innerHTML = '';\n",
              "          dataTable['output_type'] = 'display_data';\n",
              "          await google.colab.output.renderOutput(dataTable, element);\n",
              "          const docLink = document.createElement('div');\n",
              "          docLink.innerHTML = docLinkHtml;\n",
              "          element.appendChild(docLink);\n",
              "        }\n",
              "      </script>\n",
              "    </div>\n",
              "  </div>\n",
              "  "
            ]
          },
          "metadata": {},
          "execution_count": 496
        }
      ]
    },
    {
      "cell_type": "code",
      "source": [
        "x = df.drop(\"Potability\",axis = 1)#the features\n",
        "y = df[\"Potability\"]#the target"
      ],
      "metadata": {
        "id": "0QQYTs8-OG3e"
      },
      "execution_count": null,
      "outputs": []
    },
    {
      "cell_type": "code",
      "source": [
        "x.shape,y.shape\n",
        "#no of row and features"
      ],
      "metadata": {
        "colab": {
          "base_uri": "https://localhost:8080/"
        },
        "id": "GtY2mmHaOGpX",
        "outputId": "f63c1107-1e2c-472e-a6e3-7de1b2aa8f69"
      },
      "execution_count": null,
      "outputs": [
        {
          "output_type": "execute_result",
          "data": {
            "text/plain": [
              "((1504, 9), (1504,))"
            ]
          },
          "metadata": {},
          "execution_count": 498
        }
      ]
    },
    {
      "cell_type": "code",
      "source": [
        "\n",
        "scaler = StandardScaler()\n",
        "#x-mean/standard deviation eve betweeen -1 to 1\n",
        "x = scaler.fit_transform(x)#calculate mean and apply for all col\n",
        "x\n"
      ],
      "metadata": {
        "colab": {
          "base_uri": "https://localhost:8080/"
        },
        "id": "5pn88fcCPD5L",
        "outputId": "4b5bc329-c220-459f-dea3-d07159a5ff80"
      },
      "execution_count": null,
      "outputs": [
        {
          "output_type": "execute_result",
          "data": {
            "text/plain": [
              "array([[-6.26414249e-16,  2.60010238e-01, -1.38291728e-01, ...,\n",
              "        -1.17499185e+00,  1.25413170e+00, -1.26470887e+00],\n",
              "       [-2.36633188e+00, -2.08004651e+00, -3.79046026e-01, ...,\n",
              "         2.79918273e-01, -6.95058083e-01,  6.86554733e-01],\n",
              "       [ 7.24940346e-01,  8.59874525e-01, -2.36517556e-01, ...,\n",
              "         7.91726220e-01, -5.35678463e-02, -1.14693872e+00],\n",
              "       ...,\n",
              "       [-3.12312346e-01,  5.81094886e-01, -4.42622323e-01, ...,\n",
              "        -7.98766724e-01,  6.78809879e-01, -7.03586089e-01],\n",
              "       [-1.66907936e+00, -1.12536080e+00, -1.88306062e+00, ...,\n",
              "        -1.11955917e-02, -2.09619253e+00,  1.90678363e-01],\n",
              "       [ 6.38738718e-01,  1.18678993e+00, -7.43222028e-01, ...,\n",
              "        -1.97604554e-02, -1.16631806e+00,  1.00757500e+00]])"
            ]
          },
          "metadata": {},
          "execution_count": 499
        }
      ]
    },
    {
      "cell_type": "code",
      "source": [
        "x_train,x_test,y_train,y_test=train_test_split(x,y,test_size=0.3)"
      ],
      "metadata": {
        "id": "kGr4cB4dPD0n"
      },
      "execution_count": null,
      "outputs": []
    },
    {
      "cell_type": "code",
      "source": [
        "x_train.shape,x_test.shape"
      ],
      "metadata": {
        "colab": {
          "base_uri": "https://localhost:8080/"
        },
        "id": "CC1euSu7RJrg",
        "outputId": "ef810b47-d593-4968-866d-4cabda772718"
      },
      "execution_count": null,
      "outputs": [
        {
          "output_type": "execute_result",
          "data": {
            "text/plain": [
              "((1052, 9), (452, 9))"
            ]
          },
          "metadata": {},
          "execution_count": 501
        }
      ]
    },
    {
      "cell_type": "code",
      "source": [
        "#logistic regression\n",
        "\n",
        "# object of LR\n",
        "model = LogisticRegression()"
      ],
      "metadata": {
        "id": "23pmKRG_RJou"
      },
      "execution_count": null,
      "outputs": []
    },
    {
      "cell_type": "code",
      "source": [
        "#Training MOD\n",
        "model.fit(x_train,y_train)"
      ],
      "metadata": {
        "colab": {
          "base_uri": "https://localhost:8080/"
        },
        "id": "6V4P_HYMSwK6",
        "outputId": "bfcad8ac-9f42-44e9-f290-ebce70e8ec99"
      },
      "execution_count": null,
      "outputs": [
        {
          "output_type": "execute_result",
          "data": {
            "text/plain": [
              "LogisticRegression()"
            ]
          },
          "metadata": {},
          "execution_count": 503
        }
      ]
    },
    {
      "cell_type": "code",
      "source": [
        "#predict Mke\n",
        "pred = model.predict(x_test)"
      ],
      "metadata": {
        "id": "Ox2VgfnvTKHi"
      },
      "execution_count": null,
      "outputs": []
    },
    {
      "cell_type": "code",
      "source": [
        "#accuracy score\n",
        "accuracy_score_lg = accuracy_score(y_test,pred)\n",
        "accuracy_score_lg*100"
      ],
      "metadata": {
        "colab": {
          "base_uri": "https://localhost:8080/"
        },
        "id": "wa9-6SiNTJ_c",
        "outputId": "356335bb-dbf5-4f1b-efb7-cec7f6fa4c4e"
      },
      "execution_count": null,
      "outputs": [
        {
          "output_type": "execute_result",
          "data": {
            "text/plain": [
              "58.62831858407079"
            ]
          },
          "metadata": {},
          "execution_count": 505
        }
      ]
    },
    {
      "cell_type": "code",
      "source": [
        "#Decision Tree Classifier"
      ],
      "metadata": {
        "id": "Yd--ghK0Vefo"
      },
      "execution_count": null,
      "outputs": []
    },
    {
      "cell_type": "code",
      "source": [
        "#model_dt = DecisionTreeClassifier(max_depth = 8  ,random_state = 100 )\n",
        "#train\n",
        "model_dt = DecisionTreeClassifier(criterion = \"entropy\", splitter = \"best\", max_depth = 8,  min_samples_split = 6,\n",
        "                              min_samples_leaf = 4, max_features = 9)\n",
        "model_dt.fit(x_train,y_train)"
      ],
      "metadata": {
        "colab": {
          "base_uri": "https://localhost:8080/"
        },
        "id": "iJwR2wn23G2f",
        "outputId": "b31f3e55-f201-4a3d-a875-85e1972c4edb"
      },
      "execution_count": null,
      "outputs": [
        {
          "output_type": "execute_result",
          "data": {
            "text/plain": [
              "DecisionTreeClassifier(criterion='entropy', max_depth=8, max_features=9,\n",
              "                       min_samples_leaf=4, min_samples_split=6)"
            ]
          },
          "metadata": {},
          "execution_count": 507
        }
      ]
    },
    {
      "cell_type": "code",
      "source": [
        "#pred\n",
        "pred_dt = model_dt.predict(x_test)\n",
        "accuracy_score_dt = accuracy_score(y_test,pred_dt)\n",
        "accuracy_score_dt*100"
      ],
      "metadata": {
        "colab": {
          "base_uri": "https://localhost:8080/"
        },
        "id": "fqzLabOM3Gto",
        "outputId": "bf8a24a2-5287-426c-e792-893541a92a33"
      },
      "execution_count": null,
      "outputs": [
        {
          "output_type": "execute_result",
          "data": {
            "text/plain": [
              "59.070796460176986"
            ]
          },
          "metadata": {},
          "execution_count": 508
        }
      ]
    },
    {
      "cell_type": "markdown",
      "source": [],
      "metadata": {
        "id": "1VlsDaTGlJCy"
      }
    },
    {
      "cell_type": "code",
      "source": [
        "#confusion matrix\n",
        "cm2 = confusion_matrix(y_test,pred_dt)\n",
        "cm2\n",
        "# 386 correct classifed as 0 and 16 is wrong classifed as 0\n",
        "# 235 correct classifed as 1 and 19 is wrong classifed as 1"
      ],
      "metadata": {
        "colab": {
          "base_uri": "https://localhost:8080/"
        },
        "id": "_fT-VJtY4210",
        "outputId": "f828d886-dc78-4ef6-8bbd-fa0eeac73825"
      },
      "execution_count": null,
      "outputs": [
        {
          "output_type": "execute_result",
          "data": {
            "text/plain": [
              "array([[213,  36],\n",
              "       [149,  54]])"
            ]
          },
          "metadata": {},
          "execution_count": 509
        }
      ]
    },
    {
      "cell_type": "code",
      "source": [
        "\"\"\"\n",
        "from sklearn.model_selection import KFold, cross_val_score,StratifiedKFold,LeaveOneOut,LeavePOut\n",
        "from sklearn import datasets\n",
        "#X, y = datasets.water_potability.csv(return_X_y=True)\n",
        "\n",
        "clf = DecisionTreeClassifier(random_state=42)\n",
        "\n",
        "lpo = LeavePOut(p=2)\n",
        "\n",
        "scores = cross_val_score(clf, x_train,y_train, cv = lpo)\n",
        "\n",
        "print(\"Cross Validation Scores: \", scores)\n",
        "print(\"Average CV Score: \", scores.mean())\n",
        "\"\"\"\n"
      ],
      "metadata": {
        "id": "1KAFkzzjXD5r",
        "colab": {
          "base_uri": "https://localhost:8080/",
          "height": 70
        },
        "outputId": "038de42f-fc23-4835-fdcd-88e012b1ee1e"
      },
      "execution_count": null,
      "outputs": [
        {
          "output_type": "execute_result",
          "data": {
            "text/plain": [
              "'\\nfrom sklearn.model_selection import KFold, cross_val_score,StratifiedKFold,LeaveOneOut,LeavePOut\\nfrom sklearn import datasets\\n#X, y = datasets.water_potability.csv(return_X_y=True)\\n\\nclf = DecisionTreeClassifier(random_state=42)\\n\\nlpo = LeavePOut(p=2)\\n\\nscores = cross_val_score(clf, x_train,y_train, cv = lpo)\\n\\nprint(\"Cross Validation Scores: \", scores)\\nprint(\"Average CV Score: \", scores.mean())\\n'"
            ],
            "application/vnd.google.colaboratory.intrinsic+json": {
              "type": "string"
            }
          },
          "metadata": {},
          "execution_count": 510
        }
      ]
    },
    {
      "cell_type": "code",
      "source": [
        "\"\"\"\n",
        "#X, y = datasets.water_potability.csv(return_X_y=True)\n",
        "\n",
        "clf = DecisionTreeClassifier(random_state=20)\n",
        "\n",
        "ss = ShuffleSplit(train_size=0.6, test_size=0.4, n_splits = 5)\n",
        "\n",
        "scores = cross_val_score(clf, x, y, cv = ss)\n",
        "print(\"Cross Validation Scores: \", scores)\n",
        "print(\"Average CV Score: \", scores.mean())\n",
        "\"\"\""
      ],
      "metadata": {
        "colab": {
          "base_uri": "https://localhost:8080/",
          "height": 70
        },
        "id": "rISDLHzBbs7_",
        "outputId": "cd33cfa7-56eb-48fc-c404-fa949ba484bf"
      },
      "execution_count": null,
      "outputs": [
        {
          "output_type": "execute_result",
          "data": {
            "text/plain": [
              "'\\n#X, y = datasets.water_potability.csv(return_X_y=True)\\n\\nclf = DecisionTreeClassifier(random_state=20)\\n\\nss = ShuffleSplit(train_size=0.6, test_size=0.4, n_splits = 5)\\n\\nscores = cross_val_score(clf, x, y, cv = ss)\\nprint(\"Cross Validation Scores: \", scores)\\nprint(\"Average CV Score: \", scores.mean())\\n'"
            ],
            "application/vnd.google.colaboratory.intrinsic+json": {
              "type": "string"
            }
          },
          "metadata": {},
          "execution_count": 511
        }
      ]
    },
    {
      "cell_type": "code",
      "source": [
        "#sns.heatmap(cm2/np.sum(cm2))"
      ],
      "metadata": {
        "id": "4EqaVbiX42pZ"
      },
      "execution_count": null,
      "outputs": []
    },
    {
      "cell_type": "markdown",
      "source": [
        "RANDOM FOREST CLASSIFIER"
      ],
      "metadata": {
        "id": "8oheowXd583_"
      }
    },
    {
      "cell_type": "code",
      "source": [
        "#create object\n",
        "x_train,x_test,y_train,y_test=train_test_split(x,y,test_size=0.2)\n",
        "model_rf = RandomForestClassifier(max_depth = 14 , random_state = 12,n_estimators=30)\n",
        "model_rf.fit(x_train,y_train)\n",
        "#train RF"
      ],
      "metadata": {
        "id": "Qs_F8sgU58MP",
        "colab": {
          "base_uri": "https://localhost:8080/"
        },
        "outputId": "5b95d25a-a543-4a70-a420-88e2f40a6d34"
      },
      "execution_count": null,
      "outputs": [
        {
          "output_type": "execute_result",
          "data": {
            "text/plain": [
              "RandomForestClassifier(max_depth=14, n_estimators=30, random_state=12)"
            ]
          },
          "metadata": {},
          "execution_count": 513
        }
      ]
    },
    {
      "cell_type": "code",
      "source": [
        "#predict\n",
        "pred_rf = model_rf.predict(x_test)\n",
        "accuracy_score_rf = accuracy_score(y_test , pred_rf)\n",
        "accuracy_score_rf*100"
      ],
      "metadata": {
        "colab": {
          "base_uri": "https://localhost:8080/"
        },
        "id": "8asq1hXG6gNp",
        "outputId": "c82b6e51-1bfd-4548-9c2d-441d86912798"
      },
      "execution_count": null,
      "outputs": [
        {
          "output_type": "execute_result",
          "data": {
            "text/plain": [
              "63.45514950166113"
            ]
          },
          "metadata": {},
          "execution_count": 514
        }
      ]
    },
    {
      "cell_type": "code",
      "source": [
        "\n",
        "#confussion matrix\n",
        "cm3 = confusion_matrix(y_test,pred_rf)\n",
        "cm3\n",
        "# 367 correct classifed as 0 and 35 is wrong classifed as 0\n",
        "# 169 correct classifed as 1 and 85 is wrong classifed as 1"
      ],
      "metadata": {
        "colab": {
          "base_uri": "https://localhost:8080/"
        },
        "id": "Nbw5eoAI7HOj",
        "outputId": "3d36153c-27c6-43a7-84a3-1a0bc7a4ff6e"
      },
      "execution_count": null,
      "outputs": [
        {
          "output_type": "execute_result",
          "data": {
            "text/plain": [
              "array([[133,  27],\n",
              "       [ 83,  58]])"
            ]
          },
          "metadata": {},
          "execution_count": 515
        }
      ]
    },
    {
      "cell_type": "markdown",
      "source": [
        "KNN -- K-Neighbours"
      ],
      "metadata": {
        "id": "wkLTJzawPAM4"
      }
    },
    {
      "cell_type": "code",
      "source": [
        "#create object\n",
        "model_knn = KNeighborsClassifier()\n",
        "x_train,x_test,y_train,y_test=train_test_split(x,y,test_size=0.3)"
      ],
      "metadata": {
        "id": "6FG759QuO9Bt"
      },
      "execution_count": null,
      "outputs": []
    },
    {
      "cell_type": "code",
      "source": [
        "#check for which neighbor u get better accuracy\n",
        "for i in range(3,25):\n",
        "  model_knn = KNeighborsClassifier(n_neighbors=i)\n",
        "  model_knn.fit(x_train,y_train)\n",
        "  pred_knn = model_knn.predict(x_test)\n",
        "  accuracy_score_knn = accuracy_score(y_test,pred_knn)\n",
        "  print(i,accuracy_score_knn)"
      ],
      "metadata": {
        "colab": {
          "base_uri": "https://localhost:8080/"
        },
        "id": "amBdjF2QPtrT",
        "outputId": "b6bc24ae-478e-480f-a47d-dcfc85a48272"
      },
      "execution_count": null,
      "outputs": [
        {
          "output_type": "stream",
          "name": "stdout",
          "text": [
            "3 0.6393805309734514\n",
            "4 0.6393805309734514\n",
            "5 0.6216814159292036\n",
            "6 0.6548672566371682\n",
            "7 0.6526548672566371\n",
            "8 0.6460176991150443\n",
            "9 0.668141592920354\n",
            "10 0.668141592920354\n",
            "11 0.6526548672566371\n",
            "12 0.6482300884955752\n",
            "13 0.661504424778761\n",
            "14 0.661504424778761\n",
            "15 0.6415929203539823\n",
            "16 0.6504424778761062\n",
            "17 0.6393805309734514\n",
            "18 0.6438053097345132\n",
            "19 0.6526548672566371\n",
            "20 0.6548672566371682\n",
            "21 0.6548672566371682\n",
            "22 0.6460176991150443\n",
            "23 0.6393805309734514\n",
            "24 0.6504424778761062\n"
          ]
        }
      ]
    },
    {
      "cell_type": "code",
      "source": [
        "  model_knn = KNeighborsClassifier(n_neighbors=6)\n",
        "  model_knn.fit(x_train,y_train)\n",
        "  pred_knn = model_knn.predict(x_test)\n",
        "  accuracy_score_knn = accuracy_score(y_test,pred_knn)\n",
        "  print(accuracy_score_knn)"
      ],
      "metadata": {
        "id": "1LSYgdghwRYx",
        "colab": {
          "base_uri": "https://localhost:8080/"
        },
        "outputId": "099e2a02-30ce-4db7-c1e3-a9f6ab56354f"
      },
      "execution_count": null,
      "outputs": [
        {
          "output_type": "stream",
          "name": "stdout",
          "text": [
            "0.6548672566371682\n"
          ]
        }
      ]
    },
    {
      "cell_type": "markdown",
      "source": [
        "SVM -- support vector machine"
      ],
      "metadata": {
        "id": "_r0h59OzRvon"
      }
    },
    {
      "cell_type": "code",
      "source": [
        "#object\n",
        "# Kernel Function generally transforms the training set of data so that a non-linear\n",
        "#decision surface is able to transform to a linear equation in a higher number of dimension spaces\n",
        "from sklearn.svm import SVC\n",
        "model_svm = SVC(kernel='rbf',C=1,gamma ='auto')\n",
        "x_train,x_test,y_train,y_test=train_test_split(x,y,test_size=0.2,random_state = 23 ,shuffle = True)\n",
        "#train\n",
        "model_svm.fit(x_train,y_train)"
      ],
      "metadata": {
        "id": "L13fgULiQw5r",
        "colab": {
          "base_uri": "https://localhost:8080/"
        },
        "outputId": "8214ecc4-0f07-4ddd-9dce-31a1755e0caa"
      },
      "execution_count": null,
      "outputs": [
        {
          "output_type": "execute_result",
          "data": {
            "text/plain": [
              "SVC(C=1, gamma='auto')"
            ]
          },
          "metadata": {},
          "execution_count": 577
        }
      ]
    },
    {
      "cell_type": "code",
      "source": [
        "\n",
        "#predict\n",
        "pred_svm = model_svm.predict(x_test)\n",
        "accuracy_score_svm = accuracy_score(y_test,pred_svm)\n",
        "accuracy_score_svm*100"
      ],
      "metadata": {
        "colab": {
          "base_uri": "https://localhost:8080/"
        },
        "id": "j5Pr_abeURHZ",
        "outputId": "2451c8d8-637c-44eb-c65a-6b4dd3bd42a2"
      },
      "execution_count": null,
      "outputs": [
        {
          "output_type": "execute_result",
          "data": {
            "text/plain": [
              "70.43189368770764"
            ]
          },
          "metadata": {},
          "execution_count": 578
        }
      ]
    },
    {
      "cell_type": "markdown",
      "source": [
        "Adaboost Classifier"
      ],
      "metadata": {
        "id": "WPAi2S0BWIe-"
      }
    },
    {
      "cell_type": "code",
      "source": [
        "from sklearn.ensemble import AdaBoostClassifier\n",
        "#one of the best\n",
        "model_ada = AdaBoostClassifier(n_estimators = 60,learning_rate = 0.02)"
      ],
      "metadata": {
        "id": "WeIh3Nk8WLmY"
      },
      "execution_count": null,
      "outputs": []
    },
    {
      "cell_type": "code",
      "source": [
        "model_ada.fit(x_train,y_train)"
      ],
      "metadata": {
        "colab": {
          "base_uri": "https://localhost:8080/"
        },
        "id": "sBXtOAz1WzZG",
        "outputId": "1782dede-5cd8-42a3-ab92-efb15793bc8b"
      },
      "execution_count": null,
      "outputs": [
        {
          "output_type": "execute_result",
          "data": {
            "text/plain": [
              "AdaBoostClassifier(learning_rate=0.02, n_estimators=60)"
            ]
          },
          "metadata": {},
          "execution_count": 580
        }
      ]
    },
    {
      "cell_type": "code",
      "source": [
        "pred_ada = model_ada.predict(x_test)"
      ],
      "metadata": {
        "id": "7ReFuX6_WzXH"
      },
      "execution_count": null,
      "outputs": []
    },
    {
      "cell_type": "code",
      "source": [
        "accuracy_score_ada = accuracy_score(y_test,pred_ada)\n",
        "accuracy_score_ada*100"
      ],
      "metadata": {
        "colab": {
          "base_uri": "https://localhost:8080/"
        },
        "id": "Rv3XCf98WzT4",
        "outputId": "bfc5c082-8c36-4f22-cc7e-1bef63ba10ca"
      },
      "execution_count": null,
      "outputs": [
        {
          "output_type": "execute_result",
          "data": {
            "text/plain": [
              "60.46511627906976"
            ]
          },
          "metadata": {},
          "execution_count": 582
        }
      ]
    },
    {
      "cell_type": "markdown",
      "source": [
        "XGBOOST algorithm"
      ],
      "metadata": {
        "id": "Ctpi02v4bbQs"
      }
    },
    {
      "cell_type": "code",
      "source": [
        "from xgboost import XGBClassifier\n",
        "\n",
        "model_xgb = XGBClassifier(n_estimators = 100  , learning_rate = 0.06)"
      ],
      "metadata": {
        "id": "_sfpwmniYYTi"
      },
      "execution_count": null,
      "outputs": []
    },
    {
      "cell_type": "code",
      "source": [
        "model_xgb.fit(x_train , y_train)"
      ],
      "metadata": {
        "colab": {
          "base_uri": "https://localhost:8080/"
        },
        "id": "wgtVoGewbapb",
        "outputId": "9fb19599-e9df-4990-93d3-f2eb5497549b"
      },
      "execution_count": null,
      "outputs": [
        {
          "output_type": "execute_result",
          "data": {
            "text/plain": [
              "XGBClassifier(learning_rate=0.06)"
            ]
          },
          "metadata": {},
          "execution_count": 584
        }
      ]
    },
    {
      "cell_type": "code",
      "source": [
        "pred_xgb = model_xgb.predict(x_test)"
      ],
      "metadata": {
        "id": "MjR-YM3TYYRa"
      },
      "execution_count": null,
      "outputs": []
    },
    {
      "cell_type": "code",
      "source": [
        "accuracy_score_xgb = accuracy_score(y_test,pred_xgb)\n",
        "accuracy_score_xgb*100"
      ],
      "metadata": {
        "colab": {
          "base_uri": "https://localhost:8080/"
        },
        "id": "50G058UQcLko",
        "outputId": "ac8ef21e-401d-4ab2-d10c-6b61cdaf6fbe"
      },
      "execution_count": null,
      "outputs": [
        {
          "output_type": "execute_result",
          "data": {
            "text/plain": [
              "63.45514950166113"
            ]
          },
          "metadata": {},
          "execution_count": 586
        }
      ]
    },
    {
      "cell_type": "code",
      "source": [
        "models = pd.DataFrame({\n",
        "    \"model\" : [\"Logistic Regression\",\n",
        "               \"Decision Tree\",\n",
        "               \"Random Forest\",\n",
        "               \"KNN\",\n",
        "               \"SVM\",\n",
        "               \"AdaBoost\",\n",
        "               \"XGBoosT\"],\n",
        "    \"Accuracy Score\" : [accuracy_score_lg ,accuracy_score_dt ,\n",
        "                          accuracy_score_rf ,accuracy_score_knn ,\n",
        "                          accuracy_score_svm ,accuracy_score_ada ,\n",
        "                          accuracy_score_xgb]\n",
        "\n",
        "})"
      ],
      "metadata": {
        "id": "-RBf3Q4TcVrt"
      },
      "execution_count": null,
      "outputs": []
    },
    {
      "cell_type": "code",
      "source": [
        "models"
      ],
      "metadata": {
        "colab": {
          "base_uri": "https://localhost:8080/",
          "height": 269
        },
        "id": "jb1n7mwgjrLB",
        "outputId": "a9372ded-b075-4171-e24d-77a9927099e0"
      },
      "execution_count": null,
      "outputs": [
        {
          "output_type": "execute_result",
          "data": {
            "text/plain": [
              "                 model  Accuracy Score\n",
              "0  Logistic Regression        0.586283\n",
              "1        Decision Tree        0.590708\n",
              "2        Random Forest        0.634551\n",
              "3                  KNN        0.654867\n",
              "4                  SVM        0.704319\n",
              "5             AdaBoost        0.604651\n",
              "6              XGBoosT        0.634551"
            ],
            "text/html": [
              "\n",
              "  <div id=\"df-4fb64a92-f68d-4875-a06d-be94d2277fb8\">\n",
              "    <div class=\"colab-df-container\">\n",
              "      <div>\n",
              "<style scoped>\n",
              "    .dataframe tbody tr th:only-of-type {\n",
              "        vertical-align: middle;\n",
              "    }\n",
              "\n",
              "    .dataframe tbody tr th {\n",
              "        vertical-align: top;\n",
              "    }\n",
              "\n",
              "    .dataframe thead th {\n",
              "        text-align: right;\n",
              "    }\n",
              "</style>\n",
              "<table border=\"1\" class=\"dataframe\">\n",
              "  <thead>\n",
              "    <tr style=\"text-align: right;\">\n",
              "      <th></th>\n",
              "      <th>model</th>\n",
              "      <th>Accuracy Score</th>\n",
              "    </tr>\n",
              "  </thead>\n",
              "  <tbody>\n",
              "    <tr>\n",
              "      <th>0</th>\n",
              "      <td>Logistic Regression</td>\n",
              "      <td>0.586283</td>\n",
              "    </tr>\n",
              "    <tr>\n",
              "      <th>1</th>\n",
              "      <td>Decision Tree</td>\n",
              "      <td>0.590708</td>\n",
              "    </tr>\n",
              "    <tr>\n",
              "      <th>2</th>\n",
              "      <td>Random Forest</td>\n",
              "      <td>0.634551</td>\n",
              "    </tr>\n",
              "    <tr>\n",
              "      <th>3</th>\n",
              "      <td>KNN</td>\n",
              "      <td>0.654867</td>\n",
              "    </tr>\n",
              "    <tr>\n",
              "      <th>4</th>\n",
              "      <td>SVM</td>\n",
              "      <td>0.704319</td>\n",
              "    </tr>\n",
              "    <tr>\n",
              "      <th>5</th>\n",
              "      <td>AdaBoost</td>\n",
              "      <td>0.604651</td>\n",
              "    </tr>\n",
              "    <tr>\n",
              "      <th>6</th>\n",
              "      <td>XGBoosT</td>\n",
              "      <td>0.634551</td>\n",
              "    </tr>\n",
              "  </tbody>\n",
              "</table>\n",
              "</div>\n",
              "      <button class=\"colab-df-convert\" onclick=\"convertToInteractive('df-4fb64a92-f68d-4875-a06d-be94d2277fb8')\"\n",
              "              title=\"Convert this dataframe to an interactive table.\"\n",
              "              style=\"display:none;\">\n",
              "        \n",
              "  <svg xmlns=\"http://www.w3.org/2000/svg\" height=\"24px\"viewBox=\"0 0 24 24\"\n",
              "       width=\"24px\">\n",
              "    <path d=\"M0 0h24v24H0V0z\" fill=\"none\"/>\n",
              "    <path d=\"M18.56 5.44l.94 2.06.94-2.06 2.06-.94-2.06-.94-.94-2.06-.94 2.06-2.06.94zm-11 1L8.5 8.5l.94-2.06 2.06-.94-2.06-.94L8.5 2.5l-.94 2.06-2.06.94zm10 10l.94 2.06.94-2.06 2.06-.94-2.06-.94-.94-2.06-.94 2.06-2.06.94z\"/><path d=\"M17.41 7.96l-1.37-1.37c-.4-.4-.92-.59-1.43-.59-.52 0-1.04.2-1.43.59L10.3 9.45l-7.72 7.72c-.78.78-.78 2.05 0 2.83L4 21.41c.39.39.9.59 1.41.59.51 0 1.02-.2 1.41-.59l7.78-7.78 2.81-2.81c.8-.78.8-2.07 0-2.86zM5.41 20L4 18.59l7.72-7.72 1.47 1.35L5.41 20z\"/>\n",
              "  </svg>\n",
              "      </button>\n",
              "      \n",
              "  <style>\n",
              "    .colab-df-container {\n",
              "      display:flex;\n",
              "      flex-wrap:wrap;\n",
              "      gap: 12px;\n",
              "    }\n",
              "\n",
              "    .colab-df-convert {\n",
              "      background-color: #E8F0FE;\n",
              "      border: none;\n",
              "      border-radius: 50%;\n",
              "      cursor: pointer;\n",
              "      display: none;\n",
              "      fill: #1967D2;\n",
              "      height: 32px;\n",
              "      padding: 0 0 0 0;\n",
              "      width: 32px;\n",
              "    }\n",
              "\n",
              "    .colab-df-convert:hover {\n",
              "      background-color: #E2EBFA;\n",
              "      box-shadow: 0px 1px 2px rgba(60, 64, 67, 0.3), 0px 1px 3px 1px rgba(60, 64, 67, 0.15);\n",
              "      fill: #174EA6;\n",
              "    }\n",
              "\n",
              "    [theme=dark] .colab-df-convert {\n",
              "      background-color: #3B4455;\n",
              "      fill: #D2E3FC;\n",
              "    }\n",
              "\n",
              "    [theme=dark] .colab-df-convert:hover {\n",
              "      background-color: #434B5C;\n",
              "      box-shadow: 0px 1px 3px 1px rgba(0, 0, 0, 0.15);\n",
              "      filter: drop-shadow(0px 1px 2px rgba(0, 0, 0, 0.3));\n",
              "      fill: #FFFFFF;\n",
              "    }\n",
              "  </style>\n",
              "\n",
              "      <script>\n",
              "        const buttonEl =\n",
              "          document.querySelector('#df-4fb64a92-f68d-4875-a06d-be94d2277fb8 button.colab-df-convert');\n",
              "        buttonEl.style.display =\n",
              "          google.colab.kernel.accessAllowed ? 'block' : 'none';\n",
              "\n",
              "        async function convertToInteractive(key) {\n",
              "          const element = document.querySelector('#df-4fb64a92-f68d-4875-a06d-be94d2277fb8');\n",
              "          const dataTable =\n",
              "            await google.colab.kernel.invokeFunction('convertToInteractive',\n",
              "                                                     [key], {});\n",
              "          if (!dataTable) return;\n",
              "\n",
              "          const docLinkHtml = 'Like what you see? Visit the ' +\n",
              "            '<a target=\"_blank\" href=https://colab.research.google.com/notebooks/data_table.ipynb>data table notebook</a>'\n",
              "            + ' to learn more about interactive tables.';\n",
              "          element.innerHTML = '';\n",
              "          dataTable['output_type'] = 'display_data';\n",
              "          await google.colab.output.renderOutput(dataTable, element);\n",
              "          const docLink = document.createElement('div');\n",
              "          docLink.innerHTML = docLinkHtml;\n",
              "          element.appendChild(docLink);\n",
              "        }\n",
              "      </script>\n",
              "    </div>\n",
              "  </div>\n",
              "  "
            ]
          },
          "metadata": {},
          "execution_count": 588
        }
      ]
    },
    {
      "cell_type": "code",
      "source": [
        "sns.barplot(x=\"Accuracy Score\", y= \"model\",data = models)\n",
        "models.sort_values(by = \"Accuracy Score\",ascending = False)"
      ],
      "metadata": {
        "colab": {
          "base_uri": "https://localhost:8080/",
          "height": 531
        },
        "id": "XtBJu4l1haJp",
        "outputId": "004db3ea-20b6-45f3-dd0f-7b69212f70d4"
      },
      "execution_count": null,
      "outputs": [
        {
          "output_type": "execute_result",
          "data": {
            "text/plain": [
              "                 model  Accuracy Score\n",
              "4                  SVM        0.704319\n",
              "3                  KNN        0.654867\n",
              "2        Random Forest        0.634551\n",
              "6              XGBoosT        0.634551\n",
              "5             AdaBoost        0.604651\n",
              "1        Decision Tree        0.590708\n",
              "0  Logistic Regression        0.586283"
            ],
            "text/html": [
              "\n",
              "  <div id=\"df-fca5a60f-16cc-44e2-b727-8c9a21f4589a\">\n",
              "    <div class=\"colab-df-container\">\n",
              "      <div>\n",
              "<style scoped>\n",
              "    .dataframe tbody tr th:only-of-type {\n",
              "        vertical-align: middle;\n",
              "    }\n",
              "\n",
              "    .dataframe tbody tr th {\n",
              "        vertical-align: top;\n",
              "    }\n",
              "\n",
              "    .dataframe thead th {\n",
              "        text-align: right;\n",
              "    }\n",
              "</style>\n",
              "<table border=\"1\" class=\"dataframe\">\n",
              "  <thead>\n",
              "    <tr style=\"text-align: right;\">\n",
              "      <th></th>\n",
              "      <th>model</th>\n",
              "      <th>Accuracy Score</th>\n",
              "    </tr>\n",
              "  </thead>\n",
              "  <tbody>\n",
              "    <tr>\n",
              "      <th>4</th>\n",
              "      <td>SVM</td>\n",
              "      <td>0.704319</td>\n",
              "    </tr>\n",
              "    <tr>\n",
              "      <th>3</th>\n",
              "      <td>KNN</td>\n",
              "      <td>0.654867</td>\n",
              "    </tr>\n",
              "    <tr>\n",
              "      <th>2</th>\n",
              "      <td>Random Forest</td>\n",
              "      <td>0.634551</td>\n",
              "    </tr>\n",
              "    <tr>\n",
              "      <th>6</th>\n",
              "      <td>XGBoosT</td>\n",
              "      <td>0.634551</td>\n",
              "    </tr>\n",
              "    <tr>\n",
              "      <th>5</th>\n",
              "      <td>AdaBoost</td>\n",
              "      <td>0.604651</td>\n",
              "    </tr>\n",
              "    <tr>\n",
              "      <th>1</th>\n",
              "      <td>Decision Tree</td>\n",
              "      <td>0.590708</td>\n",
              "    </tr>\n",
              "    <tr>\n",
              "      <th>0</th>\n",
              "      <td>Logistic Regression</td>\n",
              "      <td>0.586283</td>\n",
              "    </tr>\n",
              "  </tbody>\n",
              "</table>\n",
              "</div>\n",
              "      <button class=\"colab-df-convert\" onclick=\"convertToInteractive('df-fca5a60f-16cc-44e2-b727-8c9a21f4589a')\"\n",
              "              title=\"Convert this dataframe to an interactive table.\"\n",
              "              style=\"display:none;\">\n",
              "        \n",
              "  <svg xmlns=\"http://www.w3.org/2000/svg\" height=\"24px\"viewBox=\"0 0 24 24\"\n",
              "       width=\"24px\">\n",
              "    <path d=\"M0 0h24v24H0V0z\" fill=\"none\"/>\n",
              "    <path d=\"M18.56 5.44l.94 2.06.94-2.06 2.06-.94-2.06-.94-.94-2.06-.94 2.06-2.06.94zm-11 1L8.5 8.5l.94-2.06 2.06-.94-2.06-.94L8.5 2.5l-.94 2.06-2.06.94zm10 10l.94 2.06.94-2.06 2.06-.94-2.06-.94-.94-2.06-.94 2.06-2.06.94z\"/><path d=\"M17.41 7.96l-1.37-1.37c-.4-.4-.92-.59-1.43-.59-.52 0-1.04.2-1.43.59L10.3 9.45l-7.72 7.72c-.78.78-.78 2.05 0 2.83L4 21.41c.39.39.9.59 1.41.59.51 0 1.02-.2 1.41-.59l7.78-7.78 2.81-2.81c.8-.78.8-2.07 0-2.86zM5.41 20L4 18.59l7.72-7.72 1.47 1.35L5.41 20z\"/>\n",
              "  </svg>\n",
              "      </button>\n",
              "      \n",
              "  <style>\n",
              "    .colab-df-container {\n",
              "      display:flex;\n",
              "      flex-wrap:wrap;\n",
              "      gap: 12px;\n",
              "    }\n",
              "\n",
              "    .colab-df-convert {\n",
              "      background-color: #E8F0FE;\n",
              "      border: none;\n",
              "      border-radius: 50%;\n",
              "      cursor: pointer;\n",
              "      display: none;\n",
              "      fill: #1967D2;\n",
              "      height: 32px;\n",
              "      padding: 0 0 0 0;\n",
              "      width: 32px;\n",
              "    }\n",
              "\n",
              "    .colab-df-convert:hover {\n",
              "      background-color: #E2EBFA;\n",
              "      box-shadow: 0px 1px 2px rgba(60, 64, 67, 0.3), 0px 1px 3px 1px rgba(60, 64, 67, 0.15);\n",
              "      fill: #174EA6;\n",
              "    }\n",
              "\n",
              "    [theme=dark] .colab-df-convert {\n",
              "      background-color: #3B4455;\n",
              "      fill: #D2E3FC;\n",
              "    }\n",
              "\n",
              "    [theme=dark] .colab-df-convert:hover {\n",
              "      background-color: #434B5C;\n",
              "      box-shadow: 0px 1px 3px 1px rgba(0, 0, 0, 0.15);\n",
              "      filter: drop-shadow(0px 1px 2px rgba(0, 0, 0, 0.3));\n",
              "      fill: #FFFFFF;\n",
              "    }\n",
              "  </style>\n",
              "\n",
              "      <script>\n",
              "        const buttonEl =\n",
              "          document.querySelector('#df-fca5a60f-16cc-44e2-b727-8c9a21f4589a button.colab-df-convert');\n",
              "        buttonEl.style.display =\n",
              "          google.colab.kernel.accessAllowed ? 'block' : 'none';\n",
              "\n",
              "        async function convertToInteractive(key) {\n",
              "          const element = document.querySelector('#df-fca5a60f-16cc-44e2-b727-8c9a21f4589a');\n",
              "          const dataTable =\n",
              "            await google.colab.kernel.invokeFunction('convertToInteractive',\n",
              "                                                     [key], {});\n",
              "          if (!dataTable) return;\n",
              "\n",
              "          const docLinkHtml = 'Like what you see? Visit the ' +\n",
              "            '<a target=\"_blank\" href=https://colab.research.google.com/notebooks/data_table.ipynb>data table notebook</a>'\n",
              "            + ' to learn more about interactive tables.';\n",
              "          element.innerHTML = '';\n",
              "          dataTable['output_type'] = 'display_data';\n",
              "          await google.colab.output.renderOutput(dataTable, element);\n",
              "          const docLink = document.createElement('div');\n",
              "          docLink.innerHTML = docLinkHtml;\n",
              "          element.appendChild(docLink);\n",
              "        }\n",
              "      </script>\n",
              "    </div>\n",
              "  </div>\n",
              "  "
            ]
          },
          "metadata": {},
          "execution_count": 589
        },
        {
          "output_type": "display_data",
          "data": {
            "text/plain": [
              "<Figure size 432x288 with 1 Axes>"
            ],
            "image/png": "[encoded data removed]"
          },
          "metadata": {
            "needs_background": "light"
          }
        }
      ]
    },
    {
      "cell_type": "code",
      "source": [
        "v1=float(input(\"Enter PH vlaue  :\"))\n",
        "v1"
      ],
      "metadata": {
        "id": "lLctAvMVhaHV",
        "colab": {
          "base_uri": "https://localhost:8080/",
          "height": 328
        },
        "outputId": "baa56721-d970-406f-8f24-952ef5833598"
      },
      "execution_count": null,
      "outputs": [
        {
          "output_type": "error",
          "ename": "KeyboardInterrupt",
          "evalue": "ignored",
          "traceback": [
            "\u001b[0;31m---------------------------------------------------------------------------\u001b[0m",
            "\u001b[0;31mKeyboardInterrupt\u001b[0m                         Traceback (most recent call last)",
            "\u001b[0;32m<ipython-input-533-b98decc5fa86>\u001b[0m in \u001b[0;36m<module>\u001b[0;34m\u001b[0m\n\u001b[0;32m----> 1\u001b[0;31m \u001b[0mv1\u001b[0m\u001b[0;34m=\u001b[0m\u001b[0mfloat\u001b[0m\u001b[0;34m(\u001b[0m\u001b[0minput\u001b[0m\u001b[0;34m(\u001b[0m\u001b[0;34m\"Enter PH vlaue  :\"\u001b[0m\u001b[0;34m)\u001b[0m\u001b[0;34m)\u001b[0m\u001b[0;34m\u001b[0m\u001b[0;34m\u001b[0m\u001b[0m\n\u001b[0m\u001b[1;32m      2\u001b[0m \u001b[0mv1\u001b[0m\u001b[0;34m\u001b[0m\u001b[0;34m\u001b[0m\u001b[0m\n",
            "\u001b[0;32m/usr/local/lib/python3.8/dist-packages/ipykernel/kernelbase.py\u001b[0m in \u001b[0;36mraw_input\u001b[0;34m(self, prompt)\u001b[0m\n\u001b[1;32m    858\u001b[0m                 \u001b[0;34m\"raw_input was called, but this frontend does not support input requests.\"\u001b[0m\u001b[0;34m\u001b[0m\u001b[0;34m\u001b[0m\u001b[0m\n\u001b[1;32m    859\u001b[0m             )\n\u001b[0;32m--> 860\u001b[0;31m         return self._input_request(str(prompt),\n\u001b[0m\u001b[1;32m    861\u001b[0m             \u001b[0mself\u001b[0m\u001b[0;34m.\u001b[0m\u001b[0m_parent_ident\u001b[0m\u001b[0;34m,\u001b[0m\u001b[0;34m\u001b[0m\u001b[0;34m\u001b[0m\u001b[0m\n\u001b[1;32m    862\u001b[0m             \u001b[0mself\u001b[0m\u001b[0;34m.\u001b[0m\u001b[0m_parent_header\u001b[0m\u001b[0;34m,\u001b[0m\u001b[0;34m\u001b[0m\u001b[0;34m\u001b[0m\u001b[0m\n",
            "\u001b[0;32m/usr/local/lib/python3.8/dist-packages/ipykernel/kernelbase.py\u001b[0m in \u001b[0;36m_input_request\u001b[0;34m(self, prompt, ident, parent, password)\u001b[0m\n\u001b[1;32m    902\u001b[0m             \u001b[0;32mexcept\u001b[0m \u001b[0mKeyboardInterrupt\u001b[0m\u001b[0;34m:\u001b[0m\u001b[0;34m\u001b[0m\u001b[0;34m\u001b[0m\u001b[0m\n\u001b[1;32m    903\u001b[0m                 \u001b[0;31m# re-raise KeyboardInterrupt, to truncate traceback\u001b[0m\u001b[0;34m\u001b[0m\u001b[0;34m\u001b[0m\u001b[0;34m\u001b[0m\u001b[0m\n\u001b[0;32m--> 904\u001b[0;31m                 \u001b[0;32mraise\u001b[0m \u001b[0mKeyboardInterrupt\u001b[0m\u001b[0;34m(\u001b[0m\u001b[0;34m\"Interrupted by user\"\u001b[0m\u001b[0;34m)\u001b[0m \u001b[0;32mfrom\u001b[0m \u001b[0;32mNone\u001b[0m\u001b[0;34m\u001b[0m\u001b[0;34m\u001b[0m\u001b[0m\n\u001b[0m\u001b[1;32m    905\u001b[0m             \u001b[0;32mexcept\u001b[0m \u001b[0mException\u001b[0m \u001b[0;32mas\u001b[0m \u001b[0me\u001b[0m\u001b[0;34m:\u001b[0m\u001b[0;34m\u001b[0m\u001b[0;34m\u001b[0m\u001b[0m\n\u001b[1;32m    906\u001b[0m                 \u001b[0mself\u001b[0m\u001b[0;34m.\u001b[0m\u001b[0mlog\u001b[0m\u001b[0;34m.\u001b[0m\u001b[0mwarning\u001b[0m\u001b[0;34m(\u001b[0m\u001b[0;34m\"Invalid Message:\"\u001b[0m\u001b[0;34m,\u001b[0m \u001b[0mexc_info\u001b[0m\u001b[0;34m=\u001b[0m\u001b[0;32mTrue\u001b[0m\u001b[0;34m)\u001b[0m\u001b[0;34m\u001b[0m\u001b[0;34m\u001b[0m\u001b[0m\n",
            "\u001b[0;31mKeyboardInterrupt\u001b[0m: Interrupted by user"
          ]
        }
      ]
    },
    {
      "cell_type": "code",
      "source": [
        "v2=float(input(\"Enter Hardness vlaue :\"))\n",
        "v2"
      ],
      "metadata": {
        "id": "vwUR3DbZhqoG"
      },
      "execution_count": null,
      "outputs": []
    },
    {
      "cell_type": "code",
      "source": [
        "v3=float(input(\"Enter Solids vlaue  :\"))\n",
        "v3"
      ],
      "metadata": {
        "id": "sE8WGV_Bhqeb"
      },
      "execution_count": null,
      "outputs": []
    },
    {
      "cell_type": "code",
      "source": [
        "v4=float(input(\"Enter Chloramines vlaue  :\"))\n",
        "v4"
      ],
      "metadata": {
        "id": "2gyKsEJ2hqcV"
      },
      "execution_count": null,
      "outputs": []
    },
    {
      "cell_type": "code",
      "source": [
        "v5=float(input(\"Enter Sulfate vlaue  :\"))\n",
        "v5"
      ],
      "metadata": {
        "id": "yRuKQ-zIijSJ"
      },
      "execution_count": null,
      "outputs": []
    },
    {
      "cell_type": "code",
      "source": [
        "v6=float(input(\"Enter Conductivity vlaue  :\"))\n",
        "v6"
      ],
      "metadata": {
        "id": "JRih_BU8ijHT"
      },
      "execution_count": null,
      "outputs": []
    },
    {
      "cell_type": "code",
      "source": [
        "v7=float(input(\"Enter Organic_carbon vlaue :\"))\n",
        "v7"
      ],
      "metadata": {
        "id": "FkdT9HEgijEN"
      },
      "execution_count": null,
      "outputs": []
    },
    {
      "cell_type": "code",
      "source": [
        "v8=float(input(\"Enter Trihalomethanes vlaue :\"))\n",
        "v8"
      ],
      "metadata": {
        "id": "FO8yWsdNilIr"
      },
      "execution_count": null,
      "outputs": []
    },
    {
      "cell_type": "code",
      "source": [
        "v9=float(input(\"Enter Turbidity vlaue :\"))\n",
        "v9"
      ],
      "metadata": {
        "id": "msJDXbR9ilwh"
      },
      "execution_count": null,
      "outputs": []
    },
    {
      "cell_type": "code",
      "source": [
        "X_new = [[v1,v2,v3,v4,v5,v6,v7,v8,v9]]\n",
        "y_pred = model_svm.predict(X_new)\n",
        "print (y_pred)\n",
        "if (y_pred==1):\n",
        "  print (\"Potable\")\n",
        "else:\n",
        "  print(\" not Potabley\")"
      ],
      "metadata": {
        "id": "ZTkm-tRIjhFT"
      },
      "execution_count": null,
      "outputs": []
    },
    {
      "cell_type": "code",
      "source": [],
      "metadata": {
        "id": "Uo980iQ5jhDU"
      },
      "execution_count": null,
      "outputs": []
    },
    {
      "cell_type": "markdown",
      "source": [],
      "metadata": {
        "id": "1iCXgjfEiuS_"
      }
    },
    {
      "cell_type": "markdown",
      "source": [],
      "metadata": {
        "id": "KVl2yypCe7uy"
      }
    }
  ]
}